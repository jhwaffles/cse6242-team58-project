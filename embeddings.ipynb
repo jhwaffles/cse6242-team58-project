{
 "cells": [
  {
   "cell_type": "markdown",
   "id": "1267b3b3",
   "metadata": {},
   "source": [
    "# Imports"
   ]
  },
  {
   "cell_type": "code",
   "execution_count": null,
   "id": "acee3f25",
   "metadata": {
    "ExecuteTime": {
     "end_time": "2021-11-22T23:23:06.072691Z",
     "start_time": "2021-11-22T23:23:05.285752Z"
    }
   },
   "outputs": [],
   "source": [
    "import gensim\n",
    "import ujson as json\n",
    "import numpy as np\n",
    "import pandas as pd\n",
    "import logging\n",
    "logging.basicConfig(format='%(asctime)s : %(levelname)s : %(message)s', level=logging.INFO)"
   ]
  },
  {
   "cell_type": "markdown",
   "id": "e2f0f255",
   "metadata": {
    "ExecuteTime": {
     "end_time": "2021-11-18T08:07:41.374172Z",
     "start_time": "2021-11-18T08:07:41.372080Z"
    }
   },
   "source": [
    "# Prepare datasets"
   ]
  },
  {
   "cell_type": "code",
   "execution_count": null,
   "id": "fa704865",
   "metadata": {
    "ExecuteTime": {
     "end_time": "2021-11-22T23:23:13.405759Z",
     "start_time": "2021-11-22T23:23:11.763738Z"
    }
   },
   "outputs": [],
   "source": [
    "with open('data/joined_dev_set.json') as f:\n",
    "    data = json.load(f)\n",
    "    df = pd.json_normalize(data)\n",
    "    df = df.astype({'id': 'string'})\n",
    "    # Construct Molecule vectors\n",
    "    df['mols'] = df['flavor_molecules'].apply(lambda el: [str(m['pubchem_id']) for m in el])\n",
    "    # Build Tagged Document Corpus\n",
    "    df['mol_doc'] = df.apply(lambda r: gensim.models.doc2vec.TaggedDocument(r['mols'], [r['id']]), axis=1)\n",
    "    df['type'] = 'recipe'\n",
    "    \n",
    "with open('data/flavor_DB.json') as f:\n",
    "    data = json.load(f)\n",
    "    flavor_df = pd.json_normalize(data)\n",
    "    flavor_df = flavor_df.rename(columns={'entity_id': 'id', 'entity_alias_readable': 'food'})\n",
    "    flavor_df['id'] = flavor_df['id'].apply(lambda i: f\"ing-{i}\" )\n",
    "    # Construct Document vectors\n",
    "    flavor_df['mols'] = flavor_df['molecules'].apply(lambda el: [str(m['pubchem_id']) for m in el])\n",
    "    # Build Tagged Document Corpus\n",
    "    flavor_df['mol_doc'] = flavor_df.apply(lambda r: gensim.models.doc2vec.TaggedDocument(r['mols'], [r['id']]), axis=1)\n",
    "    # Annotate documnet lengths\n",
    "    flavor_df['molecules_count'] = flavor_df['mols'].apply(lambda el: len(el))\n",
    "    flavor_df['type'] = 'ingredient'\n",
    "\n",
    "    \n",
    "df = pd.concat([df, flavor_df])\n",
    "df.reset_index(drop=True, inplace=True)\n",
    "del flavor_df"
   ]
  },
  {
   "cell_type": "markdown",
   "id": "11d6828b",
   "metadata": {},
   "source": [
    "# HyperParameters"
   ]
  },
  {
   "cell_type": "code",
   "execution_count": null,
   "id": "d6ca4f4e",
   "metadata": {
    "ExecuteTime": {
     "end_time": "2021-11-23T00:47:56.619732Z",
     "start_time": "2021-11-23T00:47:56.616592Z"
    },
    "scrolled": false
   },
   "outputs": [],
   "source": [
    "MODEL = 0 # PV-DBOW\n",
    "VECTOR_SIZE = 300\n",
    "WINDOW_SIZE = df['molecules_count'].max() \n",
    "EPOCHS = 40\n",
    "DIM_REDUCTION = 3"
   ]
  },
  {
   "cell_type": "markdown",
   "id": "80984705",
   "metadata": {
    "ExecuteTime": {
     "end_time": "2021-11-18T08:07:45.262719Z",
     "start_time": "2021-11-18T08:07:45.260516Z"
    }
   },
   "source": [
    "# Train Model"
   ]
  },
  {
   "cell_type": "code",
   "execution_count": null,
   "id": "ac391766",
   "metadata": {
    "ExecuteTime": {
     "end_time": "2021-11-22T23:23:15.302836Z",
     "start_time": "2021-11-22T23:23:15.183458Z"
    },
    "scrolled": true
   },
   "outputs": [],
   "source": [
    "model = gensim.models.doc2vec.Doc2Vec(dm=MODEL, vector_size=VECTOR_SIZE, window=WINDOW_SIZE, epochs=EPOCHS)\n",
    "model.build_vocab(df['mol_doc'])"
   ]
  },
  {
   "cell_type": "code",
   "execution_count": null,
   "id": "ec31d52d",
   "metadata": {
    "ExecuteTime": {
     "end_time": "2021-11-22T23:23:24.510576Z",
     "start_time": "2021-11-22T23:23:16.035758Z"
    },
    "scrolled": false
   },
   "outputs": [],
   "source": [
    "model.train(df['mol_doc'], total_examples=model.corpus_count, epochs=model.epochs)"
   ]
  },
  {
   "cell_type": "code",
   "execution_count": null,
   "id": "675a25a8",
   "metadata": {
    "ExecuteTime": {
     "end_time": "2021-11-22T23:23:25.311939Z",
     "start_time": "2021-11-22T23:23:25.309626Z"
    }
   },
   "outputs": [],
   "source": [
    "# Search for similar flavor vecotrs"
   ]
  },
  {
   "cell_type": "code",
   "execution_count": null,
   "id": "18b1bd29",
   "metadata": {
    "ExecuteTime": {
     "end_time": "2021-11-22T23:23:25.648758Z",
     "start_time": "2021-11-22T23:23:25.644746Z"
    }
   },
   "outputs": [],
   "source": [
    "def random_suggestion():\n",
    "    row = df.sample(n=1)\n",
    "    flavor_vec = model.infer_vector(row.iloc[0]['mol_doc'].words)\n",
    "    similars = model.dv.most_similar(flavor_vec)\n",
    "    s_df = pd.DataFrame(similars, columns=['id','similarity']).astype({'id': 'string'})\n",
    "    return pd.concat([row[['id','food']], s_df.merge(df, on='id', how='left')[['id','similarity','food']] ])"
   ]
  },
  {
   "cell_type": "code",
   "execution_count": null,
   "id": "81a26c30",
   "metadata": {
    "ExecuteTime": {
     "end_time": "2021-11-22T23:23:26.116475Z",
     "start_time": "2021-11-22T23:23:26.067478Z"
    }
   },
   "outputs": [],
   "source": [
    "random_suggestion()"
   ]
  },
  {
   "cell_type": "markdown",
   "id": "b96be15c",
   "metadata": {
    "ExecuteTime": {
     "end_time": "2021-11-18T14:05:47.712122Z",
     "start_time": "2021-11-18T14:05:47.710113Z"
    }
   },
   "source": [
    "# Dimensional Reduction"
   ]
  },
  {
   "cell_type": "code",
   "execution_count": null,
   "id": "cc36a8cb",
   "metadata": {
    "ExecuteTime": {
     "end_time": "2021-11-23T00:48:02.771735Z",
     "start_time": "2021-11-23T00:48:02.769418Z"
    }
   },
   "outputs": [],
   "source": [
    "import umap.umap_ as umap"
   ]
  },
  {
   "cell_type": "code",
   "execution_count": null,
   "id": "90162785",
   "metadata": {
    "ExecuteTime": {
     "end_time": "2021-11-23T00:48:07.336127Z",
     "start_time": "2021-11-23T00:48:03.189698Z"
    }
   },
   "outputs": [],
   "source": [
    "reducer = umap.UMAP(n_components=DIM_REDUCTION)\n",
    "projection = reducer.fit_transform(model.dv.vectors) # model.dv.index_to_key \n",
    "projection"
   ]
  },
  {
   "cell_type": "markdown",
   "id": "1b5fae2a",
   "metadata": {
    "ExecuteTime": {
     "end_time": "2021-11-18T14:06:38.988824Z",
     "start_time": "2021-11-18T14:06:38.986618Z"
    }
   },
   "source": [
    "# Visualize Flavor Space"
   ]
  },
  {
   "cell_type": "code",
   "execution_count": null,
   "id": "20823801",
   "metadata": {
    "ExecuteTime": {
     "end_time": "2021-11-23T00:48:08.873977Z",
     "start_time": "2021-11-23T00:48:08.863427Z"
    }
   },
   "outputs": [],
   "source": [
    "import seaborn as sns\n",
    "import matplotlib.pyplot as plt\n",
    "\n",
    "from bokeh.layouts import column\n",
    "from bokeh.plotting import figure, show, output_notebook\n",
    "from bokeh.models import ( \n",
    "    HoverTool, ColumnDataSource, Callback, DataTable, TableColumn,\n",
    "    CustomJS, CategoricalColorMapper, CategoricalMarkerMapper, LinearColorMapper\n",
    ")\n",
    "from bokeh.transform import linear_cmap\n",
    "from bokeh.palettes import Cividis256, Magma256\n",
    "\n",
    "sns.set(style='white', context='notebook', rc={'figure.figsize':(14,10)})\n",
    "output_notebook()"
   ]
  },
  {
   "cell_type": "code",
   "execution_count": null,
   "id": "84f98e77",
   "metadata": {
    "ExecuteTime": {
     "end_time": "2021-11-23T00:48:09.313011Z",
     "start_time": "2021-11-23T00:48:09.310922Z"
    }
   },
   "outputs": [],
   "source": [
    "# Debug: check flavor space\n",
    "# plt.scatter(projection[:,0], projection[:,1])"
   ]
  },
  {
   "cell_type": "code",
   "execution_count": null,
   "id": "f5dde2a3",
   "metadata": {
    "ExecuteTime": {
     "end_time": "2021-11-23T00:48:20.793713Z",
     "start_time": "2021-11-23T00:48:20.788545Z"
    }
   },
   "outputs": [],
   "source": [
    "projection_df = pd.DataFrame(projection, columns=('x', 'y', 'z'))\n",
    "projection_df['id'] = model.dv.index_to_key\n",
    "projection_df['food'] = df['food']\n",
    "projection_df['type'] = df['type']\n",
    "selected_indexes = []"
   ]
  },
  {
   "cell_type": "code",
   "execution_count": null,
   "id": "39001705",
   "metadata": {
    "ExecuteTime": {
     "end_time": "2021-11-23T00:48:21.353223Z",
     "start_time": "2021-11-23T00:48:21.237645Z"
    }
   },
   "outputs": [],
   "source": [
    "\n",
    "p1 = figure(\n",
    "    title='UMAP projection of the Flavor Space',\n",
    "    plot_width=800,\n",
    "    plot_height=800,\n",
    "    tools=('pan, wheel_zoom, reset, lasso_select')\n",
    ")\n",
    "\n",
    "p1.add_tools(HoverTool(tooltips=\"\"\"\n",
    "<div>\n",
    "    <div>\n",
    "        <span style='font-size: 16px; color: #224499'>ID: @id</span>\n",
    "        <span style='font-size: 18px'>@food</span>\n",
    "    </div>\n",
    "</div>\n",
    "\"\"\"))\n",
    "\n",
    "\n",
    "s1 = ColumnDataSource(projection_df)\n",
    "color_map = LinearColorMapper(palette=Magma256, low=projection_df['z'].min(), high=projection_df['z'].max())\n",
    "marker_map = CategoricalMarkerMapper(factors=projection_df['type'].unique(), markers=['circle', 'triangle'])\n",
    "\n",
    "p1.scatter(\n",
    "    'x',\n",
    "    'y',\n",
    "    source=s1,\n",
    "    marker=dict(field='type', transform=marker_map),\n",
    "    color=dict(field='z', transform=color_map),\n",
    "    line_alpha=0.6,\n",
    "    fill_alpha=0.6,\n",
    "    size=6\n",
    ")\n",
    "\n",
    "s2 = ColumnDataSource(dict(id=[],food=[]))\n",
    "p2 = DataTable(source=s2, columns=[\n",
    "    TableColumn(field='id'),\n",
    "    TableColumn(field='food')\n",
    "])\n",
    "\n",
    "s1.selected.js_on_change('indices', \n",
    "     CustomJS(args=dict(s1=s1, s2=s2), \n",
    "              code=\"\"\"\n",
    "                var selected_indexes = cb_obj.indices;\n",
    "                s2.data['id'] = [];\n",
    "                s2.data['food'] = [];\n",
    "                for (let i=0;i<selected_indexes.length;i++){\n",
    "                    s2.data['id'].push(s1.data['id'][selected_indexes[i]])\n",
    "                    s2.data['food'].push(s1.data['food'][selected_indexes[i]])\n",
    "                }                \n",
    "                var kernel = IPython.notebook.kernel;\n",
    "                IPython.notebook.kernel.execute(\"selected_indexes = \" + selected_indexes);\n",
    "                s2.change.emit();\n",
    "                \"\"\"\n",
    "             )\n",
    ")\n",
    "\n",
    "\n",
    "layout = column(p1, p2)\n",
    "show(layout)"
   ]
  },
  {
   "cell_type": "code",
   "execution_count": null,
   "id": "60607006",
   "metadata": {
    "ExecuteTime": {
     "end_time": "2021-11-23T00:46:09.089222Z",
     "start_time": "2021-11-23T00:46:08.829674Z"
    },
    "scrolled": false
   },
   "outputs": [],
   "source": [
    "df[df['food'].str.contains('Garlic')]"
   ]
  },
  {
   "cell_type": "code",
   "execution_count": null,
   "id": "6475882f",
   "metadata": {
    "ExecuteTime": {
     "end_time": "2021-11-23T00:46:13.461780Z",
     "start_time": "2021-11-23T00:46:13.294672Z"
    }
   },
   "outputs": [],
   "source": [
    "df.loc[[1259,1364,1339]]"
   ]
  },
  {
   "cell_type": "code",
   "execution_count": null,
   "id": "601db0a4",
   "metadata": {
    "ExecuteTime": {
     "end_time": "2021-11-23T00:46:16.163449Z",
     "start_time": "2021-11-23T00:46:16.144353Z"
    }
   },
   "outputs": [],
   "source": [
    "similars = model.dv.most_similar( model.dv.vectors[1259] + model.dv.vectors[1364] + model.dv.vectors[1339] )\n",
    "s_df = pd.DataFrame(similars, columns=['id','similarity']).astype({'id': 'string'})\n",
    "s_df.merge(df, on='id', how='left')[['id','similarity','food']]"
   ]
  },
  {
   "cell_type": "code",
   "execution_count": null,
   "id": "1a6ab42b",
   "metadata": {
    "ExecuteTime": {
     "end_time": "2021-11-23T00:34:02.461289Z",
     "start_time": "2021-11-23T00:34:02.456037Z"
    }
   },
   "outputs": [],
   "source": [
    "list(df[df['id'] == '3c55f46ddf']['unique_ingredient'])"
   ]
  },
  {
   "cell_type": "code",
   "execution_count": null,
   "id": "5b133281",
   "metadata": {
    "ExecuteTime": {
     "end_time": "2021-11-23T00:26:50.586182Z",
     "start_time": "2021-11-23T00:26:50.581129Z"
    }
   },
   "outputs": [],
   "source": [
    "df[df['id'] == 'd7c6d60f0a'].columns"
   ]
  },
  {
   "cell_type": "code",
   "execution_count": null,
   "id": "f92e4199",
   "metadata": {
    "ExecuteTime": {
     "end_time": "2021-11-23T00:36:37.495961Z",
     "start_time": "2021-11-23T00:36:37.490300Z"
    }
   },
   "outputs": [],
   "source": [
    "len(df[df['type'] == 'ingredient'])"
   ]
  },
  {
   "cell_type": "code",
   "execution_count": null,
   "id": "53dd724c",
   "metadata": {},
   "outputs": [],
   "source": []
  }
 ],
 "metadata": {
  "kernelspec": {
   "display_name": "Python 3 (ipykernel)",
   "language": "python",
   "name": "python3"
  },
  "language_info": {
   "codemirror_mode": {
    "name": "ipython",
    "version": 3
   },
   "file_extension": ".py",
   "mimetype": "text/x-python",
   "name": "python",
   "nbconvert_exporter": "python",
   "pygments_lexer": "ipython3",
   "version": "3.9.7"
  }
 },
 "nbformat": 4,
 "nbformat_minor": 5
}

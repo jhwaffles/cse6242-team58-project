{
 "cells": [
  {
   "cell_type": "markdown",
   "id": "c91d4b50",
   "metadata": {},
   "source": [
    "# Imports"
   ]
  },
  {
   "cell_type": "code",
   "execution_count": 1,
   "id": "acee3f25",
   "metadata": {
    "ExecuteTime": {
     "end_time": "2021-11-27T01:03:54.549432Z",
     "start_time": "2021-11-27T01:03:49.206792Z"
    }
   },
   "outputs": [],
   "source": [
    "import gensim\n",
    "import ujson as json\n",
    "import numpy as np\n",
    "import pandas as pd\n",
    "import seaborn as sns\n",
    "import matplotlib.pyplot as plt\n",
    "import logging\n",
    "from collections import defaultdict\n",
    "sns.set(style='white', context='notebook', rc={'figure.figsize':(14,10)})\n",
    "logging.basicConfig(format='%(asctime)s : %(levelname)s : %(message)s', level=logging.INFO)"
   ]
  },
  {
   "cell_type": "code",
   "execution_count": 2,
   "id": "6e230f6c",
   "metadata": {
    "ExecuteTime": {
     "end_time": "2021-11-27T01:03:55.868335Z",
     "start_time": "2021-11-27T01:03:55.865613Z"
    }
   },
   "outputs": [],
   "source": [
    "LOAD_FROM_FILE = True\n",
    "DATAFRAME_FILE = 'data/flavor_space.parquet'\n",
    "FLAVMOL_FILE = 'data/flavor_mol.parquet'\n",
    "MODEL_FILES = {'cbow': 'data/flavor2vec-cbow.model', 'skip': 'data/flavor2vec-skipgram.model'}"
   ]
  },
  {
   "cell_type": "code",
   "execution_count": 67,
   "id": "6c74b35d-d199-4efe-9213-a9b075a6a793",
   "metadata": {},
   "outputs": [],
   "source": [
    "## fix issue when different version of gensim is used\n",
    "from pip._vendor import pkg_resources\n",
    "\n",
    "def get_version(package):\n",
    "    package = package.lower()\n",
    "    return next((p.version for p in pkg_resources.working_set if p.project_name.lower() == package), \"No match\")\n",
    "gensim_version = int(get_version(\"gensim\").split(\".\")[0] )"
   ]
  },
  {
   "cell_type": "markdown",
   "id": "bca43051",
   "metadata": {
    "ExecuteTime": {
     "end_time": "2021-11-18T08:07:41.374172Z",
     "start_time": "2021-11-18T08:07:41.372080Z"
    }
   },
   "source": [
    "# Prepare datasets"
   ]
  },
  {
   "cell_type": "code",
   "execution_count": 4,
   "id": "ea5ecf29",
   "metadata": {
    "ExecuteTime": {
     "end_time": "2021-11-27T01:04:25.358436Z",
     "start_time": "2021-11-27T01:03:57.173756Z"
    }
   },
   "outputs": [],
   "source": [
    "if LOAD_FROM_FILE:\n",
    "    df = pd.read_parquet(DATAFRAME_FILE)\n",
    "    mol_df = pd.read_parquet(FLAVMOL_FILE)\n",
    "else:\n",
    "    with open('data/full_set.json') as f:\n",
    "        data = json.load(f)\n",
    "        df = pd.json_normalize(data)\n",
    "        df = df.astype({'id': 'string'})\n",
    "        # Construct Molecule vectors\n",
    "        df['mols'] = df['flavor_molecules'].apply(lambda el: [str(m['pubchem_id']) for m in el])        \n",
    "        df['type'] = 'recipe'\n",
    "\n",
    "    with open('data/raw_flavor_DB.json') as f:\n",
    "        data = json.load(f)\n",
    "        flavor_df = pd.json_normalize(data)\n",
    "        flavor_df = flavor_df.rename(columns={'entity_id': 'id', 'entity_alias_readable': 'food'})\n",
    "        flavor_df['id'] = flavor_df['id'].apply(lambda i: f\"ing-{i}\" )\n",
    "        # Construct Document vectors\n",
    "        flavor_df['mols'] = flavor_df['molecules'].apply(lambda el: [str(m['pubchem_id']) for m in el])        \n",
    "        # Annotate documnet lengths\n",
    "        flavor_df['molecules_count'] = flavor_df['mols'].apply(lambda el: len(el))\n",
    "        flavor_df['type'] = 'ingredient'\n",
    "        mol_df =  pd.DataFrame(list(flavor_df.molecules.explode())).drop_duplicates(subset=['pubchem_id'])\n",
    "\n",
    "    df = pd.concat([df, flavor_df])\n",
    "    df.reset_index(drop=True, inplace=True)    \n",
    "    del flavor_df, data\n",
    "    \n",
    "# Build Tagged Document Corpus\n",
    "df['mol_doc'] = df.apply(lambda r: gensim.models.doc2vec.TaggedDocument(r['mols'], [r['id']]), axis=1)    "
   ]
  },
  {
   "cell_type": "markdown",
   "id": "8a19f922",
   "metadata": {},
   "source": [
    "# HyperParameters"
   ]
  },
  {
   "cell_type": "code",
   "execution_count": 5,
   "id": "11e8b63b",
   "metadata": {
    "ExecuteTime": {
     "end_time": "2021-11-27T01:04:27.270545Z",
     "start_time": "2021-11-27T01:04:27.267223Z"
    }
   },
   "outputs": [],
   "source": [
    "MODEL = 'cbow'\n",
    "VECTOR_SIZE = 300\n",
    "WINDOW_SIZE = df['molecules_count'].max() \n",
    "EPOCHS = 40\n",
    "DIM_REDUCTION = 3"
   ]
  },
  {
   "cell_type": "markdown",
   "id": "d5c64920",
   "metadata": {
    "ExecuteTime": {
     "end_time": "2021-11-18T08:07:45.262719Z",
     "start_time": "2021-11-18T08:07:45.260516Z"
    }
   },
   "source": [
    "# Train Model"
   ]
  },
  {
   "cell_type": "code",
   "execution_count": 6,
   "id": "b4579301",
   "metadata": {
    "ExecuteTime": {
     "end_time": "2021-11-27T01:04:28.926562Z",
     "start_time": "2021-11-27T01:04:28.820433Z"
    },
    "scrolled": true
   },
   "outputs": [
    {
     "name": "stderr",
     "output_type": "stream",
     "text": [
      "2021-11-26 18:14:43,938 : INFO : loading Doc2Vec object from data/flavor2vec-cbow.model\n",
      "2021-11-26 18:14:43,960 : INFO : loading dv recursively from data/flavor2vec-cbow.model.dv.* with mmap=None\n",
      "2021-11-26 18:14:43,960 : INFO : loading vectors from data/flavor2vec-cbow.model.dv.vectors.npy with mmap=None\n",
      "2021-11-26 18:14:44,009 : INFO : loading wv recursively from data/flavor2vec-cbow.model.wv.* with mmap=None\n",
      "2021-11-26 18:14:44,009 : INFO : setting ignored attribute cum_table to None\n",
      "2021-11-26 18:14:44,154 : INFO : Doc2Vec lifecycle event {'fname': 'data/flavor2vec-cbow.model', 'datetime': '2021-11-26T18:14:44.026405', 'gensim': '4.0.1', 'python': '3.9.6 | packaged by conda-forge | (default, Jul 11 2021, 03:36:15) \\n[Clang 11.1.0 ]', 'platform': 'macOS-12.0.1-x86_64-i386-64bit', 'event': 'loaded'}\n"
     ]
    }
   ],
   "source": [
    "if LOAD_FROM_FILE:\n",
    "    model = gensim.models.doc2vec.Doc2Vec.load(MODEL_FILES[MODEL])\n",
    "else:\n",
    "    m = {'cbow': 0, 'skip': 1}[MODEL]\n",
    "    model = gensim.models.doc2vec.Doc2Vec(dm=m, vector_size=VECTOR_SIZE, window=WINDOW_SIZE, epochs=EPOCHS)\n",
    "    model.build_vocab(df['mol_doc'])\n",
    "    model.train(df['mol_doc'], total_examples=model.corpus_count, epochs=model.epochs)\n",
    "    model.save(MODEL_FILES[MODEL])"
   ]
  },
  {
   "cell_type": "markdown",
   "id": "761e1613",
   "metadata": {
    "ExecuteTime": {
     "end_time": "2021-11-23T02:11:34.263729Z",
     "start_time": "2021-11-23T02:11:34.261286Z"
    }
   },
   "source": [
    "# Random Flavor Neighborhood"
   ]
  },
  {
   "cell_type": "code",
   "execution_count": 68,
   "id": "f1bc946e",
   "metadata": {
    "ExecuteTime": {
     "end_time": "2021-11-27T01:04:32.198420Z",
     "start_time": "2021-11-27T01:04:32.052179Z"
    }
   },
   "outputs": [
    {
     "data": {
      "text/html": [
       "<div>\n",
       "<style scoped>\n",
       "    .dataframe tbody tr th:only-of-type {\n",
       "        vertical-align: middle;\n",
       "    }\n",
       "\n",
       "    .dataframe tbody tr th {\n",
       "        vertical-align: top;\n",
       "    }\n",
       "\n",
       "    .dataframe thead th {\n",
       "        text-align: right;\n",
       "    }\n",
       "</style>\n",
       "<table border=\"1\" class=\"dataframe\">\n",
       "  <thead>\n",
       "    <tr style=\"text-align: right;\">\n",
       "      <th></th>\n",
       "      <th>id</th>\n",
       "      <th>food</th>\n",
       "      <th>similarity</th>\n",
       "    </tr>\n",
       "  </thead>\n",
       "  <tbody>\n",
       "    <tr>\n",
       "      <th>46374</th>\n",
       "      <td>e78b0fdcf0</td>\n",
       "      <td>X-Rated</td>\n",
       "      <td>NaN</td>\n",
       "    </tr>\n",
       "    <tr>\n",
       "      <th>0</th>\n",
       "      <td>98e7ba629b</td>\n",
       "      <td>Concord Grape Juice</td>\n",
       "      <td>0.961593</td>\n",
       "    </tr>\n",
       "    <tr>\n",
       "      <th>1</th>\n",
       "      <td>ace9bdefa4</td>\n",
       "      <td>Five-Minute No-Churn Grapefruit Gelato</td>\n",
       "      <td>0.961583</td>\n",
       "    </tr>\n",
       "    <tr>\n",
       "      <th>2</th>\n",
       "      <td>a60bed4c58</td>\n",
       "      <td>Grape-Tini</td>\n",
       "      <td>0.961468</td>\n",
       "    </tr>\n",
       "    <tr>\n",
       "      <th>3</th>\n",
       "      <td>ba49dbb69a</td>\n",
       "      <td>Grape Granita</td>\n",
       "      <td>0.961189</td>\n",
       "    </tr>\n",
       "    <tr>\n",
       "      <th>4</th>\n",
       "      <td>950e875bfa</td>\n",
       "      <td>Garbage Disposal Cleaner</td>\n",
       "      <td>0.961057</td>\n",
       "    </tr>\n",
       "    <tr>\n",
       "      <th>5</th>\n",
       "      <td>ba1557f9cf</td>\n",
       "      <td>V's Tini</td>\n",
       "      <td>0.961046</td>\n",
       "    </tr>\n",
       "    <tr>\n",
       "      <th>6</th>\n",
       "      <td>81df6e8466</td>\n",
       "      <td>Grape Cubes</td>\n",
       "      <td>0.959993</td>\n",
       "    </tr>\n",
       "    <tr>\n",
       "      <th>7</th>\n",
       "      <td>a3443d28ca</td>\n",
       "      <td>Grapes Elizabeth</td>\n",
       "      <td>0.959719</td>\n",
       "    </tr>\n",
       "    <tr>\n",
       "      <th>8</th>\n",
       "      <td>bd76fd8581</td>\n",
       "      <td>Grapefruit Granita</td>\n",
       "      <td>0.959699</td>\n",
       "    </tr>\n",
       "    <tr>\n",
       "      <th>9</th>\n",
       "      <td>9f1a9af882</td>\n",
       "      <td>Frozen Grapes</td>\n",
       "      <td>0.959617</td>\n",
       "    </tr>\n",
       "  </tbody>\n",
       "</table>\n",
       "</div>"
      ],
      "text/plain": [
       "               id                                    food  similarity\n",
       "46374  e78b0fdcf0                                 X-Rated         NaN\n",
       "0      98e7ba629b                     Concord Grape Juice    0.961593\n",
       "1      ace9bdefa4  Five-Minute No-Churn Grapefruit Gelato    0.961583\n",
       "2      a60bed4c58                              Grape-Tini    0.961468\n",
       "3      ba49dbb69a                           Grape Granita    0.961189\n",
       "4      950e875bfa                Garbage Disposal Cleaner    0.961057\n",
       "5      ba1557f9cf                                V's Tini    0.961046\n",
       "6      81df6e8466                             Grape Cubes    0.959993\n",
       "7      a3443d28ca                        Grapes Elizabeth    0.959719\n",
       "8      bd76fd8581                      Grapefruit Granita    0.959699\n",
       "9      9f1a9af882                           Frozen Grapes    0.959617"
      ]
     },
     "execution_count": 68,
     "metadata": {},
     "output_type": "execute_result"
    }
   ],
   "source": [
    "def random_suggestion():\n",
    "    row = df.sample(n=1)\n",
    "    flavor_vec = model.infer_vector(row.iloc[0]['mol_doc'].words)\n",
    "    if gensim_version >= 4:\n",
    "         similars = model.dv.most_similar(positive=[flavor_vec])\n",
    "    else:\n",
    "        similars = model.dv.most_similar(flavor_vec)\n",
    "   \n",
    "    s_df = pd.DataFrame(similars, columns=['id','similarity']).astype({'id': 'string'})\n",
    "    return pd.concat([row[['id','food']], s_df.merge(df, on='id', how='left')[['id','similarity','food']] ])\n",
    "\n",
    "random_suggestion()"
   ]
  },
  {
   "cell_type": "markdown",
   "id": "27a61005",
   "metadata": {
    "ExecuteTime": {
     "end_time": "2021-11-23T19:06:46.353426Z",
     "start_time": "2021-11-23T19:06:46.351266Z"
    }
   },
   "source": [
    "# Identity Accuracy (Top-k ROC)"
   ]
  },
  {
   "cell_type": "code",
   "execution_count": 78,
   "id": "b2f9e237",
   "metadata": {
    "ExecuteTime": {
     "end_time": "2021-11-27T01:04:38.042645Z",
     "start_time": "2021-11-27T01:04:38.013505Z"
    }
   },
   "outputs": [],
   "source": [
    "def roc(df, model, max_topn=2):\n",
    "    \"\"\"\n",
    "    returns: [(k, TPR, FPR)...]\n",
    "    \"\"\"\n",
    "    total = len(df)\n",
    "    accuracy = defaultdict(lambda: defaultdict(int)) # {topn: (tp, fp) }\n",
    "    for i,row in df.iterrows():\n",
    "        flavor_vec = model.infer_vector(row['mol_doc'].words)\n",
    "        similars = model.dv.most_similar(flavor_vec, topn=max_topn)\n",
    "        for j,s in enumerate(similars):\n",
    "            t = j\n",
    "            if row['id'] == s[0]:                    \n",
    "                for tt in range(t,max_topn+1):\n",
    "                    accuracy[tt]['tp'] += 1                \n",
    "                break\n",
    "            else:\n",
    "                accuracy[t]['fp'] += 1        \n",
    "    return pd.DataFrame(\n",
    "        [(0,0,0)]+[(i, accuracy[i]['tp']/total, accuracy[i]['fp']/total) for i in range(max_topn+1)],\n",
    "        columns=[\"top-k\", \"TPR\", \"FPR\"]\n",
    "    )\n",
    "\n",
    "if LOAD_FROM_FILE:\n",
    "    cbow_roc = pd.read_parquet('data/cbow_roc.parquet')\n",
    "    skip_roc = pd.read_parquet('data/skip_roc.parquet')\n",
    "else:\n",
    "    cbow = gensim.models.doc2vec.Doc2Vec.load('data/flavor2vec-cbow.model')\n",
    "    skipgram = gensim.models.doc2vec.Doc2Vec.load('data/flavor2vec-skipgram.model')\n",
    "    cbow_roc = roc(df, cbow, max_topn=25)\n",
    "    skip_roc = roc(df, skipgram, max_topn=25)\n",
    "    cbow_roc.to_parquet('data/cbow_roc.parquet')\n",
    "    skip_roc.to_parquet('data/skip_roc.parquet')    "
   ]
  },
  {
   "cell_type": "code",
   "execution_count": 70,
   "id": "23f51ebb",
   "metadata": {
    "ExecuteTime": {
     "end_time": "2021-11-27T01:04:39.783949Z",
     "start_time": "2021-11-27T01:04:39.557685Z"
    }
   },
   "outputs": [
    {
     "data": {
      "image/png": "[encoded data removed]",
      "text/plain": [
       "<Figure size 1008x720 with 1 Axes>"
      ]
     },
     "metadata": {},
     "output_type": "display_data"
    }
   ],
   "source": [
    "plt.plot(cbow_roc['top-k'], cbow_roc['TPR'], label='CBOW')\n",
    "plt.plot(skip_roc['top-k'], skip_roc['TPR'], label='Skip-gram')\n",
    "plt.xlabel(\"Top-k\")\n",
    "plt.ylabel(\"True Positive Rate\")\n",
    "plt.title(\"Receiver operating characteristic\")\n",
    "plt.legend()\n",
    "plt.show()"
   ]
  },
  {
   "cell_type": "markdown",
   "id": "1daf0243",
   "metadata": {
    "ExecuteTime": {
     "end_time": "2021-11-18T14:05:47.712122Z",
     "start_time": "2021-11-18T14:05:47.710113Z"
    }
   },
   "source": [
    "# Dimensional Reduction"
   ]
  },
  {
   "cell_type": "code",
   "execution_count": 11,
   "id": "de1bb94c",
   "metadata": {
    "ExecuteTime": {
     "end_time": "2021-11-27T01:04:47.767732Z",
     "start_time": "2021-11-27T01:04:42.343147Z"
    }
   },
   "outputs": [],
   "source": [
    "import umap.umap_ as umap"
   ]
  },
  {
   "cell_type": "code",
   "execution_count": 12,
   "id": "f1c34496",
   "metadata": {
    "ExecuteTime": {
     "end_time": "2021-11-27T01:05:17.844290Z",
     "start_time": "2021-11-27T01:04:48.663051Z"
    }
   },
   "outputs": [
    {
     "name": "stderr",
     "output_type": "stream",
     "text": [
      "OMP: Info #271: omp_set_nested routine deprecated, please use omp_set_max_active_levels instead.\n"
     ]
    },
    {
     "data": {
      "text/plain": [
       "array([[ 4.3832474,  4.3331575, -2.5277116],\n",
       "       [13.271041 ,  5.4183044,  1.6172146],\n",
       "       [ 9.5246935,  2.588622 ,  3.2634985],\n",
       "       ...,\n",
       "       [ 9.397301 , -4.6644154, 10.659061 ],\n",
       "       [ 9.387728 , -4.662219 , 10.661482 ],\n",
       "       [ 9.306518 , -4.632393 , 10.662964 ]], dtype=float32)"
      ]
     },
     "execution_count": 12,
     "metadata": {},
     "output_type": "execute_result"
    }
   ],
   "source": [
    "reducer = umap.UMAP(n_components=DIM_REDUCTION)\n",
    "projection = reducer.fit_transform(model.dv.vectors) # model.dv.index_to_key \n",
    "projection"
   ]
  },
  {
   "cell_type": "markdown",
   "id": "ce324cc0",
   "metadata": {
    "ExecuteTime": {
     "end_time": "2021-11-23T05:13:12.098155Z",
     "start_time": "2021-11-23T05:13:12.095609Z"
    }
   },
   "source": [
    "# Clustering Analysis"
   ]
  },
  {
   "cell_type": "code",
   "execution_count": 13,
   "id": "531942a3",
   "metadata": {
    "ExecuteTime": {
     "end_time": "2021-11-27T01:05:21.332460Z",
     "start_time": "2021-11-27T01:05:21.226284Z"
    }
   },
   "outputs": [],
   "source": [
    "from sklearn.cluster import DBSCAN\n",
    "from matplotlib import cm"
   ]
  },
  {
   "cell_type": "markdown",
   "id": "e29334d0",
   "metadata": {},
   "source": [
    "### Skip-gram Model"
   ]
  },
  {
   "cell_type": "code",
   "execution_count": 14,
   "id": "52a0e007",
   "metadata": {
    "ExecuteTime": {
     "end_time": "2021-11-27T01:05:44.316611Z",
     "start_time": "2021-11-27T01:05:22.898611Z"
    }
   },
   "outputs": [
    {
     "name": "stderr",
     "output_type": "stream",
     "text": [
      "2021-11-26 18:18:33,827 : INFO : loading Doc2Vec object from data/flavor2vec-skipgram.model\n",
      "2021-11-26 18:18:33,865 : INFO : loading dv recursively from data/flavor2vec-skipgram.model.dv.* with mmap=None\n",
      "2021-11-26 18:18:33,869 : INFO : loading vectors from data/flavor2vec-skipgram.model.dv.vectors.npy with mmap=None\n",
      "2021-11-26 18:18:33,912 : INFO : loading wv recursively from data/flavor2vec-skipgram.model.wv.* with mmap=None\n",
      "2021-11-26 18:18:33,913 : INFO : setting ignored attribute cum_table to None\n",
      "2021-11-26 18:18:33,937 : INFO : Doc2Vec lifecycle event {'fname': 'data/flavor2vec-skipgram.model', 'datetime': '2021-11-26T18:18:33.937790', 'gensim': '4.0.1', 'python': '3.9.6 | packaged by conda-forge | (default, Jul 11 2021, 03:36:15) \\n[Clang 11.1.0 ]', 'platform': 'macOS-12.0.1-x86_64-i386-64bit', 'event': 'loaded'}\n"
     ]
    },
    {
     "data": {
      "text/plain": [
       "Text(0.5, 1.0, 'Skip-gram clusters (2)')"
      ]
     },
     "execution_count": 14,
     "metadata": {},
     "output_type": "execute_result"
    },
    {
     "data": {
      "image/png": "[encoded data removed]",
      "text/plain": [
       "<Figure size 1008x720 with 1 Axes>"
      ]
     },
     "metadata": {},
     "output_type": "display_data"
    }
   ],
   "source": [
    "skip = gensim.models.doc2vec.Doc2Vec.load(MODEL_FILES['skip'])\n",
    "skip_projection = reducer.fit_transform(skip.dv.vectors) # model.dv.index_to_key \n",
    "\n",
    "skip_clustering_df = pd.DataFrame(skip_projection, columns=('x', 'y','z'))\n",
    "skip_clustering = DBSCAN(eps=.2, min_samples=10, n_jobs=-1).fit(skip_clustering_df[['x','y','z']])\n",
    "skip_clustering_df['cluster'] = skip_clustering.fit_predict(skip_clustering_df[['x','y','z']])\n",
    "num_clusters = len(skip_clustering_df['cluster'].unique())\n",
    "\n",
    "cmap = cm.get_cmap('prism', num_clusters)\n",
    "plt.scatter(skip_clustering_df['x'], skip_clustering_df['y'], \n",
    "            marker='.', alpha=1,\n",
    "            c=skip_clustering_df['cluster'], \n",
    "            cmap=cmap\n",
    "           )\n",
    "plt.title(f\"Skip-gram clusters ({num_clusters})\")\n"
   ]
  },
  {
   "cell_type": "markdown",
   "id": "f50a93d7",
   "metadata": {},
   "source": [
    "### CBOW Model"
   ]
  },
  {
   "cell_type": "code",
   "execution_count": 15,
   "id": "6ccec0fe",
   "metadata": {
    "ExecuteTime": {
     "end_time": "2021-11-27T01:05:58.166262Z",
     "start_time": "2021-11-27T01:05:57.124029Z"
    }
   },
   "outputs": [
    {
     "data": {
      "text/plain": [
       "Text(0.5, 1.0, 'Skip-gram clusters (421)')"
      ]
     },
     "execution_count": 15,
     "metadata": {},
     "output_type": "execute_result"
    },
    {
     "data": {
      "image/png": "[encoded data removed]",
      "text/plain": [
       "<Figure size 1008x720 with 1 Axes>"
      ]
     },
     "metadata": {},
     "output_type": "display_data"
    }
   ],
   "source": [
    "clustering_df = pd.DataFrame(projection, columns=('x', 'y','z'))\n",
    "clustering = DBSCAN(eps=.2, min_samples=10, n_jobs=-1).fit(clustering_df[['x','y','z']])\n",
    "clustering_df['cluster'] = clustering.fit_predict(clustering_df[['x','y','z']])\n",
    "num_clusters = len(clustering_df['cluster'].unique())\n",
    "\n",
    "cmap = cm.get_cmap('prism', num_clusters)\n",
    "plt.scatter(clustering_df['x'], clustering_df['y'], \n",
    "            marker='.', alpha=1,\n",
    "            c=clustering_df['cluster'], \n",
    "            cmap=cmap\n",
    "           )\n",
    "plt.title(f\"Skip-gram clusters ({num_clusters})\")\n"
   ]
  },
  {
   "cell_type": "code",
   "execution_count": 16,
   "id": "4a75e299",
   "metadata": {
    "ExecuteTime": {
     "end_time": "2021-11-27T01:06:13.259911Z",
     "start_time": "2021-11-27T01:06:00.885596Z"
    }
   },
   "outputs": [],
   "source": [
    "TOPN_CLUSTERS = 25\n",
    "\n",
    "cluster_groups = clustering_df['cluster'].value_counts().T\n",
    "cluster_groups = pd.DataFrame(cluster_groups)\n",
    "cluster_groups = cluster_groups.reset_index()\n",
    "cluster_groups.columns = ['cluster', 'items']\n",
    "cluster_groups = cluster_groups.sort_values(by='items', ascending=False)\n",
    "cluster_groups = cluster_groups[:TOPN_CLUSTERS]\n",
    "\n",
    "def rgba(e):\n",
    "    index = e[0]\n",
    "    return (\n",
    "        cmap(index)[0]*255,\n",
    "        cmap(index)[1]*255,\n",
    "        cmap(index)[2]*255,\n",
    "        cmap(index)[3],        \n",
    "    )\n",
    "\n",
    "_flav_df = pd.merge(df, clustering_df['cluster'], left_index=True, right_index=True)\n",
    "\n",
    "def flav_freq(row):\n",
    "    terms = defaultdict(int)\n",
    "    total = 0\n",
    "    for j, r in _flav_df[(_flav_df.cluster == row.cluster) & (_flav_df.type == 'recipe')].iterrows():\n",
    "        for m in r.flavor_molecules:\n",
    "            ts = m['flavor_profile'].split('@')\n",
    "            for t in ts:\n",
    "                terms[t] += 1\n",
    "                total += 1\n",
    "\n",
    "    topn = dict(map(lambda e: (e[0], e[1]/total), sorted(terms.items(), key=lambda e: e[1], reverse=True)))\n",
    "    return topn\n",
    "\n",
    "\n",
    "cluster_groups['flav_freq'] = cluster_groups.apply(flav_freq, axis=1)\n",
    "cluster_groups['total_mols'] = cluster_groups.apply(lambda r: len(_flav_df[_flav_df.cluster == r['cluster']].mols.explode().unique()), axis=1)\n",
    "cluster_groups['color'] = cluster_groups.apply(rgba, axis=1)\n",
    "cluster_groups['swatch'] = ['&#9608;'] * len(cluster_groups)"
   ]
  },
  {
   "cell_type": "markdown",
   "id": "6efded9a",
   "metadata": {},
   "source": [
    "### Molecular Taste Distribution "
   ]
  },
  {
   "cell_type": "code",
   "execution_count": 15,
   "id": "00a2c5f2",
   "metadata": {
    "ExecuteTime": {
     "end_time": "2021-11-27T01:06:21.985371Z",
     "start_time": "2021-11-27T01:06:21.976869Z"
    }
   },
   "outputs": [],
   "source": [
    "def taste_distribution(df):\n",
    "    mol_flavors = defaultdict(int)\n",
    "    for flavor_profile in df.flavor_profile:\n",
    "        if type(flavor_profile) is str:\n",
    "            flavors = flavor_profile.split('@')\n",
    "            for flavor in flavors:\n",
    "                mol_flavors[flavor] +=1\n",
    "            \n",
    "    total_mols = len(df)\n",
    "    for k,v in mol_flavors.items():\n",
    "        mol_flavors[k] = v/total_mols\n",
    "        \n",
    "    return pd.DataFrame(\n",
    "        sorted(mol_flavors.items(), key=lambda e: e[1], reverse=True),\n",
    "        columns=['taste', 'coverage']\n",
    "    )\n",
    "\n",
    "taste_dist = taste_distribution(mol_df)"
   ]
  },
  {
   "cell_type": "code",
   "execution_count": 16,
   "id": "2671a47f",
   "metadata": {
    "ExecuteTime": {
     "end_time": "2021-11-27T01:06:25.123977Z",
     "start_time": "2021-11-27T01:06:23.127195Z"
    }
   },
   "outputs": [
    {
     "data": {
      "image/png": "[encoded data removed]",
      "text/plain": [
       "<Figure size 1008x720 with 1 Axes>"
      ]
     },
     "metadata": {},
     "output_type": "display_data"
    }
   ],
   "source": [
    "sns.barplot(x=\"taste\", y=\"coverage\", data=taste_dist[0:100], palette=\"Blues_r\")\n",
    "plt.xticks(rotation=90)\n",
    "plt.title(f\"Molecular Taste Prevelance (top-100)\")\n",
    "plt.tight_layout()"
   ]
  },
  {
   "cell_type": "code",
   "execution_count": 25,
   "id": "7ef739a2",
   "metadata": {
    "ExecuteTime": {
     "end_time": "2021-11-27T01:06:29.295211Z",
     "start_time": "2021-11-27T01:06:28.416424Z"
    }
   },
   "outputs": [
    {
     "data": {
      "text/html": [
       "\n",
       "    <div class=\"bk-root\">\n",
       "        <a href=\"https://bokeh.org\" target=\"_blank\" class=\"bk-logo bk-logo-small bk-logo-notebook\"></a>\n",
       "        <span id=\"1002\">Loading BokehJS ...</span>\n",
       "    </div>"
      ]
     },
     "metadata": {},
     "output_type": "display_data"
    },
    {
     "data": {
      "application/javascript": [
       "\n",
       "(function(root) {\n",
       "  function now() {\n",
       "    return new Date();\n",
       "  }\n",
       "\n",
       "  const force = true;\n",
       "\n",
       "  if (typeof root._bokeh_onload_callbacks === \"undefined\" || force === true) {\n",
       "    root._bokeh_onload_callbacks = [];\n",
       "    root._bokeh_is_loading = undefined;\n",
       "  }\n",
       "\n",
       "  const JS_MIME_TYPE = 'application/javascript';\n",
       "  const HTML_MIME_TYPE = 'text/html';\n",
       "  const EXEC_MIME_TYPE = 'application/vnd.bokehjs_exec.v0+json';\n",
       "  const CLASS_NAME = 'output_bokeh rendered_html';\n",
       "\n",
       "  /**\n",
       "   * Render data to the DOM node\n",
       "   */\n",
       "  function render(props, node) {\n",
       "    const script = document.createElement(\"script\");\n",
       "    node.appendChild(script);\n",
       "  }\n",
       "\n",
       "  /**\n",
       "   * Handle when an output is cleared or removed\n",
       "   */\n",
       "  function handleClearOutput(event, handle) {\n",
       "    const cell = handle.cell;\n",
       "\n",
       "    const id = cell.output_area._bokeh_element_id;\n",
       "    const server_id = cell.output_area._bokeh_server_id;\n",
       "    // Clean up Bokeh references\n",
       "    if (id != null && id in Bokeh.index) {\n",
       "      Bokeh.index[id].model.document.clear();\n",
       "      delete Bokeh.index[id];\n",
       "    }\n",
       "\n",
       "    if (server_id !== undefined) {\n",
       "      // Clean up Bokeh references\n",
       "      const cmd_clean = \"from bokeh.io.state import curstate; print(curstate().uuid_to_server['\" + server_id + \"'].get_sessions()[0].document.roots[0]._id)\";\n",
       "      cell.notebook.kernel.execute(cmd_clean, {\n",
       "        iopub: {\n",
       "          output: function(msg) {\n",
       "            const id = msg.content.text.trim();\n",
       "            if (id in Bokeh.index) {\n",
       "              Bokeh.index[id].model.document.clear();\n",
       "              delete Bokeh.index[id];\n",
       "            }\n",
       "          }\n",
       "        }\n",
       "      });\n",
       "      // Destroy server and session\n",
       "      const cmd_destroy = \"import bokeh.io.notebook as ion; ion.destroy_server('\" + server_id + \"')\";\n",
       "      cell.notebook.kernel.execute(cmd_destroy);\n",
       "    }\n",
       "  }\n",
       "\n",
       "  /**\n",
       "   * Handle when a new output is added\n",
       "   */\n",
       "  function handleAddOutput(event, handle) {\n",
       "    const output_area = handle.output_area;\n",
       "    const output = handle.output;\n",
       "\n",
       "    // limit handleAddOutput to display_data with EXEC_MIME_TYPE content only\n",
       "    if ((output.output_type != \"display_data\") || (!Object.prototype.hasOwnProperty.call(output.data, EXEC_MIME_TYPE))) {\n",
       "      return\n",
       "    }\n",
       "\n",
       "    const toinsert = output_area.element.find(\".\" + CLASS_NAME.split(' ')[0]);\n",
       "\n",
       "    if (output.metadata[EXEC_MIME_TYPE][\"id\"] !== undefined) {\n",
       "      toinsert[toinsert.length - 1].firstChild.textContent = output.data[JS_MIME_TYPE];\n",
       "      // store reference to embed id on output_area\n",
       "      output_area._bokeh_element_id = output.metadata[EXEC_MIME_TYPE][\"id\"];\n",
       "    }\n",
       "    if (output.metadata[EXEC_MIME_TYPE][\"server_id\"] !== undefined) {\n",
       "      const bk_div = document.createElement(\"div\");\n",
       "      bk_div.innerHTML = output.data[HTML_MIME_TYPE];\n",
       "      const script_attrs = bk_div.children[0].attributes;\n",
       "      for (let i = 0; i < script_attrs.length; i++) {\n",
       "        toinsert[toinsert.length - 1].firstChild.setAttribute(script_attrs[i].name, script_attrs[i].value);\n",
       "        toinsert[toinsert.length - 1].firstChild.textContent = bk_div.children[0].textContent\n",
       "      }\n",
       "      // store reference to server id on output_area\n",
       "      output_area._bokeh_server_id = output.metadata[EXEC_MIME_TYPE][\"server_id\"];\n",
       "    }\n",
       "  }\n",
       "\n",
       "  function register_renderer(events, OutputArea) {\n",
       "\n",
       "    function append_mime(data, metadata, element) {\n",
       "      // create a DOM node to render to\n",
       "      const toinsert = this.create_output_subarea(\n",
       "        metadata,\n",
       "        CLASS_NAME,\n",
       "        EXEC_MIME_TYPE\n",
       "      );\n",
       "      this.keyboard_manager.register_events(toinsert);\n",
       "      // Render to node\n",
       "      const props = {data: data, metadata: metadata[EXEC_MIME_TYPE]};\n",
       "      render(props, toinsert[toinsert.length - 1]);\n",
       "      element.append(toinsert);\n",
       "      return toinsert\n",
       "    }\n",
       "\n",
       "    /* Handle when an output is cleared or removed */\n",
       "    events.on('clear_output.CodeCell', handleClearOutput);\n",
       "    events.on('delete.Cell', handleClearOutput);\n",
       "\n",
       "    /* Handle when a new output is added */\n",
       "    events.on('output_added.OutputArea', handleAddOutput);\n",
       "\n",
       "    /**\n",
       "     * Register the mime type and append_mime function with output_area\n",
       "     */\n",
       "    OutputArea.prototype.register_mime_type(EXEC_MIME_TYPE, append_mime, {\n",
       "      /* Is output safe? */\n",
       "      safe: true,\n",
       "      /* Index of renderer in `output_area.display_order` */\n",
       "      index: 0\n",
       "    });\n",
       "  }\n",
       "\n",
       "  // register the mime type if in Jupyter Notebook environment and previously unregistered\n",
       "  if (root.Jupyter !== undefined) {\n",
       "    const events = require('base/js/events');\n",
       "    const OutputArea = require('notebook/js/outputarea').OutputArea;\n",
       "\n",
       "    if (OutputArea.prototype.mime_types().indexOf(EXEC_MIME_TYPE) == -1) {\n",
       "      register_renderer(events, OutputArea);\n",
       "    }\n",
       "  }\n",
       "\n",
       "  \n",
       "  if (typeof (root._bokeh_timeout) === \"undefined\" || force === true) {\n",
       "    root._bokeh_timeout = Date.now() + 5000;\n",
       "    root._bokeh_failed_load = false;\n",
       "  }\n",
       "\n",
       "  const NB_LOAD_WARNING = {'data': {'text/html':\n",
       "     \"<div style='background-color: #fdd'>\\n\"+\n",
       "     \"<p>\\n\"+\n",
       "     \"BokehJS does not appear to have successfully loaded. If loading BokehJS from CDN, this \\n\"+\n",
       "     \"may be due to a slow or bad network connection. Possible fixes:\\n\"+\n",
       "     \"</p>\\n\"+\n",
       "     \"<ul>\\n\"+\n",
       "     \"<li>re-rerun `output_notebook()` to attempt to load from CDN again, or</li>\\n\"+\n",
       "     \"<li>use INLINE resources instead, as so:</li>\\n\"+\n",
       "     \"</ul>\\n\"+\n",
       "     \"<code>\\n\"+\n",
       "     \"from bokeh.resources import INLINE\\n\"+\n",
       "     \"output_notebook(resources=INLINE)\\n\"+\n",
       "     \"</code>\\n\"+\n",
       "     \"</div>\"}};\n",
       "\n",
       "  function display_loaded() {\n",
       "    const el = document.getElementById(\"1002\");\n",
       "    if (el != null) {\n",
       "      el.textContent = \"BokehJS is loading...\";\n",
       "    }\n",
       "    if (root.Bokeh !== undefined) {\n",
       "      if (el != null) {\n",
       "        el.textContent = \"BokehJS \" + root.Bokeh.version + \" successfully loaded.\";\n",
       "      }\n",
       "    } else if (Date.now() < root._bokeh_timeout) {\n",
       "      setTimeout(display_loaded, 100)\n",
       "    }\n",
       "  }\n",
       "\n",
       "\n",
       "  function run_callbacks() {\n",
       "    try {\n",
       "      root._bokeh_onload_callbacks.forEach(function(callback) {\n",
       "        if (callback != null)\n",
       "          callback();\n",
       "      });\n",
       "    } finally {\n",
       "      delete root._bokeh_onload_callbacks\n",
       "    }\n",
       "    console.debug(\"Bokeh: all callbacks have finished\");\n",
       "  }\n",
       "\n",
       "  function load_libs(css_urls, js_urls, callback) {\n",
       "    if (css_urls == null) css_urls = [];\n",
       "    if (js_urls == null) js_urls = [];\n",
       "\n",
       "    root._bokeh_onload_callbacks.push(callback);\n",
       "    if (root._bokeh_is_loading > 0) {\n",
       "      console.debug(\"Bokeh: BokehJS is being loaded, scheduling callback at\", now());\n",
       "      return null;\n",
       "    }\n",
       "    if (js_urls == null || js_urls.length === 0) {\n",
       "      run_callbacks();\n",
       "      return null;\n",
       "    }\n",
       "    console.debug(\"Bokeh: BokehJS not loaded, scheduling load and callback at\", now());\n",
       "    root._bokeh_is_loading = css_urls.length + js_urls.length;\n",
       "\n",
       "    function on_load() {\n",
       "      root._bokeh_is_loading--;\n",
       "      if (root._bokeh_is_loading === 0) {\n",
       "        console.debug(\"Bokeh: all BokehJS libraries/stylesheets loaded\");\n",
       "        run_callbacks()\n",
       "      }\n",
       "    }\n",
       "\n",
       "    function on_error(url) {\n",
       "      console.error(\"failed to load \" + url);\n",
       "    }\n",
       "\n",
       "    for (let i = 0; i < css_urls.length; i++) {\n",
       "      const url = css_urls[i];\n",
       "      const element = document.createElement(\"link\");\n",
       "      element.onload = on_load;\n",
       "      element.onerror = on_error.bind(null, url);\n",
       "      element.rel = \"stylesheet\";\n",
       "      element.type = \"text/css\";\n",
       "      element.href = url;\n",
       "      console.debug(\"Bokeh: injecting link tag for BokehJS stylesheet: \", url);\n",
       "      document.body.appendChild(element);\n",
       "    }\n",
       "\n",
       "    for (let i = 0; i < js_urls.length; i++) {\n",
       "      const url = js_urls[i];\n",
       "      const element = document.createElement('script');\n",
       "      element.onload = on_load;\n",
       "      element.onerror = on_error.bind(null, url);\n",
       "      element.async = false;\n",
       "      element.src = url;\n",
       "      console.debug(\"Bokeh: injecting script tag for BokehJS library: \", url);\n",
       "      document.head.appendChild(element);\n",
       "    }\n",
       "  };\n",
       "\n",
       "  function inject_raw_css(css) {\n",
       "    const element = document.createElement(\"style\");\n",
       "    element.appendChild(document.createTextNode(css));\n",
       "    document.body.appendChild(element);\n",
       "  }\n",
       "\n",
       "  \n",
       "  const js_urls = [\"https://cdn.bokeh.org/bokeh/release/bokeh-2.4.1.min.js\", \"https://cdn.bokeh.org/bokeh/release/bokeh-gl-2.4.1.min.js\", \"https://cdn.bokeh.org/bokeh/release/bokeh-widgets-2.4.1.min.js\", \"https://cdn.bokeh.org/bokeh/release/bokeh-tables-2.4.1.min.js\", \"https://cdn.bokeh.org/bokeh/release/bokeh-mathjax-2.4.1.min.js\"];\n",
       "  const css_urls = [];\n",
       "  \n",
       "\n",
       "  const inline_js = [\n",
       "    function(Bokeh) {\n",
       "      Bokeh.set_log_level(\"info\");\n",
       "    },\n",
       "    function(Bokeh) {\n",
       "    \n",
       "    \n",
       "    }\n",
       "  ];\n",
       "\n",
       "  function run_inline_js() {\n",
       "    \n",
       "    if (root.Bokeh !== undefined || force === true) {\n",
       "      \n",
       "    for (let i = 0; i < inline_js.length; i++) {\n",
       "      inline_js[i].call(root, root.Bokeh);\n",
       "    }\n",
       "    if (force === true) {\n",
       "        display_loaded();\n",
       "      }} else if (Date.now() < root._bokeh_timeout) {\n",
       "      setTimeout(run_inline_js, 100);\n",
       "    } else if (!root._bokeh_failed_load) {\n",
       "      console.log(\"Bokeh: BokehJS failed to load within specified timeout.\");\n",
       "      root._bokeh_failed_load = true;\n",
       "    } else if (force !== true) {\n",
       "      const cell = $(document.getElementById(\"1002\")).parents('.cell').data().cell;\n",
       "      cell.output_area.append_execute_result(NB_LOAD_WARNING)\n",
       "    }\n",
       "\n",
       "  }\n",
       "\n",
       "  if (root._bokeh_is_loading === 0) {\n",
       "    console.debug(\"Bokeh: BokehJS loaded, going straight to plotting\");\n",
       "    run_inline_js();\n",
       "  } else {\n",
       "    load_libs(css_urls, js_urls, function() {\n",
       "      console.debug(\"Bokeh: BokehJS plotting callback run at\", now());\n",
       "      run_inline_js();\n",
       "    });\n",
       "  }\n",
       "}(window));"
      ],
      "application/vnd.bokehjs_load.v0+json": "\n(function(root) {\n  function now() {\n    return new Date();\n  }\n\n  const force = true;\n\n  if (typeof root._bokeh_onload_callbacks === \"undefined\" || force === true) {\n    root._bokeh_onload_callbacks = [];\n    root._bokeh_is_loading = undefined;\n  }\n\n  \n\n  \n  if (typeof (root._bokeh_timeout) === \"undefined\" || force === true) {\n    root._bokeh_timeout = Date.now() + 5000;\n    root._bokeh_failed_load = false;\n  }\n\n  const NB_LOAD_WARNING = {'data': {'text/html':\n     \"<div style='background-color: #fdd'>\\n\"+\n     \"<p>\\n\"+\n     \"BokehJS does not appear to have successfully loaded. If loading BokehJS from CDN, this \\n\"+\n     \"may be due to a slow or bad network connection. Possible fixes:\\n\"+\n     \"</p>\\n\"+\n     \"<ul>\\n\"+\n     \"<li>re-rerun `output_notebook()` to attempt to load from CDN again, or</li>\\n\"+\n     \"<li>use INLINE resources instead, as so:</li>\\n\"+\n     \"</ul>\\n\"+\n     \"<code>\\n\"+\n     \"from bokeh.resources import INLINE\\n\"+\n     \"output_notebook(resources=INLINE)\\n\"+\n     \"</code>\\n\"+\n     \"</div>\"}};\n\n  function display_loaded() {\n    const el = document.getElementById(\"1002\");\n    if (el != null) {\n      el.textContent = \"BokehJS is loading...\";\n    }\n    if (root.Bokeh !== undefined) {\n      if (el != null) {\n        el.textContent = \"BokehJS \" + root.Bokeh.version + \" successfully loaded.\";\n      }\n    } else if (Date.now() < root._bokeh_timeout) {\n      setTimeout(display_loaded, 100)\n    }\n  }\n\n\n  function run_callbacks() {\n    try {\n      root._bokeh_onload_callbacks.forEach(function(callback) {\n        if (callback != null)\n          callback();\n      });\n    } finally {\n      delete root._bokeh_onload_callbacks\n    }\n    console.debug(\"Bokeh: all callbacks have finished\");\n  }\n\n  function load_libs(css_urls, js_urls, callback) {\n    if (css_urls == null) css_urls = [];\n    if (js_urls == null) js_urls = [];\n\n    root._bokeh_onload_callbacks.push(callback);\n    if (root._bokeh_is_loading > 0) {\n      console.debug(\"Bokeh: BokehJS is being loaded, scheduling callback at\", now());\n      return null;\n    }\n    if (js_urls == null || js_urls.length === 0) {\n      run_callbacks();\n      return null;\n    }\n    console.debug(\"Bokeh: BokehJS not loaded, scheduling load and callback at\", now());\n    root._bokeh_is_loading = css_urls.length + js_urls.length;\n\n    function on_load() {\n      root._bokeh_is_loading--;\n      if (root._bokeh_is_loading === 0) {\n        console.debug(\"Bokeh: all BokehJS libraries/stylesheets loaded\");\n        run_callbacks()\n      }\n    }\n\n    function on_error(url) {\n      console.error(\"failed to load \" + url);\n    }\n\n    for (let i = 0; i < css_urls.length; i++) {\n      const url = css_urls[i];\n      const element = document.createElement(\"link\");\n      element.onload = on_load;\n      element.onerror = on_error.bind(null, url);\n      element.rel = \"stylesheet\";\n      element.type = \"text/css\";\n      element.href = url;\n      console.debug(\"Bokeh: injecting link tag for BokehJS stylesheet: \", url);\n      document.body.appendChild(element);\n    }\n\n    for (let i = 0; i < js_urls.length; i++) {\n      const url = js_urls[i];\n      const element = document.createElement('script');\n      element.onload = on_load;\n      element.onerror = on_error.bind(null, url);\n      element.async = false;\n      element.src = url;\n      console.debug(\"Bokeh: injecting script tag for BokehJS library: \", url);\n      document.head.appendChild(element);\n    }\n  };\n\n  function inject_raw_css(css) {\n    const element = document.createElement(\"style\");\n    element.appendChild(document.createTextNode(css));\n    document.body.appendChild(element);\n  }\n\n  \n  const js_urls = [\"https://cdn.bokeh.org/bokeh/release/bokeh-2.4.1.min.js\", \"https://cdn.bokeh.org/bokeh/release/bokeh-gl-2.4.1.min.js\", \"https://cdn.bokeh.org/bokeh/release/bokeh-widgets-2.4.1.min.js\", \"https://cdn.bokeh.org/bokeh/release/bokeh-tables-2.4.1.min.js\", \"https://cdn.bokeh.org/bokeh/release/bokeh-mathjax-2.4.1.min.js\"];\n  const css_urls = [];\n  \n\n  const inline_js = [\n    function(Bokeh) {\n      Bokeh.set_log_level(\"info\");\n    },\n    function(Bokeh) {\n    \n    \n    }\n  ];\n\n  function run_inline_js() {\n    \n    if (root.Bokeh !== undefined || force === true) {\n      \n    for (let i = 0; i < inline_js.length; i++) {\n      inline_js[i].call(root, root.Bokeh);\n    }\n    if (force === true) {\n        display_loaded();\n      }} else if (Date.now() < root._bokeh_timeout) {\n      setTimeout(run_inline_js, 100);\n    } else if (!root._bokeh_failed_load) {\n      console.log(\"Bokeh: BokehJS failed to load within specified timeout.\");\n      root._bokeh_failed_load = true;\n    } else if (force !== true) {\n      const cell = $(document.getElementById(\"1002\")).parents('.cell').data().cell;\n      cell.output_area.append_execute_result(NB_LOAD_WARNING)\n    }\n\n  }\n\n  if (root._bokeh_is_loading === 0) {\n    console.debug(\"Bokeh: BokehJS loaded, going straight to plotting\");\n    run_inline_js();\n  } else {\n    load_libs(css_urls, js_urls, function() {\n      console.debug(\"Bokeh: BokehJS plotting callback run at\", now());\n      run_inline_js();\n    });\n  }\n}(window));"
     },
     "metadata": {},
     "output_type": "display_data"
    }
   ],
   "source": [
    "from bokeh.application import Application\n",
    "from bokeh.application.handlers import FunctionHandler\n",
    "from bokeh.layouts import column, row\n",
    "from bokeh.plotting import figure, show, output_notebook\n",
    "from bokeh.models import ( \n",
    "    HoverTool, ColumnDataSource, Callback, DataTable, TableColumn,\n",
    "    CustomJS, CategoricalColorMapper, CategoricalMarkerMapper, LinearColorMapper, Div\n",
    ")\n",
    "from bokeh.transform import linear_cmap\n",
    "from bokeh.palettes import Cividis256, Magma256\n",
    "from bokeh.models.widgets import Slider, TextInput, Select, AutocompleteInput, HTMLTemplateFormatter\n",
    "\n",
    "logging.getLogger('bokeh').setLevel(logging.CRITICAL)\n",
    "logging.getLogger('tornado').setLevel(logging.CRITICAL)\n",
    "\n",
    "output_notebook()"
   ]
  },
  {
   "cell_type": "code",
   "execution_count": 26,
   "id": "d84e5ccd-fdba-4315-9dac-7544a7ffadee",
   "metadata": {},
   "outputs": [
    {
     "data": {
      "text/html": [
       "<div>\n",
       "<style scoped>\n",
       "    .dataframe tbody tr th:only-of-type {\n",
       "        vertical-align: middle;\n",
       "    }\n",
       "\n",
       "    .dataframe tbody tr th {\n",
       "        vertical-align: top;\n",
       "    }\n",
       "\n",
       "    .dataframe thead th {\n",
       "        text-align: right;\n",
       "    }\n",
       "</style>\n",
       "<table border=\"1\" class=\"dataframe\">\n",
       "  <thead>\n",
       "    <tr style=\"text-align: right;\">\n",
       "      <th></th>\n",
       "      <th>cluster</th>\n",
       "      <th>items</th>\n",
       "      <th>flav_freq</th>\n",
       "      <th>total_mols</th>\n",
       "      <th>color</th>\n",
       "      <th>swatch</th>\n",
       "    </tr>\n",
       "  </thead>\n",
       "  <tbody>\n",
       "    <tr>\n",
       "      <th>0</th>\n",
       "      <td>8</td>\n",
       "      <td>2401</td>\n",
       "      <td>{'sweet': 0.05666510593885298, 'green': 0.0374...</td>\n",
       "      <td>1225</td>\n",
       "      <td>(255.0, 169.95443351249705, 0.0, 1.0)</td>\n",
       "      <td>&amp;#9608;</td>\n",
       "    </tr>\n",
       "    <tr>\n",
       "      <th>1</th>\n",
       "      <td>5</td>\n",
       "      <td>2086</td>\n",
       "      <td>{'sweet': 0.05541856907617283, 'green': 0.0403...</td>\n",
       "      <td>1244</td>\n",
       "      <td>(255.0, 83.43472834010409, 0.0, 1.0)</td>\n",
       "      <td>&amp;#9608;</td>\n",
       "    </tr>\n",
       "    <tr>\n",
       "      <th>2</th>\n",
       "      <td>9</td>\n",
       "      <td>1574</td>\n",
       "      <td>{'sweet': 0.06013547444113806, 'green': 0.0387...</td>\n",
       "      <td>1094</td>\n",
       "      <td>(255.0, 195.51978720075542, 0.0, 1.0)</td>\n",
       "      <td>&amp;#9608;</td>\n",
       "    </tr>\n",
       "    <tr>\n",
       "      <th>3</th>\n",
       "      <td>2</td>\n",
       "      <td>1374</td>\n",
       "      <td>{'sweet': 0.05415028227274802, 'green': 0.0402...</td>\n",
       "      <td>1203</td>\n",
       "      <td>(255.0, 0.0, 0.0, 1.0)</td>\n",
       "      <td>&amp;#9608;</td>\n",
       "    </tr>\n",
       "    <tr>\n",
       "      <th>4</th>\n",
       "      <td>52</td>\n",
       "      <td>1237</td>\n",
       "      <td>{'sweet': 0.057612875938667436, 'green': 0.040...</td>\n",
       "      <td>1159</td>\n",
       "      <td>(255.0, 251.04979945584108, 0.0, 1.0)</td>\n",
       "      <td>&amp;#9608;</td>\n",
       "    </tr>\n",
       "  </tbody>\n",
       "</table>\n",
       "</div>"
      ],
      "text/plain": [
       "   cluster  items                                          flav_freq  \\\n",
       "0        8   2401  {'sweet': 0.05666510593885298, 'green': 0.0374...   \n",
       "1        5   2086  {'sweet': 0.05541856907617283, 'green': 0.0403...   \n",
       "2        9   1574  {'sweet': 0.06013547444113806, 'green': 0.0387...   \n",
       "3        2   1374  {'sweet': 0.05415028227274802, 'green': 0.0402...   \n",
       "4       52   1237  {'sweet': 0.057612875938667436, 'green': 0.040...   \n",
       "\n",
       "   total_mols                                  color   swatch  \n",
       "0        1225  (255.0, 169.95443351249705, 0.0, 1.0)  &#9608;  \n",
       "1        1244   (255.0, 83.43472834010409, 0.0, 1.0)  &#9608;  \n",
       "2        1094  (255.0, 195.51978720075542, 0.0, 1.0)  &#9608;  \n",
       "3        1203                 (255.0, 0.0, 0.0, 1.0)  &#9608;  \n",
       "4        1159  (255.0, 251.04979945584108, 0.0, 1.0)  &#9608;  "
      ]
     },
     "execution_count": 26,
     "metadata": {},
     "output_type": "execute_result"
    }
   ],
   "source": [
    "cluster_groups.iloc[:5]"
   ]
  },
  {
   "cell_type": "code",
   "execution_count": 27,
   "id": "866753a7",
   "metadata": {
    "ExecuteTime": {
     "end_time": "2021-11-27T01:06:29.950119Z",
     "start_time": "2021-11-27T01:06:29.939874Z"
    }
   },
   "outputs": [],
   "source": [
    "\"\"\"\n",
    "TF-IDF Adapted for cluster term enrichment as term frequencey - inverse cluster frequencey\n",
    "\"\"\"  \n",
    "\n",
    "def doc_freq(df):\n",
    "    terms = set(df.flav_freq.explode().unique())\n",
    "    doc_freq = defaultdict(int)\n",
    "    for tf in cluster_groups.flav_freq:\n",
    "        for t in terms:\n",
    "            if t in tf and tf[t] > 0:\n",
    "                doc_freq[t] +=1\n",
    "    return doc_freq\n",
    "\n",
    "\n",
    "DOC_FREQ = doc_freq(cluster_groups)\n",
    "\n",
    "def tf_idf_normalize(tf):\n",
    "    total_docs = len(cluster_groups)\n",
    "    tf_idf = {}\n",
    "    for t,v in tf.items():\n",
    "        tf_idf[t] = v*np.log2(total_docs/(1+DOC_FREQ[t]))            \n",
    "    return tf_idf\n",
    "    \n",
    "    "
   ]
  },
  {
   "cell_type": "code",
   "execution_count": 28,
   "id": "16cd9d39",
   "metadata": {
    "ExecuteTime": {
     "end_time": "2021-11-27T01:08:46.823421Z",
     "start_time": "2021-11-27T01:08:46.799356Z"
    }
   },
   "outputs": [
    {
     "data": {
      "application/vnd.bokehjs_exec.v0+json": "",
      "text/html": [
       "\n",
       "<script id=\"1003\">\n",
       "  (function() {\n",
       "    const xhr = new XMLHttpRequest()\n",
       "    xhr.responseType = 'blob';\n",
       "    xhr.open('GET', \"http://localhost:64300/autoload.js?bokeh-autoload-element=1003&bokeh-absolute-url=http://localhost:64300&resources=none\", true);\n",
       "    \n",
       "    xhr.onload = function (event) {\n",
       "      const script = document.createElement('script');\n",
       "      const src = URL.createObjectURL(event.target.response);\n",
       "      script.src = src;\n",
       "      document.body.appendChild(script);\n",
       "    };\n",
       "    xhr.send();\n",
       "  })();\n",
       "</script>"
      ]
     },
     "metadata": {
      "application/vnd.bokehjs_exec.v0+json": {
       "server_id": "4330fa10c83d419ba61d92e564a7a1b7"
      }
     },
     "output_type": "display_data"
    }
   ],
   "source": [
    "from wordcloud import WordCloud\n",
    "\n",
    "def common_tastes(clusters, common):\n",
    "    if len(clusters) == 1:\n",
    "        return common.intersection(clusters.pop().keys())\n",
    "    else:\n",
    "        b = clusters.pop().keys()       \n",
    "        return common_tastes(clusters, common.intersection(b))\n",
    "\n",
    "def cluster_group_mask():\n",
    "    clusters = list(cluster_groups.flav_freq)\n",
    "    return common_tastes(clusters[1:], set(clusters[0].keys()))\n",
    "\n",
    "COMMON_TASTE_MASK = cluster_group_mask()\n",
    "\n",
    "\n",
    "def cluster_cloud(index):\n",
    "    wf = cluster_groups.iloc[index]['flav_freq']\n",
    "    color = tuple(map(int, cluster_groups.iloc[index]['color'][0:3]))\n",
    "    wc = WordCloud(\n",
    "        background_color=\"white\", \n",
    "        mode='RGBA', \n",
    "        scale=1.5,\n",
    "        color_func=lambda *args, **kw: color # word_color(args)\n",
    "    )\n",
    "    return wc.generate_from_frequencies(wf)\n",
    "\n",
    "def distinct_notes(index):\n",
    "    wf = tf_idf_normalize(cluster_groups.iloc[index]['flav_freq'])\n",
    "    wc = WordCloud(\n",
    "        background_color=\"white\", \n",
    "        mode='RGBA', \n",
    "        scale=1.5,\n",
    "    )\n",
    "    \n",
    "    try:\n",
    "        return wc.generate_from_frequencies(wf)\n",
    "    except OSError as e:        \n",
    "        wf = tf_idf_normalize(cluster_groups.flav_freq[15])\n",
    "        wf = sorted(wf.items(), key=lambda e: e[1], reverse=True)\n",
    "        for i in range(5):\n",
    "            wf[i] = (wf[i][0], 1)\n",
    "        return wc.generate_from_frequencies(dict(wf))\n",
    "\n",
    "def cluster_app(doc):\n",
    "    heading = Div(text=\"<h3>Cluster browser</h3><br><span>Click the clusters in the list to display thier flavor profiles</span>\")\n",
    "    cluster_data = ColumnDataSource(cluster_groups)\n",
    "    template=\"\"\"<p style=\"color:rgba(<%= color %>);background-color:rgba(<%= color %>);\"><%= value %></p>\"\"\"\n",
    "    formatter =  HTMLTemplateFormatter(template=template)\n",
    "    cluster_table = DataTable( source=cluster_data,\n",
    "                               index_position=None,\n",
    "                               columns=[\n",
    "                                   TableColumn(field='swatch',formatter=formatter,width=5),\n",
    "                                   TableColumn(field=\"cluster\", title=\"cluster\", width=100),\n",
    "                                   TableColumn(field='items', title='items',width=100),\n",
    "                                   TableColumn(field='total_mols', title='molecules',width=100),\n",
    "                               ],\n",
    "                               selectable = True,\n",
    "                               sortable = True,\n",
    "                               width=280,\n",
    "                               height=600\n",
    "                             )\n",
    "\n",
    "    img = cluster_cloud(0).to_array()\n",
    "    ydim,xdim, z = img.shape\n",
    "    dim = max(xdim, ydim)\n",
    "        \n",
    "    fig = figure(width=xdim, height=ydim, title=\"Taste Profile\")    \n",
    "    fig.x_range.range_padding = fig.y_range.range_padding = 0\n",
    "    fig.toolbar.logo = None\n",
    "    fig.toolbar_location = None\n",
    "    fig.axis.visible = False\n",
    "        \n",
    "    fig2 = figure(width=xdim, height=ydim, title=\"Distinctive Notes (TF-IDF)\")\n",
    "    fig2.x_range.range_padding = fig.y_range.range_padding = 0\n",
    "    fig2.toolbar.logo = None\n",
    "    fig2.toolbar_location = None\n",
    "    fig2.axis.visible = False\n",
    "    \n",
    "    def update_wc(attr,old,new):\n",
    "        img = cluster_cloud(new[0]).to_array()\n",
    "        _img = np.empty((ydim,xdim), dtype=np.uint32)\n",
    "        view = _img.view(dtype=np.uint8).reshape((ydim, xdim, 4))\n",
    "        view[:,:,:] = np.flipud(np.asarray(img))\n",
    "        fig.image_rgba(image=[_img], x=0, y=0, dw=xdim, dh=ydim)\n",
    "        \n",
    "        img2 = distinct_notes(new[0]).to_array()\n",
    "        _img2 = np.empty((ydim,xdim), dtype=np.uint32)\n",
    "        view2 = _img2.view(dtype=np.uint8).reshape((ydim, xdim, 4))\n",
    "        view2[:,:,:] = np.flipud(np.asarray(img2))\n",
    "        fig2.image_rgba(image=[_img2], x=0, y=0, dw=xdim, dh=ydim)\n",
    "\n",
    "\n",
    "    cluster_data.selected.on_change('indices', update_wc)\n",
    "    \n",
    "    doc.add_root(column(heading,row(cluster_table,column(fig, fig2))))\n",
    "\n",
    "show(cluster_app)\n"
   ]
  },
  {
   "cell_type": "markdown",
   "id": "14b0e56b",
   "metadata": {},
   "source": [
    "# Healthy Option: Nutrition Optimizer"
   ]
  },
  {
   "cell_type": "code",
   "execution_count": 29,
   "id": "895d3a15",
   "metadata": {
    "ExecuteTime": {
     "end_time": "2021-11-27T01:09:04.759821Z",
     "start_time": "2021-11-27T01:09:04.757354Z"
    }
   },
   "outputs": [],
   "source": [
    "#Below just to create a sample data\n",
    "# Sample code to test the code\n",
    "#import pandas as pd\n",
    "#df = pd.read_json('data/1M_recipes_with_nutritional_info.json')\n",
    "#df['food'] = df.pop('title')\n",
    "#s_df = pd.DataFrame({'id':['08f2a0465c','ing-272','0858b28796','25bd97110f','205c598aec',\n",
    "#                               '1edf9efbc9','148b1b6b24','eb2b5633db','1c993c47d9','eca3abce74']})"
   ]
  },
  {
   "cell_type": "code",
   "execution_count": 30,
   "id": "ea1fb1bc",
   "metadata": {
    "ExecuteTime": {
     "end_time": "2021-11-27T01:09:06.291523Z",
     "start_time": "2021-11-27T01:09:06.283058Z"
    }
   },
   "outputs": [],
   "source": [
    "#scoring system\n",
    "def Score(dict_TopRecipe_ntr, preference):\n",
    "    dv = [2000,78,50,6,20,50]\n",
    "    \n",
    "    if preference == 'Default':\n",
    "        parameter = [-1,0,1,-1,0,-1]\n",
    "    elif preference == 'Ketogenic':\n",
    "        parameter = [0,1,1,-1,-0.5,-1]\n",
    "    elif preference == 'Low Fat':\n",
    "        parameter = [0,0,1,-1,-1,-1]\n",
    "\n",
    "    dict_score = {}\n",
    "    dict_energy = {}\n",
    "    for i, row in dict_TopRecipe_ntr.iterrows():\n",
    "        \n",
    "        nutrient = [\n",
    "            row['nutr_values_per100g.energy'], \n",
    "            row['nutr_values_per100g.fat'],\n",
    "            row['nutr_values_per100g.protein'],\n",
    "            row['nutr_values_per100g.salt'],\n",
    "            row['nutr_values_per100g.saturates'],\n",
    "            row['nutr_values_per100g.sugars']\n",
    "        ]\n",
    "        \n",
    "        pct_dv = [a/b for a,b in zip(nutrient,dv)]\n",
    "        wt_score = [a*b for a,b in zip(parameter,pct_dv)]\n",
    "        score = sum(wt_score)\n",
    "        dict_score[row['id']] = score\n",
    "    \n",
    "    dict_score_rank = pd.DataFrame(dict_score.items(), columns=['id', 'ntr_score'])\n",
    "    return dict_score_rank.sort_values(by=['ntr_score'], ascending=False)\n",
    "\n",
    "#helper function\n",
    "# def NtrDataFlat(TopRecipe):\n",
    "#     ntr_temp = TopRecipe['nutr_values_per100g']\n",
    "#     df_ntr = pd.DataFrame.from_dict({(i): ntr_temp[i] for i in ntr_temp.keys()}, orient='index')\n",
    "#     return TopRecipe.merge(df_ntr, left_index=True, right_index=True)\n",
    "\n",
    "\n",
    "def NutritionOptimize(s_df, df, preference = 'Default'):    \n",
    "    TopRecipe = df.loc[df['id'].isin(s_df['id'])]\n",
    "    \n",
    "    #rank the recipe\n",
    "    top_n_recipe_score = Score(TopRecipe, preference)\n",
    "    \n",
    "    #prepare pandas table output\n",
    "    out = top_n_recipe_score.merge(TopRecipe, left_on='id', right_on='id')                            \n",
    "    out['%DV-energy'] = out['nutr_values_per100g.energy']*100/2000\n",
    "    out['%DV-fat'] = out['nutr_values_per100g.fat']*100/78\n",
    "    out['%DV-protein'] = out['nutr_values_per100g.protein']*100/50\n",
    "    out['%DV-salt'] = out['nutr_values_per100g.salt']*100/6\n",
    "    out['%DV-saturates'] = out['nutr_values_per100g.saturates']*100/20\n",
    "    out['%DV-sugars'] = out['nutr_values_per100g.sugars']*100/50\n",
    "    out = out[['id','food','%DV-energy','%DV-fat','%DV-protein','%DV-salt','%DV-saturates','%DV-sugars']]\n",
    "    return out.round(1)"
   ]
  },
  {
   "cell_type": "markdown",
   "id": "d0c119c4",
   "metadata": {},
   "source": [
    "#### The healthy ranking of the top 10 matched recipe from CHICKEN"
   ]
  },
  {
   "cell_type": "code",
   "execution_count": 32,
   "id": "a84e8802",
   "metadata": {
    "ExecuteTime": {
     "end_time": "2021-11-27T01:09:13.973089Z",
     "start_time": "2021-11-27T01:09:13.965336Z"
    }
   },
   "outputs": [],
   "source": [
    "\n",
    "if gensim_version >= 4:\n",
    "    similars = model.dv.most_similar(positive=[model.dv.vectors[51507]])\n",
    "else:\n",
    "    similars = model.dv.most_similar(model.dv.vectors[51507])\n",
    "s_df = pd.DataFrame(similars, columns=['id','similarity']).astype({'id': 'string'})"
   ]
  },
  {
   "cell_type": "code",
   "execution_count": 33,
   "id": "a0da0bed",
   "metadata": {
    "ExecuteTime": {
     "end_time": "2021-11-27T01:09:16.042397Z",
     "start_time": "2021-11-27T01:09:16.015182Z"
    }
   },
   "outputs": [
    {
     "data": {
      "text/html": [
       "<div>\n",
       "<style scoped>\n",
       "    .dataframe tbody tr th:only-of-type {\n",
       "        vertical-align: middle;\n",
       "    }\n",
       "\n",
       "    .dataframe tbody tr th {\n",
       "        vertical-align: top;\n",
       "    }\n",
       "\n",
       "    .dataframe thead th {\n",
       "        text-align: right;\n",
       "    }\n",
       "</style>\n",
       "<table border=\"1\" class=\"dataframe\">\n",
       "  <thead>\n",
       "    <tr style=\"text-align: right;\">\n",
       "      <th></th>\n",
       "      <th>id</th>\n",
       "      <th>food</th>\n",
       "      <th>%DV-energy</th>\n",
       "      <th>%DV-fat</th>\n",
       "      <th>%DV-protein</th>\n",
       "      <th>%DV-salt</th>\n",
       "      <th>%DV-saturates</th>\n",
       "      <th>%DV-sugars</th>\n",
       "    </tr>\n",
       "  </thead>\n",
       "  <tbody>\n",
       "    <tr>\n",
       "      <th>0</th>\n",
       "      <td>0639846784</td>\n",
       "      <td>Chicken Satay Recipe</td>\n",
       "      <td>6.0</td>\n",
       "      <td>3.4</td>\n",
       "      <td>45.0</td>\n",
       "      <td>1.9</td>\n",
       "      <td>2.8</td>\n",
       "      <td>0.0</td>\n",
       "    </tr>\n",
       "    <tr>\n",
       "      <th>1</th>\n",
       "      <td>0858b28796</td>\n",
       "      <td>Giblet Gravy (For Poultry)</td>\n",
       "      <td>6.0</td>\n",
       "      <td>3.4</td>\n",
       "      <td>45.0</td>\n",
       "      <td>1.9</td>\n",
       "      <td>2.8</td>\n",
       "      <td>0.0</td>\n",
       "    </tr>\n",
       "    <tr>\n",
       "      <th>2</th>\n",
       "      <td>d77841136d</td>\n",
       "      <td>BBQ Chicken on the Grill</td>\n",
       "      <td>6.2</td>\n",
       "      <td>3.1</td>\n",
       "      <td>41.1</td>\n",
       "      <td>5.6</td>\n",
       "      <td>2.6</td>\n",
       "      <td>6.0</td>\n",
       "    </tr>\n",
       "    <tr>\n",
       "      <th>3</th>\n",
       "      <td>eb2b5633db</td>\n",
       "      <td>Mexican Style Chicken</td>\n",
       "      <td>4.6</td>\n",
       "      <td>2.3</td>\n",
       "      <td>31.5</td>\n",
       "      <td>11.6</td>\n",
       "      <td>1.9</td>\n",
       "      <td>2.0</td>\n",
       "    </tr>\n",
       "    <tr>\n",
       "      <th>4</th>\n",
       "      <td>0e763c3e60</td>\n",
       "      <td>It Won't Burn! Soy Sauce and Mayonnaise Chicke...</td>\n",
       "      <td>8.5</td>\n",
       "      <td>10.2</td>\n",
       "      <td>38.9</td>\n",
       "      <td>15.3</td>\n",
       "      <td>6.9</td>\n",
       "      <td>7.3</td>\n",
       "    </tr>\n",
       "    <tr>\n",
       "      <th>5</th>\n",
       "      <td>f116261e0d</td>\n",
       "      <td>The Easiest Barbecued Chicken Wings Ever!!!</td>\n",
       "      <td>9.4</td>\n",
       "      <td>13.9</td>\n",
       "      <td>29.5</td>\n",
       "      <td>10.0</td>\n",
       "      <td>14.8</td>\n",
       "      <td>11.1</td>\n",
       "    </tr>\n",
       "    <tr>\n",
       "      <th>6</th>\n",
       "      <td>ed8488ed90</td>\n",
       "      <td>Campbell's 2 Step Creamy Chicken and Pasta</td>\n",
       "      <td>6.0</td>\n",
       "      <td>15.3</td>\n",
       "      <td>5.4</td>\n",
       "      <td>2.4</td>\n",
       "      <td>15.0</td>\n",
       "      <td>0.1</td>\n",
       "    </tr>\n",
       "    <tr>\n",
       "      <th>7</th>\n",
       "      <td>eca3abce74</td>\n",
       "      <td>Crockpot BBQ Chicken</td>\n",
       "      <td>7.1</td>\n",
       "      <td>3.8</td>\n",
       "      <td>32.0</td>\n",
       "      <td>12.8</td>\n",
       "      <td>2.7</td>\n",
       "      <td>20.7</td>\n",
       "    </tr>\n",
       "    <tr>\n",
       "      <th>8</th>\n",
       "      <td>08f2a0465c</td>\n",
       "      <td>Grilled Chipotle and Cola BBQ Chicken</td>\n",
       "      <td>5.5</td>\n",
       "      <td>0.9</td>\n",
       "      <td>5.2</td>\n",
       "      <td>20.6</td>\n",
       "      <td>0.4</td>\n",
       "      <td>39.9</td>\n",
       "    </tr>\n",
       "    <tr>\n",
       "      <th>9</th>\n",
       "      <td>ing-272</td>\n",
       "      <td>Chicken</td>\n",
       "      <td>NaN</td>\n",
       "      <td>NaN</td>\n",
       "      <td>NaN</td>\n",
       "      <td>NaN</td>\n",
       "      <td>NaN</td>\n",
       "      <td>NaN</td>\n",
       "    </tr>\n",
       "  </tbody>\n",
       "</table>\n",
       "</div>"
      ],
      "text/plain": [
       "           id                                               food  %DV-energy  \\\n",
       "0  0639846784                               Chicken Satay Recipe         6.0   \n",
       "1  0858b28796                         Giblet Gravy (For Poultry)         6.0   \n",
       "2  d77841136d                           BBQ Chicken on the Grill         6.2   \n",
       "3  eb2b5633db                              Mexican Style Chicken         4.6   \n",
       "4  0e763c3e60  It Won't Burn! Soy Sauce and Mayonnaise Chicke...         8.5   \n",
       "5  f116261e0d        The Easiest Barbecued Chicken Wings Ever!!!         9.4   \n",
       "6  ed8488ed90         Campbell's 2 Step Creamy Chicken and Pasta         6.0   \n",
       "7  eca3abce74                               Crockpot BBQ Chicken         7.1   \n",
       "8  08f2a0465c              Grilled Chipotle and Cola BBQ Chicken         5.5   \n",
       "9     ing-272                                            Chicken         NaN   \n",
       "\n",
       "   %DV-fat  %DV-protein  %DV-salt  %DV-saturates  %DV-sugars  \n",
       "0      3.4         45.0       1.9            2.8         0.0  \n",
       "1      3.4         45.0       1.9            2.8         0.0  \n",
       "2      3.1         41.1       5.6            2.6         6.0  \n",
       "3      2.3         31.5      11.6            1.9         2.0  \n",
       "4     10.2         38.9      15.3            6.9         7.3  \n",
       "5     13.9         29.5      10.0           14.8        11.1  \n",
       "6     15.3          5.4       2.4           15.0         0.1  \n",
       "7      3.8         32.0      12.8            2.7        20.7  \n",
       "8      0.9          5.2      20.6            0.4        39.9  \n",
       "9      NaN          NaN       NaN            NaN         NaN  "
      ]
     },
     "execution_count": 33,
     "metadata": {},
     "output_type": "execute_result"
    }
   ],
   "source": [
    "nutrional_opt_df = NutritionOptimize(s_df, df,'Default')\n",
    "nutrional_opt_df"
   ]
  },
  {
   "cell_type": "code",
   "execution_count": 34,
   "id": "374346d7",
   "metadata": {
    "ExecuteTime": {
     "end_time": "2021-11-27T01:09:26.971979Z",
     "start_time": "2021-11-27T01:09:26.796746Z"
    }
   },
   "outputs": [
    {
     "data": {
      "image/png": "[encoded data removed]",
      "text/plain": [
       "<Figure size 1008x720 with 1 Axes>"
      ]
     },
     "metadata": {},
     "output_type": "display_data"
    }
   ],
   "source": [
    "def PlotNutritionDV(NtrOptimize_df):\n",
    "    color = NtrColor(NtrOptimize_df)\n",
    "    ntr_plot = pd.DataFrame({'Nutrition':['energy', 'fat', 'protein', 'salt', 'saturates', 'sugars'], \n",
    "                             '% Daily Value':[NtrOptimize_df['%DV-energy'].iloc[0], \n",
    "                                              NtrOptimize_df['%DV-fat'].iloc[0], \n",
    "                                              NtrOptimize_df['%DV-protein'].iloc[0],\n",
    "                                              NtrOptimize_df['%DV-salt'].iloc[0],\n",
    "                                              NtrOptimize_df['%DV-saturates'].iloc[0],\n",
    "                                              NtrOptimize_df['%DV-sugars'].iloc[0]]})\n",
    "    ntr_plot.plot.bar(x='Nutrition', y='% Daily Value', title=NtrOptimize_df['food'][0], rot=0, color=color)\n",
    "    \n",
    "    #heper function\n",
    "def NtrColor(NtrOptimize_df):\n",
    "    color = []\n",
    "    col = '#E0E0E0'\n",
    "    for column in NtrOptimize_df:\n",
    "        if column in ['%DV-salt', '%DV-saturates', '%DV-sugars']:\n",
    "            if NtrOptimize_df[column].iloc[0] < 5.0:\n",
    "                col = '#5DA573'\n",
    "            elif (NtrOptimize_df[column].iloc[0] >= 5.0) and (NtrOptimize_df[column].iloc[0] < 20.0):\n",
    "                col = '#FFCC99'\n",
    "            else:\n",
    "                col = '#CC6600'\n",
    "            \n",
    "        elif column in ['%DV-fat', '%DV-protein']:\n",
    "            if NtrOptimize_df[column].iloc[0] < 5.0:\n",
    "                col = '#CC6600'\n",
    "            elif (NtrOptimize_df[column].iloc[0] >= 5.0) and (NtrOptimize_df[column].iloc[0] < 20.0):\n",
    "                col = '#B1D1BA'\n",
    "            elif NtrOptimize_df[column].iloc[0] >= 20.0:\n",
    "                col = '#5DA573'\n",
    "\n",
    "        color.append(col)\n",
    "    return color[2:]\n",
    "\n",
    "plot = PlotNutritionDV(nutrional_opt_df)"
   ]
  },
  {
   "cell_type": "markdown",
   "id": "a8b79379",
   "metadata": {
    "ExecuteTime": {
     "end_time": "2021-11-18T14:06:38.988824Z",
     "start_time": "2021-11-18T14:06:38.986618Z"
    }
   },
   "source": [
    "# Visualize Flavor Space"
   ]
  },
  {
   "cell_type": "code",
   "execution_count": 35,
   "id": "89481a26",
   "metadata": {
    "ExecuteTime": {
     "end_time": "2021-11-27T01:09:30.692931Z",
     "start_time": "2021-11-27T01:09:30.272996Z"
    }
   },
   "outputs": [],
   "source": [
    "SPACE_SIZE = 10000 # Adjust based on broswer performance capability\n",
    "projection_df = pd.DataFrame(projection[:SPACE_SIZE], columns=('x', 'y','z'))\n",
    "projection_df['id'] = model.dv.index_to_key[:SPACE_SIZE]\n",
    "projection_df['food'] = df['food'][:SPACE_SIZE]\n",
    "projection_df['type'] = df['type'][:SPACE_SIZE]\n",
    "projection_df['ingredient'] = df['unique_ingredient'][:SPACE_SIZE]\n",
    "projection_df['ingredient_count'] = df['ingredient_count'][:SPACE_SIZE]\n",
    "projection_df['cluster'] = clustering_df['cluster']\n",
    "projection_df['color'] = projection_df['cluster'].apply(lambda v: tuple(rgba((v,0))[0:3]))\n",
    "\n",
    "selected_indexes = []"
   ]
  },
  {
   "cell_type": "code",
   "execution_count": 71,
   "id": "448be363",
   "metadata": {
    "ExecuteTime": {
     "end_time": "2021-11-27T01:09:30.937222Z",
     "start_time": "2021-11-27T01:09:30.929522Z"
    }
   },
   "outputs": [],
   "source": [
    "## find nearest neighbors\n",
    "def findSimilars(food=\"\", type_=\"recipe\", limit=0):\n",
    "    if food == \"\":\n",
    "        return projection_df, pd.DataFrame(columns=projection_df.columns)\n",
    "    if not type_ in [\"recipe\", \"ingredient\", \"all\"]:\n",
    "        raise Exception(\"Wrong food type, type must be one of 'recipe, ingredient, all' \")\n",
    "    i=3\n",
    "    row = df.loc[df['food']==food]\n",
    "    flavor_vec = model.infer_vector(row.iloc[0]['mol_doc'].words)\n",
    "    if gensim_version >= 4:\n",
    "        similars = model.dv.most_similar(positive=[flavor_vec],topn=30)\n",
    "    else:\n",
    "        similars = model.dv.most_similar(flavor_vec,topn=30)\n",
    "    indices = [x[0] for x in similars]\n",
    "    indices.append(row[\"id\"].iloc[0])\n",
    "    selected_df = projection_df[projection_df[\"id\"].isin(indices)]\n",
    "    selected_df = selected_df[selected_df[\"type\"] == type_]\n",
    "    if type_ == 'recipe':\n",
    "        selected_df = selected_df[selected_df['ingredient_count'] > limit]\n",
    "    selected_df = selected_df.iloc[:10]\n",
    "    nonselected_df = projection_df[~projection_df[\"id\"].isin(selected_df['id'])]\n",
    "    return nonselected_df, selected_df"
   ]
  },
  {
   "cell_type": "code",
   "execution_count": 72,
   "id": "9b1963d1",
   "metadata": {
    "ExecuteTime": {
     "end_time": "2021-11-27T01:10:14.069073Z",
     "start_time": "2021-11-27T01:10:13.901659Z"
    }
   },
   "outputs": [
    {
     "data": {
      "application/vnd.bokehjs_exec.v0+json": "",
      "text/html": [
       "\n",
       "<script id=\"1672\">\n",
       "  (function() {\n",
       "    const xhr = new XMLHttpRequest()\n",
       "    xhr.responseType = 'blob';\n",
       "    xhr.open('GET', \"http://localhost:64663/autoload.js?bokeh-autoload-element=1672&bokeh-absolute-url=http://localhost:64663&resources=none\", true);\n",
       "    \n",
       "    xhr.onload = function (event) {\n",
       "      const script = document.createElement('script');\n",
       "      const src = URL.createObjectURL(event.target.response);\n",
       "      script.src = src;\n",
       "      document.body.appendChild(script);\n",
       "    };\n",
       "    xhr.send();\n",
       "  })();\n",
       "</script>"
      ]
     },
     "metadata": {
      "application/vnd.bokehjs_exec.v0+json": {
       "server_id": "8e7d5ec34c7449a49880262951fa43f2"
      }
     },
     "output_type": "display_data"
    }
   ],
   "source": [
    "np.warnings.filterwarnings('ignore', category=np.VisibleDeprecationWarning)                 \n",
    "\n",
    "fig = figure(\n",
    "    title='UMAP projection of the Flavor Space',\n",
    "    plot_width=800,\n",
    "    plot_height=800,\n",
    "    tools=('pan, wheel_zoom, reset, lasso_select')\n",
    ")\n",
    "\n",
    "fig.add_tools(HoverTool(tooltips=\"\"\"\n",
    "<div>\n",
    "    <div>\n",
    "        <span style='font-size: 16px; color: #224499'>ID: @id</span>\n",
    "        <span style='font-size: 18px'>@food</span>\n",
    "    </div>\n",
    "</div>\n",
    "\"\"\"))\n",
    "\n",
    "## prepare data\n",
    "nonselected_df, selected_df = findSimilars()\n",
    "chart_data = ColumnDataSource(nonselected_df)\n",
    "highlighted_data = ColumnDataSource(selected_df)\n",
    "table_data = ColumnDataSource(dict(id=highlighted_data.data[\"id\"], \n",
    "                           food=highlighted_data.data[\"food\"], \n",
    "                           type=highlighted_data.data[\"type\"], \n",
    "                           ingredient = highlighted_data.data[\"ingredient\"],\n",
    "                           ingredient_count=highlighted_data.data[\"ingredient_count\"]\n",
    "                          ))\n",
    "color_map = LinearColorMapper(palette=Magma256, low=projection_df['cluster'].min(), high=projection_df['cluster'].max())\n",
    "marker_map = CategoricalMarkerMapper(factors=projection_df['type'].unique(), markers=['circle', 'triangle'])\n",
    "\n",
    "chart = fig.scatter(\n",
    "    'x',\n",
    "    'y',\n",
    "    source=chart_data,\n",
    "    marker=dict(field='type', transform=marker_map),\n",
    "    fill_color='color',\n",
    "    line_color=None,\n",
    "    size=6\n",
    ")\n",
    "\n",
    "## drawing scatter of selected data in red color\n",
    "highlighted_chart = fig.scatter(\n",
    "    'x',\n",
    "    'y',\n",
    "    source=highlighted_data,\n",
    "    color=\"pink\",\n",
    "    line_color=\"yellow\",\n",
    "    fill_alpha=0.7,\n",
    "    size=15\n",
    ")\n",
    "\n",
    "\n",
    "\n",
    "\n",
    "chart_data.selected.js_on_change('indices', \n",
    "     CustomJS(args=dict(chart_data=chart_data, table_data=table_data), \n",
    "              code=\"\"\"\n",
    "                var selected_indexes = cb_obj.indices;\n",
    "                console.log(selected_indexes)\n",
    "                table_data.data['index'] = selected_indexes;\n",
    "                table_data.data['id'] = [];\n",
    "                table_data.data['food'] = [];\n",
    "                table_data.data['ingredient'] = [];\n",
    "                table_data.data['ingredient_count'] = [];\n",
    "                table_data.data['type'] = [];\n",
    "                for (let i=0;i<selected_indexes.length;i++){\n",
    "                    table_data.data['id'].push(chart_data.data['id'][selected_indexes[i]]);\n",
    "                    table_data.data['food'].push(chart_data.data['food'][selected_indexes[i]]);\n",
    "                    table_data.data['type'].push(chart_data.data['type'][selected_indexes[i]]);\n",
    "                    table_data.data['ingredient'].push(chart_data.data['ingredient'][selected_indexes[i]]);\n",
    "                    table_data.data['ingredient_count'].push(chart_data.data['ingredient_count'][selected_indexes[i]]);\n",
    "                }                \n",
    "                \n",
    "                // var kernel = IPython.notebook.kernel;\n",
    "                // IPython.notebook.kernel.execute(\"selected_indexes = \" + selected_indexes);\n",
    "                \n",
    "                table_data.change.emit();\n",
    "                \"\"\"\n",
    "             )\n",
    ")\n",
    "\n",
    "## display the selected data\n",
    "table = DataTable(source=table_data, sizing_mode=\"stretch_width\", columns=[\n",
    "    TableColumn(field='id'),\n",
    "    TableColumn(field='food'),\n",
    "    TableColumn(field='type'),\n",
    "    TableColumn(field='ingredient'),\n",
    "    TableColumn(field='ingredient_count')\n",
    "])\n",
    "\n",
    "#### config user input widgets\n",
    "def updateData(food, type_, limit):\n",
    "    nonselected_df, selected_df = findSimilars(food=food, type_=type_, limit=int(limit))\n",
    "    # update data\n",
    "    chart_data.data = nonselected_df\n",
    "    highlighted_data.data = selected_df\n",
    "    table_data.data = dict(id=highlighted_data.data[\"id\"], \n",
    "                           food=highlighted_data.data[\"food\"], \n",
    "                           ingredient = highlighted_data.data[\"ingredient\"],\n",
    "                           ingredient_count=highlighted_data.data[\"ingredient_count\"],\n",
    "                           type=highlighted_data.data[\"type\"]\n",
    "                          )\n",
    "\n",
    "    \n",
    "## text input for food input\n",
    "def text_input_callback(attr, old, new):\n",
    "    updateData(food=text_input.value, type_=select_type_filter.value, limit=int(select_ingredient_filter.value))\n",
    "\n",
    "# get all possible entries\n",
    "recipe_list = df[df['type'] == \"recipe\"][\"food\"].tolist()\n",
    "ingr_list = df[df['type'] == \"ingredient\"][\"food\"].tolist()\n",
    "\n",
    "text_input = AutocompleteInput(title=\"Food Name\", value='', completions=recipe_list, case_sensitive=False)       \n",
    "text_input.on_change(\"value\",text_input_callback)\n",
    "\n",
    "\n",
    "## filtration food with only 1 or 2 ingredients\n",
    "def ingredient_filter_callback(attr, old, new):\n",
    "    updateData(food=text_input.value, type_=select_type_filter.value, limit=int(select_ingredient_filter.value))\n",
    "\n",
    "select_ingredient_filter = Slider(start=0, end=5, value=0, step=1, title=\"Food with at least N ingredients\")\n",
    "select_ingredient_filter.on_change(\"value\", ingredient_filter_callback)\n",
    "\n",
    "\n",
    "## type filtration\n",
    "def type_filter_callback(attr, old, new):\n",
    "    if select_type_filter.value == 'recipe':\n",
    "        text_input.completions = recipe_list\n",
    "    else:\n",
    "        text_input.completions = ingr_list\n",
    "    text_input.value = \"\"\n",
    "    updateData(food=text_input.value, type_=select_type_filter.value, limit=int(select_ingredient_filter.value))\n",
    "    \n",
    "select_type_filter = Select(title=\"Food type\", value=\"recipe\", options=[\"recipe\", \"ingredient\"])\n",
    "select_type_filter.on_change(\"value\", type_filter_callback)\n",
    "\n",
    "\n",
    "## Nutrition Optimizer\n",
    "nutrition_fig = figure(\n",
    "    x_range=['%DV-energy','%DV-fat','%DV-protein','%DV-salt','%DV-saturates','%DV-sugars'],\n",
    "    y_range=[0,100],\n",
    "    title='Healthy Choice Nutrition Profile',\n",
    "    plot_width=400,\n",
    "    plot_height=400,\n",
    "    toolbar_location=None,\n",
    "    tools=''\n",
    ")\n",
    "\n",
    "nutrition_heading = Div(text='<h3>Nutrional Rankings (%Daily Value) -- higher is better</h3>')\n",
    "nutrition_fig.toolbar.logo = None\n",
    "nutrition_fig.toolbar_location = None\n",
    "nutrition_data = ColumnDataSource()\n",
    "nutrition_chart_data = ColumnDataSource(data=dict(nut=[], dv=[]))\n",
    "nutrition_table = DataTable(\n",
    "    source=nutrition_data, \n",
    "    width=500, \n",
    "    index_position=None,\n",
    "    columns=[\n",
    "        TableColumn(field='food', width=200),\n",
    "        TableColumn(field='%DV-energy', title='energy', width=50),\n",
    "        TableColumn(field='%DV-fat', title='fat', width=50),\n",
    "        TableColumn(field='%DV-protein', title='protein', width=50),\n",
    "        TableColumn(field='%DV-salt', title='salt', width=50),\n",
    "        TableColumn(field='%DV-saturates', title='sat.', width=50),\n",
    "        TableColumn(field='%DV-sugars', title='sugar', width=50)\n",
    "])\n",
    "\n",
    "nutrition_fig.vbar(\n",
    "    x='nut',\n",
    "    top='dv',\n",
    "    width=0.9,\n",
    "    source=nutrition_chart_data\n",
    ")\n",
    "nutrition_fig.xaxis.major_label_orientation = \"vertical\"\n",
    "\n",
    "def nutrition_filter_callback(attr, old, new):\n",
    "    ###############\n",
    "    #### placeholder optimization algorithm here!\n",
    "    ##############\n",
    "    n_df = NutritionOptimize(highlighted_data.data, df, select_nutrition_filter.value)\n",
    "    nutrition_data.data = n_df\n",
    "    top1 = n_df.drop(columns=['id', 'food']).iloc[0]\n",
    "    nutrition_chart_data.data['nut'] = top1.index.tolist()\n",
    "    nutrition_chart_data.data['dv'] = top1.values.tolist()\n",
    "    nutrition_fig.title.text = n_df.iloc[0]['food']\n",
    "    \n",
    "\n",
    "select_nutrition_filter = Select(title=\"Nutrition Priority\", value=\"Select One\", options=[\"Select One\", \"Default\", \"Ketogenic\", \"Low Fat\"])\n",
    "select_nutrition_filter.on_change(\"value\", nutrition_filter_callback)\n",
    "\n",
    "\n",
    "# Set up layouts and add to document\n",
    "# layout = column(row(text_input, select_ingredient_filter, select_nutrition_filter),fig, table)\n",
    "layout = column(row(column( select_type_filter, text_input), \n",
    "                    column(select_ingredient_filter,select_nutrition_filter)),\n",
    "                row(fig),\n",
    "                row(table), \n",
    "                row(\n",
    "                    column(nutrition_heading, row(nutrition_table, nutrition_fig)))\n",
    "               )\n",
    "\n",
    "\n",
    "def modify_doc(doc):\n",
    "    doc.add_root(row(layout, width=800))\n",
    "    return doc\n",
    "\n",
    "\n",
    "handler = FunctionHandler(modify_doc) # A Handler that accepts a plain python function to use for modifying Bokeh Documents.\n",
    "app = Application(handler)\n",
    "show(app)"
   ]
  },
  {
   "cell_type": "markdown",
   "id": "47703899",
   "metadata": {},
   "source": [
    "# \"Tastes like Chicken!\""
   ]
  },
  {
   "cell_type": "code",
   "execution_count": 79,
   "id": "5177e831",
   "metadata": {
    "ExecuteTime": {
     "end_time": "2021-11-27T01:10:51.904224Z",
     "start_time": "2021-11-27T01:10:51.899395Z"
    }
   },
   "outputs": [],
   "source": [
    "def ingredient_filtered(row, term=''):\n",
    "    if type(row) == float or row is None:\n",
    "        return True\n",
    "    \n",
    "    for el in row:\n",
    "        if term in el:\n",
    "            return True\n",
    "    return False\n",
    "\n",
    "def tastes_like(flavor_index, exclude_ingredient, topn=5):\n",
    "    row = df.iloc[flavor_index]\n",
    "    flavor_vec = model.dv.vectors[flavor_index]\n",
    "    if gensim_version >= 4:\n",
    "        df['_sim'] = model.dv.most_similar([flavor_vec], topn=None)\n",
    "    else:\n",
    "        df['_sim'] = model.dv.most_similar(flavor_vec, topn=None)\n",
    "        \n",
    "    df['_present'] = df['unique_ingredient'].apply(ingredient_filtered, term=exclude_ingredient.lower())    \n",
    "    return df[~df._present].sort_values(['_sim'], ascending=False)[:topn]\n",
    "     "
   ]
  },
  {
   "cell_type": "code",
   "execution_count": 80,
   "id": "79b8c6d3",
   "metadata": {
    "ExecuteTime": {
     "end_time": "2021-11-27T01:10:52.966963Z",
     "start_time": "2021-11-27T01:10:52.961532Z"
    }
   },
   "outputs": [
    {
     "data": {
      "text/plain": [
       "id                   ing-272\n",
       "food                 Chicken\n",
       "unique_ingredient       None\n",
       "Name: 51507, dtype: object"
      ]
     },
     "execution_count": 80,
     "metadata": {},
     "output_type": "execute_result"
    }
   ],
   "source": [
    "QUERY_INDEX = 51507\n",
    "df.iloc[QUERY_INDEX][['id','food','unique_ingredient']]"
   ]
  },
  {
   "cell_type": "code",
   "execution_count": 81,
   "id": "2535e2d8",
   "metadata": {
    "ExecuteTime": {
     "end_time": "2021-11-27T01:10:54.372942Z",
     "start_time": "2021-11-27T01:10:54.241017Z"
    }
   },
   "outputs": [
    {
     "data": {
      "text/html": [
       "<div>\n",
       "<style scoped>\n",
       "    .dataframe tbody tr th:only-of-type {\n",
       "        vertical-align: middle;\n",
       "    }\n",
       "\n",
       "    .dataframe tbody tr th {\n",
       "        vertical-align: top;\n",
       "    }\n",
       "\n",
       "    .dataframe thead th {\n",
       "        text-align: right;\n",
       "    }\n",
       "</style>\n",
       "<table border=\"1\" class=\"dataframe\">\n",
       "  <thead>\n",
       "    <tr style=\"text-align: right;\">\n",
       "      <th></th>\n",
       "      <th>id</th>\n",
       "      <th>food</th>\n",
       "      <th>unique_ingredient</th>\n",
       "      <th>_sim</th>\n",
       "    </tr>\n",
       "  </thead>\n",
       "  <tbody>\n",
       "    <tr>\n",
       "      <th>47916</th>\n",
       "      <td>ef4a9bec66</td>\n",
       "      <td>Bbq rotisserie smoked turkey</td>\n",
       "      <td>[ground turkey, raw]</td>\n",
       "      <td>0.534512</td>\n",
       "    </tr>\n",
       "    <tr>\n",
       "      <th>46349</th>\n",
       "      <td>e768b479b4</td>\n",
       "      <td>Thankgiving Day Turkey</td>\n",
       "      <td>[ground turkey, raw, water, bottled, generic, ...</td>\n",
       "      <td>0.533408</td>\n",
       "    </tr>\n",
       "    <tr>\n",
       "      <th>50751</th>\n",
       "      <td>fd74454535</td>\n",
       "      <td>Cajun Deep Fried Turkey (Houston Chronicle) Re...</td>\n",
       "      <td>[ground turkey, raw]</td>\n",
       "      <td>0.529180</td>\n",
       "    </tr>\n",
       "    <tr>\n",
       "      <th>46151</th>\n",
       "      <td>e67b50494c</td>\n",
       "      <td>Gorilla Fart</td>\n",
       "      <td>[alcoholic beverage, distilled, rum, 80 proof,...</td>\n",
       "      <td>0.528323</td>\n",
       "    </tr>\n",
       "    <tr>\n",
       "      <th>45523</th>\n",
       "      <td>e35bc46e21</td>\n",
       "      <td>Flaming Orgy</td>\n",
       "      <td>[ground turkey, raw, alcoholic beverage, disti...</td>\n",
       "      <td>0.524276</td>\n",
       "    </tr>\n",
       "    <tr>\n",
       "      <th>14509</th>\n",
       "      <td>48a9f25708</td>\n",
       "      <td>Easy 3-Minute Microwave Caramel Sauce</td>\n",
       "      <td>[sugars, granulated, water, bottled, generic]</td>\n",
       "      <td>0.511129</td>\n",
       "    </tr>\n",
       "    <tr>\n",
       "      <th>33357</th>\n",
       "      <td>a643679b3e</td>\n",
       "      <td>Reuben Sandwich</td>\n",
       "      <td>[ground turkey, raw]</td>\n",
       "      <td>0.510742</td>\n",
       "    </tr>\n",
       "    <tr>\n",
       "      <th>43140</th>\n",
       "      <td>d7c5341369</td>\n",
       "      <td>Desert Fire</td>\n",
       "      <td>[alcoholic beverage, tequila sunrise, canned, ...</td>\n",
       "      <td>0.509866</td>\n",
       "    </tr>\n",
       "    <tr>\n",
       "      <th>6633</th>\n",
       "      <td>20b9cde664</td>\n",
       "      <td>Recipe no longer on file Recipe aricat</td>\n",
       "      <td>[water, bottled, generic]</td>\n",
       "      <td>0.507073</td>\n",
       "    </tr>\n",
       "    <tr>\n",
       "      <th>11117</th>\n",
       "      <td>3778c7e07e</td>\n",
       "      <td>Toffees</td>\n",
       "      <td>[sugars, granulated, water, bottled, generic, ...</td>\n",
       "      <td>0.504166</td>\n",
       "    </tr>\n",
       "  </tbody>\n",
       "</table>\n",
       "</div>"
      ],
      "text/plain": [
       "               id                                               food  \\\n",
       "47916  ef4a9bec66                       Bbq rotisserie smoked turkey   \n",
       "46349  e768b479b4                             Thankgiving Day Turkey   \n",
       "50751  fd74454535  Cajun Deep Fried Turkey (Houston Chronicle) Re...   \n",
       "46151  e67b50494c                                       Gorilla Fart   \n",
       "45523  e35bc46e21                                       Flaming Orgy   \n",
       "14509  48a9f25708              Easy 3-Minute Microwave Caramel Sauce   \n",
       "33357  a643679b3e                                    Reuben Sandwich   \n",
       "43140  d7c5341369                                        Desert Fire   \n",
       "6633   20b9cde664             Recipe no longer on file Recipe aricat   \n",
       "11117  3778c7e07e                                            Toffees   \n",
       "\n",
       "                                       unique_ingredient      _sim  \n",
       "47916                               [ground turkey, raw]  0.534512  \n",
       "46349  [ground turkey, raw, water, bottled, generic, ...  0.533408  \n",
       "50751                               [ground turkey, raw]  0.529180  \n",
       "46151  [alcoholic beverage, distilled, rum, 80 proof,...  0.528323  \n",
       "45523  [ground turkey, raw, alcoholic beverage, disti...  0.524276  \n",
       "14509      [sugars, granulated, water, bottled, generic]  0.511129  \n",
       "33357                               [ground turkey, raw]  0.510742  \n",
       "43140  [alcoholic beverage, tequila sunrise, canned, ...  0.509866  \n",
       "6633                           [water, bottled, generic]  0.507073  \n",
       "11117  [sugars, granulated, water, bottled, generic, ...  0.504166  "
      ]
     },
     "execution_count": 81,
     "metadata": {},
     "output_type": "execute_result"
    }
   ],
   "source": [
    "tastes_like(QUERY_INDEX, exclude_ingredient='Chicken', topn=10)[['id','food','unique_ingredient','_sim']]"
   ]
  },
  {
   "cell_type": "markdown",
   "id": "aa75db4b",
   "metadata": {},
   "source": [
    "# Computational Cooking!"
   ]
  },
  {
   "cell_type": "code",
   "execution_count": 44,
   "id": "49491b66",
   "metadata": {
    "ExecuteTime": {
     "end_time": "2021-11-27T01:11:06.443141Z",
     "start_time": "2021-11-27T01:11:06.410165Z"
    }
   },
   "outputs": [],
   "source": [
    "# Locate food vectorsa\n",
    "df[(df.type == 'ingredient') & (df['food'].str.contains('Potato'))];"
   ]
  },
  {
   "cell_type": "markdown",
   "id": "1cc6f0cf",
   "metadata": {},
   "source": [
    "## What molecules determine meat flavor?"
   ]
  },
  {
   "cell_type": "code",
   "execution_count": 45,
   "id": "4763bdea",
   "metadata": {
    "ExecuteTime": {
     "end_time": "2021-11-27T01:11:09.752063Z",
     "start_time": "2021-11-27T01:11:09.552254Z"
    }
   },
   "outputs": [
    {
     "data": {
      "text/html": [
       "<div>\n",
       "<style scoped>\n",
       "    .dataframe tbody tr th:only-of-type {\n",
       "        vertical-align: middle;\n",
       "    }\n",
       "\n",
       "    .dataframe tbody tr th {\n",
       "        vertical-align: top;\n",
       "    }\n",
       "\n",
       "    .dataframe thead th {\n",
       "        text-align: right;\n",
       "    }\n",
       "</style>\n",
       "<table border=\"1\" class=\"dataframe\">\n",
       "  <thead>\n",
       "    <tr style=\"text-align: right;\">\n",
       "      <th></th>\n",
       "      <th>id</th>\n",
       "      <th>food</th>\n",
       "      <th>unique_ingredient</th>\n",
       "      <th>ingredient_count</th>\n",
       "      <th>category_freq</th>\n",
       "      <th>instructions</th>\n",
       "      <th>flavor_molecules</th>\n",
       "      <th>molecules_count</th>\n",
       "      <th>nutr_values_per100g.energy</th>\n",
       "      <th>nutr_values_per100g.fat</th>\n",
       "      <th>...</th>\n",
       "      <th>entity_alias_basket</th>\n",
       "      <th>natural_source_name</th>\n",
       "      <th>entity_alias</th>\n",
       "      <th>molecules</th>\n",
       "      <th>natural_source_url</th>\n",
       "      <th>entity_alias_url</th>\n",
       "      <th>entity_alias_synonyms</th>\n",
       "      <th>mol_doc</th>\n",
       "      <th>_sim</th>\n",
       "      <th>_present</th>\n",
       "    </tr>\n",
       "  </thead>\n",
       "  <tbody>\n",
       "    <tr>\n",
       "      <th>51507</th>\n",
       "      <td>ing-272</td>\n",
       "      <td>Chicken</td>\n",
       "      <td>None</td>\n",
       "      <td>NaN</td>\n",
       "      <td>None</td>\n",
       "      <td>None</td>\n",
       "      <td>None</td>\n",
       "      <td>131</td>\n",
       "      <td>NaN</td>\n",
       "      <td>NaN</td>\n",
       "      <td>...</td>\n",
       "      <td>chicken, chicken-boiled, chicken-broth, chicke...</td>\n",
       "      <td>Fowl</td>\n",
       "      <td>chicken</td>\n",
       "      <td>[{'atom_stereo_count': 0, 'bitter': 0, 'bitter...</td>\n",
       "      <td>https://en.wikipedia.org/wiki/Fowl</td>\n",
       "      <td>https://en.wikipedia.org/wiki/Chicken</td>\n",
       "      <td>Chicken</td>\n",
       "      <td>([5367531, 20083, 5283349, 7501, 7363, 5352461...</td>\n",
       "      <td>1.000000</td>\n",
       "      <td>True</td>\n",
       "    </tr>\n",
       "    <tr>\n",
       "      <th>51515</th>\n",
       "      <td>ing-280</td>\n",
       "      <td>Turkey</td>\n",
       "      <td>None</td>\n",
       "      <td>NaN</td>\n",
       "      <td>None</td>\n",
       "      <td>None</td>\n",
       "      <td>None</td>\n",
       "      <td>17</td>\n",
       "      <td>NaN</td>\n",
       "      <td>NaN</td>\n",
       "      <td>...</td>\n",
       "      <td>turkey, turkey-cooked, turkey-roasted</td>\n",
       "      <td>Domesticate Turkey</td>\n",
       "      <td>turkey</td>\n",
       "      <td>[{'atom_stereo_count': 0, 'bitter': 1, 'bitter...</td>\n",
       "      <td>https://en.wikipedia.org/wiki/Domesticated_turkey</td>\n",
       "      <td>https://en.wikipedia.org/wiki/Turkey_meat</td>\n",
       "      <td>Turkey</td>\n",
       "      <td>([6202, 644104, 20861, 6274, 520108, 11449, 52...</td>\n",
       "      <td>0.527499</td>\n",
       "      <td>True</td>\n",
       "    </tr>\n",
       "    <tr>\n",
       "      <th>51513</th>\n",
       "      <td>ing-278</td>\n",
       "      <td>Pork</td>\n",
       "      <td>None</td>\n",
       "      <td>NaN</td>\n",
       "      <td>None</td>\n",
       "      <td>None</td>\n",
       "      <td>None</td>\n",
       "      <td>157</td>\n",
       "      <td>NaN</td>\n",
       "      <td>NaN</td>\n",
       "      <td>...</td>\n",
       "      <td>pork, pork-bacon, pork-boiled, pork-cooked, po...</td>\n",
       "      <td>Domestic Pig</td>\n",
       "      <td>pork</td>\n",
       "      <td>[{'atom_stereo_count': 0, 'bitter': 0, 'bitter...</td>\n",
       "      <td>https://en.wikipedia.org/wiki/Domestic_pig</td>\n",
       "      <td>https://en.wikipedia.org/wiki/Pork</td>\n",
       "      <td>Pork, Bacon</td>\n",
       "      <td>([5367531, 10558, 61260, 10448, 7363, 8468, 11...</td>\n",
       "      <td>0.480730</td>\n",
       "      <td>True</td>\n",
       "    </tr>\n",
       "    <tr>\n",
       "      <th>51505</th>\n",
       "      <td>ing-270</td>\n",
       "      <td>Beef</td>\n",
       "      <td>None</td>\n",
       "      <td>NaN</td>\n",
       "      <td>None</td>\n",
       "      <td>None</td>\n",
       "      <td>None</td>\n",
       "      <td>92</td>\n",
       "      <td>NaN</td>\n",
       "      <td>NaN</td>\n",
       "      <td>...</td>\n",
       "      <td>beef, beef-canned, beef-extract, beef-liver, b...</td>\n",
       "      <td>Cattle</td>\n",
       "      <td>beef</td>\n",
       "      <td>[{'atom_stereo_count': 1, 'bitter': 0, 'bitter...</td>\n",
       "      <td>https://en.wikipedia.org/wiki/Cattle</td>\n",
       "      <td>https://en.wikipedia.org/wiki/Beef</td>\n",
       "      <td>Beef</td>\n",
       "      <td>([20083, 7501, 643731, 11509, 985, 1123, 6584,...</td>\n",
       "      <td>0.478433</td>\n",
       "      <td>True</td>\n",
       "    </tr>\n",
       "    <tr>\n",
       "      <th>51510</th>\n",
       "      <td>ing-275</td>\n",
       "      <td>Lamb</td>\n",
       "      <td>None</td>\n",
       "      <td>NaN</td>\n",
       "      <td>None</td>\n",
       "      <td>None</td>\n",
       "      <td>None</td>\n",
       "      <td>37</td>\n",
       "      <td>NaN</td>\n",
       "      <td>NaN</td>\n",
       "      <td>...</td>\n",
       "      <td>lamb, lamb-cooked, lamb-fat, lamb-liver, lamb-...</td>\n",
       "      <td>Sheep</td>\n",
       "      <td>lamb</td>\n",
       "      <td>[{'atom_stereo_count': 1, 'bitter': 0, 'bitter...</td>\n",
       "      <td>https://en.wikipedia.org/wiki/Sheep</td>\n",
       "      <td>https://en.wikipedia.org/wiki/Sheep</td>\n",
       "      <td>Lamb</td>\n",
       "      <td>([20653, 61840, 62089, 5281, 7909, 5283321, 52...</td>\n",
       "      <td>0.296368</td>\n",
       "      <td>True</td>\n",
       "    </tr>\n",
       "  </tbody>\n",
       "</table>\n",
       "<p>5 rows × 32 columns</p>\n",
       "</div>"
      ],
      "text/plain": [
       "            id     food unique_ingredient  ingredient_count category_freq  \\\n",
       "51507  ing-272  Chicken              None               NaN          None   \n",
       "51515  ing-280   Turkey              None               NaN          None   \n",
       "51513  ing-278     Pork              None               NaN          None   \n",
       "51505  ing-270     Beef              None               NaN          None   \n",
       "51510  ing-275     Lamb              None               NaN          None   \n",
       "\n",
       "      instructions flavor_molecules  molecules_count  \\\n",
       "51507         None             None              131   \n",
       "51515         None             None               17   \n",
       "51513         None             None              157   \n",
       "51505         None             None               92   \n",
       "51510         None             None               37   \n",
       "\n",
       "       nutr_values_per100g.energy  nutr_values_per100g.fat  ...  \\\n",
       "51507                         NaN                      NaN  ...   \n",
       "51515                         NaN                      NaN  ...   \n",
       "51513                         NaN                      NaN  ...   \n",
       "51505                         NaN                      NaN  ...   \n",
       "51510                         NaN                      NaN  ...   \n",
       "\n",
       "                                     entity_alias_basket  natural_source_name  \\\n",
       "51507  chicken, chicken-boiled, chicken-broth, chicke...                 Fowl   \n",
       "51515              turkey, turkey-cooked, turkey-roasted   Domesticate Turkey   \n",
       "51513  pork, pork-bacon, pork-boiled, pork-cooked, po...         Domestic Pig   \n",
       "51505  beef, beef-canned, beef-extract, beef-liver, b...               Cattle   \n",
       "51510  lamb, lamb-cooked, lamb-fat, lamb-liver, lamb-...                Sheep   \n",
       "\n",
       "       entity_alias                                          molecules  \\\n",
       "51507       chicken  [{'atom_stereo_count': 0, 'bitter': 0, 'bitter...   \n",
       "51515        turkey  [{'atom_stereo_count': 0, 'bitter': 1, 'bitter...   \n",
       "51513          pork  [{'atom_stereo_count': 0, 'bitter': 0, 'bitter...   \n",
       "51505          beef  [{'atom_stereo_count': 1, 'bitter': 0, 'bitter...   \n",
       "51510          lamb  [{'atom_stereo_count': 1, 'bitter': 0, 'bitter...   \n",
       "\n",
       "                                      natural_source_url  \\\n",
       "51507                 https://en.wikipedia.org/wiki/Fowl   \n",
       "51515  https://en.wikipedia.org/wiki/Domesticated_turkey   \n",
       "51513         https://en.wikipedia.org/wiki/Domestic_pig   \n",
       "51505               https://en.wikipedia.org/wiki/Cattle   \n",
       "51510                https://en.wikipedia.org/wiki/Sheep   \n",
       "\n",
       "                                entity_alias_url entity_alias_synonyms  \\\n",
       "51507      https://en.wikipedia.org/wiki/Chicken               Chicken   \n",
       "51515  https://en.wikipedia.org/wiki/Turkey_meat                Turkey   \n",
       "51513         https://en.wikipedia.org/wiki/Pork           Pork, Bacon   \n",
       "51505         https://en.wikipedia.org/wiki/Beef                  Beef   \n",
       "51510        https://en.wikipedia.org/wiki/Sheep                  Lamb   \n",
       "\n",
       "                                                 mol_doc      _sim _present  \n",
       "51507  ([5367531, 20083, 5283349, 7501, 7363, 5352461...  1.000000     True  \n",
       "51515  ([6202, 644104, 20861, 6274, 520108, 11449, 52...  0.527499     True  \n",
       "51513  ([5367531, 10558, 61260, 10448, 7363, 8468, 11...  0.480730     True  \n",
       "51505  ([20083, 7501, 643731, 11509, 985, 1123, 6584,...  0.478433     True  \n",
       "51510  ([20653, 61840, 62089, 5281, 7909, 5283321, 52...  0.296368     True  \n",
       "\n",
       "[5 rows x 32 columns]"
      ]
     },
     "execution_count": 45,
     "metadata": {},
     "output_type": "execute_result"
    }
   ],
   "source": [
    "meat_vec_ids = [51507,51515,51513,51505,51510]\n",
    "df.iloc[meat_vec_ids]"
   ]
  },
  {
   "cell_type": "code",
   "execution_count": 46,
   "id": "d50bd003",
   "metadata": {
    "ExecuteTime": {
     "end_time": "2021-11-27T01:11:10.926601Z",
     "start_time": "2021-11-27T01:11:10.922721Z"
    }
   },
   "outputs": [],
   "source": [
    "def common_mols(vec_ids, common):\n",
    "    if len(vec_ids) == 1:\n",
    "        i = vec_ids.pop()\n",
    "        b = set(df.iloc[i].mols)\n",
    "        return common.intersection(b)\n",
    "    else:\n",
    "        i = vec_ids.pop()\n",
    "        b = set(df.iloc[i].mols)\n",
    "        return common_mols(vec_ids, common.intersection(b))"
   ]
  },
  {
   "cell_type": "code",
   "execution_count": 73,
   "id": "0a8f93b5",
   "metadata": {
    "ExecuteTime": {
     "end_time": "2021-11-27T01:11:13.706086Z",
     "start_time": "2021-11-27T01:11:13.643788Z"
    }
   },
   "outputs": [
    {
     "data": {
      "text/html": [
       "<div>\n",
       "<style scoped>\n",
       "    .dataframe tbody tr th:only-of-type {\n",
       "        vertical-align: middle;\n",
       "    }\n",
       "\n",
       "    .dataframe tbody tr th {\n",
       "        vertical-align: top;\n",
       "    }\n",
       "\n",
       "    .dataframe thead th {\n",
       "        text-align: right;\n",
       "    }\n",
       "</style>\n",
       "<table border=\"1\" class=\"dataframe\">\n",
       "  <thead>\n",
       "    <tr style=\"text-align: right;\">\n",
       "      <th></th>\n",
       "      <th>id</th>\n",
       "      <th>similarity</th>\n",
       "      <th>food</th>\n",
       "    </tr>\n",
       "  </thead>\n",
       "  <tbody>\n",
       "    <tr>\n",
       "      <th>0</th>\n",
       "      <td>ing-316</td>\n",
       "      <td>0.876139</td>\n",
       "      <td>Macaroni</td>\n",
       "    </tr>\n",
       "    <tr>\n",
       "      <th>1</th>\n",
       "      <td>ing-273</td>\n",
       "      <td>0.866206</td>\n",
       "      <td>Frankfurter Sausage</td>\n",
       "    </tr>\n",
       "    <tr>\n",
       "      <th>2</th>\n",
       "      <td>56b5ef3b8c</td>\n",
       "      <td>0.793589</td>\n",
       "      <td>Baked Brie Recipe</td>\n",
       "    </tr>\n",
       "    <tr>\n",
       "      <th>3</th>\n",
       "      <td>ing-274</td>\n",
       "      <td>0.776448</td>\n",
       "      <td>Ham</td>\n",
       "    </tr>\n",
       "    <tr>\n",
       "      <th>4</th>\n",
       "      <td>ing-61</td>\n",
       "      <td>0.640258</td>\n",
       "      <td>Buttermilk</td>\n",
       "    </tr>\n",
       "    <tr>\n",
       "      <th>5</th>\n",
       "      <td>ing-948</td>\n",
       "      <td>0.636681</td>\n",
       "      <td>Empanada</td>\n",
       "    </tr>\n",
       "    <tr>\n",
       "      <th>6</th>\n",
       "      <td>ing-695</td>\n",
       "      <td>0.629341</td>\n",
       "      <td>Walrus</td>\n",
       "    </tr>\n",
       "    <tr>\n",
       "      <th>7</th>\n",
       "      <td>ing-965</td>\n",
       "      <td>0.629275</td>\n",
       "      <td>Potato gratin</td>\n",
       "    </tr>\n",
       "    <tr>\n",
       "      <th>8</th>\n",
       "      <td>ing-667</td>\n",
       "      <td>0.625059</td>\n",
       "      <td>Broad whitefish</td>\n",
       "    </tr>\n",
       "    <tr>\n",
       "      <th>9</th>\n",
       "      <td>ing-713</td>\n",
       "      <td>0.624889</td>\n",
       "      <td>Spot croaker</td>\n",
       "    </tr>\n",
       "  </tbody>\n",
       "</table>\n",
       "</div>"
      ],
      "text/plain": [
       "           id  similarity                 food\n",
       "0     ing-316    0.876139             Macaroni\n",
       "1     ing-273    0.866206  Frankfurter Sausage\n",
       "2  56b5ef3b8c    0.793589    Baked Brie Recipe\n",
       "3     ing-274    0.776448                  Ham\n",
       "4      ing-61    0.640258           Buttermilk\n",
       "5     ing-948    0.636681             Empanada\n",
       "6     ing-695    0.629341               Walrus\n",
       "7     ing-965    0.629275        Potato gratin\n",
       "8     ing-667    0.625059      Broad whitefish\n",
       "9     ing-713    0.624889         Spot croaker"
      ]
     },
     "execution_count": 73,
     "metadata": {},
     "output_type": "execute_result"
    }
   ],
   "source": [
    "meat_mols = common_mols(meat_vec_ids[1:], set(df.iloc[meat_vec_ids[0]].mols))\n",
    "meat_vec = model.infer_vector(meat_mols, epochs=100)\n",
    "if gensim_version >= 4:\n",
    "    similars = model.dv.most_similar(positive=[meat_vec])\n",
    "else:\n",
    "    similars = model.dv.most_similar(meat_vec)\n",
    "    \n",
    "s_df = pd.DataFrame(similars, columns=['id','similarity']).astype({'id': 'string'})\n",
    "s_df.reset_index().merge(df, on='id', how='left')[['id','similarity','food']]"
   ]
  },
  {
   "cell_type": "markdown",
   "id": "3d2b66d1",
   "metadata": {},
   "source": [
    "## Finding the perfect snack"
   ]
  },
  {
   "cell_type": "code",
   "execution_count": 49,
   "id": "ca51ebad",
   "metadata": {
    "ExecuteTime": {
     "end_time": "2021-11-27T01:11:29.198766Z",
     "start_time": "2021-11-27T01:11:29.036308Z"
    }
   },
   "outputs": [
    {
     "data": {
      "text/html": [
       "<div>\n",
       "<style scoped>\n",
       "    .dataframe tbody tr th:only-of-type {\n",
       "        vertical-align: middle;\n",
       "    }\n",
       "\n",
       "    .dataframe tbody tr th {\n",
       "        vertical-align: top;\n",
       "    }\n",
       "\n",
       "    .dataframe thead th {\n",
       "        text-align: right;\n",
       "    }\n",
       "</style>\n",
       "<table border=\"1\" class=\"dataframe\">\n",
       "  <thead>\n",
       "    <tr style=\"text-align: right;\">\n",
       "      <th></th>\n",
       "      <th>id</th>\n",
       "      <th>food</th>\n",
       "      <th>unique_ingredient</th>\n",
       "      <th>ingredient_count</th>\n",
       "      <th>category_freq</th>\n",
       "      <th>instructions</th>\n",
       "      <th>flavor_molecules</th>\n",
       "      <th>molecules_count</th>\n",
       "      <th>nutr_values_per100g.energy</th>\n",
       "      <th>nutr_values_per100g.fat</th>\n",
       "      <th>...</th>\n",
       "      <th>entity_alias_basket</th>\n",
       "      <th>natural_source_name</th>\n",
       "      <th>entity_alias</th>\n",
       "      <th>molecules</th>\n",
       "      <th>natural_source_url</th>\n",
       "      <th>entity_alias_url</th>\n",
       "      <th>entity_alias_synonyms</th>\n",
       "      <th>mol_doc</th>\n",
       "      <th>_sim</th>\n",
       "      <th>_present</th>\n",
       "    </tr>\n",
       "  </thead>\n",
       "  <tbody>\n",
       "    <tr>\n",
       "      <th>51522</th>\n",
       "      <td>ing-287</td>\n",
       "      <td>Peanut</td>\n",
       "      <td>None</td>\n",
       "      <td>NaN</td>\n",
       "      <td>None</td>\n",
       "      <td>None</td>\n",
       "      <td>None</td>\n",
       "      <td>212</td>\n",
       "      <td>NaN</td>\n",
       "      <td>NaN</td>\n",
       "      <td>...</td>\n",
       "      <td>peanut, peanut-roasted</td>\n",
       "      <td>Arachis</td>\n",
       "      <td>peanut</td>\n",
       "      <td>[{'atom_stereo_count': 1, 'bitter': 0, 'bitter...</td>\n",
       "      <td>https://en.wikipedia.org/wiki/Arachis</td>\n",
       "      <td>https://en.wikipedia.org/wiki/Peanut</td>\n",
       "      <td>Groundnut, Goober</td>\n",
       "      <td>([6436017, 5367531, 323, 107971, 12779, 7501, ...</td>\n",
       "      <td>0.210739</td>\n",
       "      <td>True</td>\n",
       "    </tr>\n",
       "    <tr>\n",
       "      <th>51550</th>\n",
       "      <td>ing-315</td>\n",
       "      <td>Honey</td>\n",
       "      <td>None</td>\n",
       "      <td>NaN</td>\n",
       "      <td>None</td>\n",
       "      <td>None</td>\n",
       "      <td>None</td>\n",
       "      <td>60</td>\n",
       "      <td>NaN</td>\n",
       "      <td>NaN</td>\n",
       "      <td>...</td>\n",
       "      <td>honey</td>\n",
       "      <td>Bees</td>\n",
       "      <td>honey</td>\n",
       "      <td>[{'atom_stereo_count': 0, 'bitter': 0, 'bitter...</td>\n",
       "      <td>https://en.wikipedia.org/wiki/Bee</td>\n",
       "      <td>https://en.wikipedia.org/wiki/Honey</td>\n",
       "      <td>Honey</td>\n",
       "      <td>([7362, 12529, 7795, 11124, 7501, 12180, 7150,...</td>\n",
       "      <td>0.378575</td>\n",
       "      <td>True</td>\n",
       "    </tr>\n",
       "    <tr>\n",
       "      <th>51608</th>\n",
       "      <td>ing-373</td>\n",
       "      <td>Potato</td>\n",
       "      <td>None</td>\n",
       "      <td>NaN</td>\n",
       "      <td>None</td>\n",
       "      <td>None</td>\n",
       "      <td>None</td>\n",
       "      <td>254</td>\n",
       "      <td>NaN</td>\n",
       "      <td>NaN</td>\n",
       "      <td>...</td>\n",
       "      <td>potato, potato-baked, potato-boiled, potato-ca...</td>\n",
       "      <td>Solanum</td>\n",
       "      <td>potato</td>\n",
       "      <td>[{'atom_stereo_count': 0, 'bitter': 1, 'bitter...</td>\n",
       "      <td>https://en.wikipedia.org/wiki/Solanum</td>\n",
       "      <td>https://en.wikipedia.org/wiki/Potato</td>\n",
       "      <td>Potato</td>\n",
       "      <td>([323, 107971, 12209, 5283349, 7284, 10448, 71...</td>\n",
       "      <td>0.268854</td>\n",
       "      <td>True</td>\n",
       "    </tr>\n",
       "  </tbody>\n",
       "</table>\n",
       "<p>3 rows × 32 columns</p>\n",
       "</div>"
      ],
      "text/plain": [
       "            id    food unique_ingredient  ingredient_count category_freq  \\\n",
       "51522  ing-287  Peanut              None               NaN          None   \n",
       "51550  ing-315   Honey              None               NaN          None   \n",
       "51608  ing-373  Potato              None               NaN          None   \n",
       "\n",
       "      instructions flavor_molecules  molecules_count  \\\n",
       "51522         None             None              212   \n",
       "51550         None             None               60   \n",
       "51608         None             None              254   \n",
       "\n",
       "       nutr_values_per100g.energy  nutr_values_per100g.fat  ...  \\\n",
       "51522                         NaN                      NaN  ...   \n",
       "51550                         NaN                      NaN  ...   \n",
       "51608                         NaN                      NaN  ...   \n",
       "\n",
       "                                     entity_alias_basket  natural_source_name  \\\n",
       "51522                             peanut, peanut-roasted              Arachis   \n",
       "51550                                              honey                 Bees   \n",
       "51608  potato, potato-baked, potato-boiled, potato-ca...              Solanum   \n",
       "\n",
       "       entity_alias                                          molecules  \\\n",
       "51522        peanut  [{'atom_stereo_count': 1, 'bitter': 0, 'bitter...   \n",
       "51550         honey  [{'atom_stereo_count': 0, 'bitter': 0, 'bitter...   \n",
       "51608        potato  [{'atom_stereo_count': 0, 'bitter': 1, 'bitter...   \n",
       "\n",
       "                          natural_source_url  \\\n",
       "51522  https://en.wikipedia.org/wiki/Arachis   \n",
       "51550      https://en.wikipedia.org/wiki/Bee   \n",
       "51608  https://en.wikipedia.org/wiki/Solanum   \n",
       "\n",
       "                           entity_alias_url entity_alias_synonyms  \\\n",
       "51522  https://en.wikipedia.org/wiki/Peanut     Groundnut, Goober   \n",
       "51550   https://en.wikipedia.org/wiki/Honey                 Honey   \n",
       "51608  https://en.wikipedia.org/wiki/Potato                Potato   \n",
       "\n",
       "                                                 mol_doc      _sim _present  \n",
       "51522  ([6436017, 5367531, 323, 107971, 12779, 7501, ...  0.210739     True  \n",
       "51550  ([7362, 12529, 7795, 11124, 7501, 12180, 7150,...  0.378575     True  \n",
       "51608  ([323, 107971, 12209, 5283349, 7284, 10448, 71...  0.268854     True  \n",
       "\n",
       "[3 rows x 32 columns]"
      ]
     },
     "execution_count": 49,
     "metadata": {},
     "output_type": "execute_result"
    }
   ],
   "source": [
    "food_vec_ids = [51522,51550,51608]\n",
    "df.iloc[food_vec_ids]"
   ]
  },
  {
   "cell_type": "code",
   "execution_count": 50,
   "id": "4107d582",
   "metadata": {
    "ExecuteTime": {
     "end_time": "2021-11-27T01:11:32.644622Z",
     "start_time": "2021-11-27T01:11:32.640775Z"
    }
   },
   "outputs": [],
   "source": [
    "peanut = model.dv.vectors[51522]\n",
    "honey = 0.5*model.dv.vectors[51550]\n",
    "potato = model.dv.vectors[51608]"
   ]
  },
  {
   "cell_type": "code",
   "execution_count": 76,
   "id": "176f3503",
   "metadata": {
    "ExecuteTime": {
     "end_time": "2021-11-27T01:11:33.871194Z",
     "start_time": "2021-11-27T01:11:33.810291Z"
    }
   },
   "outputs": [
    {
     "data": {
      "text/html": [
       "<div>\n",
       "<style scoped>\n",
       "    .dataframe tbody tr th:only-of-type {\n",
       "        vertical-align: middle;\n",
       "    }\n",
       "\n",
       "    .dataframe tbody tr th {\n",
       "        vertical-align: top;\n",
       "    }\n",
       "\n",
       "    .dataframe thead th {\n",
       "        text-align: right;\n",
       "    }\n",
       "</style>\n",
       "<table border=\"1\" class=\"dataframe\">\n",
       "  <thead>\n",
       "    <tr style=\"text-align: right;\">\n",
       "      <th></th>\n",
       "      <th>id</th>\n",
       "      <th>similarity</th>\n",
       "      <th>food</th>\n",
       "    </tr>\n",
       "  </thead>\n",
       "  <tbody>\n",
       "    <tr>\n",
       "      <th>0</th>\n",
       "      <td>ing-287</td>\n",
       "      <td>0.660045</td>\n",
       "      <td>Peanut</td>\n",
       "    </tr>\n",
       "    <tr>\n",
       "      <th>1</th>\n",
       "      <td>55fd67cb53</td>\n",
       "      <td>0.458882</td>\n",
       "      <td>Honey-Glazed Pecans</td>\n",
       "    </tr>\n",
       "    <tr>\n",
       "      <th>2</th>\n",
       "      <td>0701eaacca</td>\n",
       "      <td>0.458400</td>\n",
       "      <td>Our Favorite Honey Mustard Dipping Sauce</td>\n",
       "    </tr>\n",
       "    <tr>\n",
       "      <th>3</th>\n",
       "      <td>0dad22345c</td>\n",
       "      <td>0.457565</td>\n",
       "      <td>Sweet and Sour Dessert Sauce</td>\n",
       "    </tr>\n",
       "    <tr>\n",
       "      <th>4</th>\n",
       "      <td>6f064cf896</td>\n",
       "      <td>0.454464</td>\n",
       "      <td>honey glaze</td>\n",
       "    </tr>\n",
       "    <tr>\n",
       "      <th>5</th>\n",
       "      <td>67f4e034a0</td>\n",
       "      <td>0.452899</td>\n",
       "      <td>Woodland White Sauce</td>\n",
       "    </tr>\n",
       "    <tr>\n",
       "      <th>6</th>\n",
       "      <td>5458cb64e2</td>\n",
       "      <td>0.452791</td>\n",
       "      <td>Basic Honey Taffy Recipe</td>\n",
       "    </tr>\n",
       "    <tr>\n",
       "      <th>7</th>\n",
       "      <td>5f0bce31be</td>\n",
       "      <td>0.452055</td>\n",
       "      <td>Chick-Fil-A Sauce</td>\n",
       "    </tr>\n",
       "    <tr>\n",
       "      <th>8</th>\n",
       "      <td>69f70a9023</td>\n",
       "      <td>0.451868</td>\n",
       "      <td>Sweet Pork Chop Sauce</td>\n",
       "    </tr>\n",
       "    <tr>\n",
       "      <th>9</th>\n",
       "      <td>0900bf63ce</td>\n",
       "      <td>0.451600</td>\n",
       "      <td>Tvp Honey Nuggets</td>\n",
       "    </tr>\n",
       "  </tbody>\n",
       "</table>\n",
       "</div>"
      ],
      "text/plain": [
       "           id  similarity                                      food\n",
       "0     ing-287    0.660045                                    Peanut\n",
       "1  55fd67cb53    0.458882                       Honey-Glazed Pecans\n",
       "2  0701eaacca    0.458400  Our Favorite Honey Mustard Dipping Sauce\n",
       "3  0dad22345c    0.457565              Sweet and Sour Dessert Sauce\n",
       "4  6f064cf896    0.454464                               honey glaze\n",
       "5  67f4e034a0    0.452899                      Woodland White Sauce\n",
       "6  5458cb64e2    0.452791                  Basic Honey Taffy Recipe\n",
       "7  5f0bce31be    0.452055                         Chick-Fil-A Sauce\n",
       "8  69f70a9023    0.451868                     Sweet Pork Chop Sauce\n",
       "9  0900bf63ce    0.451600                         Tvp Honey Nuggets"
      ]
     },
     "execution_count": 76,
     "metadata": {},
     "output_type": "execute_result"
    }
   ],
   "source": [
    "if gensim_version >= 4:\n",
    "    similars = model.dv.most_similar(positive=[peanut+honey+meat_vec-potato])\n",
    "else:\n",
    "    similars = model.dv.most_similar(peanut+honey+meat_vec-potato)\n",
    "    \n",
    "s_df = pd.DataFrame(similars, columns=['id','similarity']).astype({'id': 'string'})\n",
    "s_df.reset_index().merge(df, on='id', how='left')[['id','similarity','food']]"
   ]
  },
  {
   "cell_type": "markdown",
   "id": "db50f7af",
   "metadata": {
    "ExecuteTime": {
     "end_time": "2021-11-23T18:24:14.128125Z",
     "start_time": "2021-11-23T18:24:14.125954Z"
    }
   },
   "source": [
    "# Save Flavor Space Artifacts"
   ]
  },
  {
   "cell_type": "code",
   "execution_count": 52,
   "id": "55486622",
   "metadata": {
    "ExecuteTime": {
     "end_time": "2021-11-26T18:26:04.724774Z",
     "start_time": "2021-11-26T18:26:04.721773Z"
    }
   },
   "outputs": [],
   "source": [
    "if not LOAD_FROM_FILE:\n",
    "    df.drop(columns=['mol_doc']+[c for c in df.columns if c.startswith('_')]).to_parquet(DATAFRAME_FILE)\n",
    "    mol_df.to_parquet(FLAVMOL_FILE)"
   ]
  },
  {
   "cell_type": "code",
   "execution_count": 59,
   "id": "c6baa770-6cf3-40e3-a3f5-555b6711f28d",
   "metadata": {},
   "outputs": [],
   "source": [
    "from pip._vendor import pkg_resources\n",
    "\n",
    "def get_version(package):\n",
    "    package = package.lower()\n",
    "    return next((p.version for p in pkg_resources.working_set if p.project_name.lower() == package), \"No match\")"
   ]
  },
  {
   "cell_type": "code",
   "execution_count": 66,
   "id": "05b586c2-c5b0-454d-9b18-6bc095187720",
   "metadata": {},
   "outputs": [
    {
     "data": {
      "text/plain": [
       "True"
      ]
     },
     "execution_count": 66,
     "metadata": {},
     "output_type": "execute_result"
    }
   ],
   "source": []
  },
  {
   "cell_type": "code",
   "execution_count": 61,
   "id": "02537256-bf8b-40a8-8892-9c0fb0d012cc",
   "metadata": {},
   "outputs": [
    {
     "data": {
      "text/plain": [
       "'No match'"
      ]
     },
     "execution_count": 61,
     "metadata": {},
     "output_type": "execute_result"
    }
   ],
   "source": [
    "get_version(\"python\")"
   ]
  },
  {
   "cell_type": "code",
   "execution_count": null,
   "id": "156d1efb-c201-43dc-97d0-8f89761583fe",
   "metadata": {},
   "outputs": [],
   "source": []
  }
 ],
 "metadata": {
  "kernelspec": {
   "display_name": "Python 3 (ipykernel)",
   "language": "python",
   "name": "python3"
  },
  "language_info": {
   "codemirror_mode": {
    "name": "ipython",
    "version": 3
   },
   "file_extension": ".py",
   "mimetype": "text/x-python",
   "name": "python",
   "nbconvert_exporter": "python",
   "pygments_lexer": "ipython3",
   "version": "3.9.6"
  }
 },
 "nbformat": 4,
 "nbformat_minor": 5
}

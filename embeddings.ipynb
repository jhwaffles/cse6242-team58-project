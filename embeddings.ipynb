{
 "cells": [
  {
   "cell_type": "code",
   "execution_count": 62,
   "id": "acee3f25",
   "metadata": {
    "ExecuteTime": {
     "end_time": "2021-11-18T14:17:01.479353Z",
     "start_time": "2021-11-18T14:17:01.477086Z"
    }
   },
   "outputs": [],
   "source": [
    "import ujson as json\n",
    "import numpy as np\n",
    "import pandas as pd\n",
    "import gensim"
   ]
  },
  {
   "cell_type": "code",
   "execution_count": 2,
   "id": "0556cbb0",
   "metadata": {
    "ExecuteTime": {
     "end_time": "2021-11-18T08:07:41.370951Z",
     "start_time": "2021-11-18T08:07:41.368588Z"
    }
   },
   "outputs": [],
   "source": [
    "import logging\n",
    "logging.basicConfig(format='%(asctime)s : %(levelname)s : %(message)s', level=logging.INFO)"
   ]
  },
  {
   "cell_type": "code",
   "execution_count": 3,
   "id": "2bd11c5a",
   "metadata": {
    "ExecuteTime": {
     "end_time": "2021-11-18T08:07:41.374172Z",
     "start_time": "2021-11-18T08:07:41.372080Z"
    }
   },
   "outputs": [],
   "source": [
    "# Load dataset"
   ]
  },
  {
   "cell_type": "code",
   "execution_count": 4,
   "id": "fa704865",
   "metadata": {
    "ExecuteTime": {
     "end_time": "2021-11-18T08:07:42.468458Z",
     "start_time": "2021-11-18T08:07:41.741919Z"
    }
   },
   "outputs": [],
   "source": [
    "with open('data/joined_dev_set.json') as f:\n",
    "    data = json.load(f)\n",
    "    df = pd.json_normalize(data)\n",
    "    df = df.astype({'id': 'string'})"
   ]
  },
  {
   "cell_type": "code",
   "execution_count": 5,
   "id": "5ab642d2",
   "metadata": {
    "ExecuteTime": {
     "end_time": "2021-11-18T08:07:42.472484Z",
     "start_time": "2021-11-18T08:07:42.470315Z"
    }
   },
   "outputs": [],
   "source": [
    "# Find max molecule_count"
   ]
  },
  {
   "cell_type": "code",
   "execution_count": 6,
   "id": "d6ca4f4e",
   "metadata": {
    "ExecuteTime": {
     "end_time": "2021-11-18T08:07:42.482816Z",
     "start_time": "2021-11-18T08:07:42.473768Z"
    },
    "scrolled": false
   },
   "outputs": [
    {
     "data": {
      "text/plain": [
       "677"
      ]
     },
     "execution_count": 6,
     "metadata": {},
     "output_type": "execute_result"
    }
   ],
   "source": [
    "FLAVOR_VECTOR_SIZE = df['molecules_count'].max() \n",
    "FLAVOR_VECTOR_SIZE"
   ]
  },
  {
   "cell_type": "code",
   "execution_count": 7,
   "id": "ed8abfa3",
   "metadata": {
    "ExecuteTime": {
     "end_time": "2021-11-18T08:07:42.593070Z",
     "start_time": "2021-11-18T08:07:42.590882Z"
    }
   },
   "outputs": [],
   "source": [
    "# Construct Document vectors"
   ]
  },
  {
   "cell_type": "code",
   "execution_count": 8,
   "id": "251129a9",
   "metadata": {
    "ExecuteTime": {
     "end_time": "2021-11-18T08:07:43.137051Z",
     "start_time": "2021-11-18T08:07:43.008943Z"
    }
   },
   "outputs": [],
   "source": [
    "df['molecules'] = df['flavor_molecules'].apply(lambda el: [str(m['pubchem_id']) for m in el])"
   ]
  },
  {
   "cell_type": "code",
   "execution_count": 9,
   "id": "61b3f135",
   "metadata": {
    "ExecuteTime": {
     "end_time": "2021-11-18T08:07:43.403899Z",
     "start_time": "2021-11-18T08:07:43.401768Z"
    }
   },
   "outputs": [],
   "source": [
    "# Build Tagged Document Corpus"
   ]
  },
  {
   "cell_type": "code",
   "execution_count": 10,
   "id": "3fde74bd",
   "metadata": {
    "ExecuteTime": {
     "end_time": "2021-11-18T08:07:44.992656Z",
     "start_time": "2021-11-18T08:07:44.968868Z"
    }
   },
   "outputs": [],
   "source": [
    "df['doc'] = df.apply(lambda r: gensim.models.doc2vec.TaggedDocument(r['molecules'], [r['id']]), axis=1)"
   ]
  },
  {
   "cell_type": "code",
   "execution_count": 11,
   "id": "9bb3163c",
   "metadata": {
    "ExecuteTime": {
     "end_time": "2021-11-18T08:07:45.262719Z",
     "start_time": "2021-11-18T08:07:45.260516Z"
    }
   },
   "outputs": [],
   "source": [
    "# Train Model"
   ]
  },
  {
   "cell_type": "code",
   "execution_count": 12,
   "id": "ac391766",
   "metadata": {
    "ExecuteTime": {
     "end_time": "2021-11-18T08:07:45.893765Z",
     "start_time": "2021-11-18T08:07:45.796877Z"
    }
   },
   "outputs": [
    {
     "name": "stderr",
     "output_type": "stream",
     "text": [
      "2021-11-18 00:07:45,799 : INFO : Doc2Vec lifecycle event {'params': 'Doc2Vec(dbow,d300,n5,mc5,s0.001,t3)', 'datetime': '2021-11-18T00:07:45.798961', 'gensim': '4.1.2', 'python': '3.9.7 (default, Sep 16 2021, 08:50:36) \\n[Clang 10.0.0 ]', 'platform': 'macOS-10.14.6-x86_64-i386-64bit', 'event': 'created'}\n",
      "2021-11-18 00:07:45,800 : INFO : collecting all words and their counts\n",
      "2021-11-18 00:07:45,800 : INFO : PROGRESS: at example #0, processed 0 words (0/s), 0 word types, 0 tags\n",
      "2021-11-18 00:07:45,857 : INFO : collected 1399 word types and 1000 unique tags from a corpus of 1000 examples and 311515 words\n",
      "2021-11-18 00:07:45,858 : INFO : Creating a fresh vocabulary\n",
      "2021-11-18 00:07:45,862 : INFO : Doc2Vec lifecycle event {'msg': 'effective_min_count=5 retains 1300 unique words (92.92351679771265%% of original 1399, drops 99)', 'datetime': '2021-11-18T00:07:45.862944', 'gensim': '4.1.2', 'python': '3.9.7 (default, Sep 16 2021, 08:50:36) \\n[Clang 10.0.0 ]', 'platform': 'macOS-10.14.6-x86_64-i386-64bit', 'event': 'prepare_vocab'}\n",
      "2021-11-18 00:07:45,863 : INFO : Doc2Vec lifecycle event {'msg': 'effective_min_count=5 leaves 311296 word corpus (99.92969840938639%% of original 311515, drops 219)', 'datetime': '2021-11-18T00:07:45.863545', 'gensim': '4.1.2', 'python': '3.9.7 (default, Sep 16 2021, 08:50:36) \\n[Clang 10.0.0 ]', 'platform': 'macOS-10.14.6-x86_64-i386-64bit', 'event': 'prepare_vocab'}\n",
      "2021-11-18 00:07:45,871 : INFO : deleting the raw counts dictionary of 1399 items\n",
      "2021-11-18 00:07:45,871 : INFO : sample=0.001 downsamples 111 most-common words\n",
      "2021-11-18 00:07:45,872 : INFO : Doc2Vec lifecycle event {'msg': 'downsampling leaves estimated 303511.76421183173 word corpus (97.5%% of prior 311296)', 'datetime': '2021-11-18T00:07:45.872532', 'gensim': '4.1.2', 'python': '3.9.7 (default, Sep 16 2021, 08:50:36) \\n[Clang 10.0.0 ]', 'platform': 'macOS-10.14.6-x86_64-i386-64bit', 'event': 'prepare_vocab'}\n",
      "2021-11-18 00:07:45,886 : INFO : estimated required memory for 1300 words and 300 dimensions: 5170000 bytes\n",
      "2021-11-18 00:07:45,887 : INFO : resetting layer weights\n"
     ]
    }
   ],
   "source": [
    "model = gensim.models.doc2vec.Doc2Vec(dm=0, vector_size=300, window=FLAVOR_VECTOR_SIZE, epochs=40)\n",
    "model.build_vocab(df['doc'])"
   ]
  },
  {
   "cell_type": "code",
   "execution_count": 13,
   "id": "b13ed628",
   "metadata": {
    "ExecuteTime": {
     "end_time": "2021-11-18T08:07:53.453194Z",
     "start_time": "2021-11-18T08:07:46.380636Z"
    },
    "scrolled": true
   },
   "outputs": [
    {
     "name": "stderr",
     "output_type": "stream",
     "text": [
      "2021-11-18 00:07:46,381 : INFO : Doc2Vec lifecycle event {'msg': 'training model with 3 workers on 1300 vocabulary and 300 features, using sg=1 hs=0 sample=0.001 negative=5 window=677 shrink_windows=True', 'datetime': '2021-11-18T00:07:46.381609', 'gensim': '4.1.2', 'python': '3.9.7 (default, Sep 16 2021, 08:50:36) \\n[Clang 10.0.0 ]', 'platform': 'macOS-10.14.6-x86_64-i386-64bit', 'event': 'train'}\n",
      "2021-11-18 00:07:46,558 : INFO : worker thread finished; awaiting finish of 2 more threads\n",
      "2021-11-18 00:07:46,567 : INFO : worker thread finished; awaiting finish of 1 more threads\n",
      "2021-11-18 00:07:46,568 : INFO : worker thread finished; awaiting finish of 0 more threads\n",
      "2021-11-18 00:07:46,568 : INFO : EPOCH - 1 : training on 311515 raw words (304539 effective words) took 0.2s, 1649683 effective words/s\n",
      "2021-11-18 00:07:46,727 : INFO : worker thread finished; awaiting finish of 2 more threads\n",
      "2021-11-18 00:07:46,736 : INFO : worker thread finished; awaiting finish of 1 more threads\n",
      "2021-11-18 00:07:46,737 : INFO : worker thread finished; awaiting finish of 0 more threads\n",
      "2021-11-18 00:07:46,737 : INFO : EPOCH - 2 : training on 311515 raw words (304340 effective words) took 0.2s, 1816946 effective words/s\n",
      "2021-11-18 00:07:46,908 : INFO : worker thread finished; awaiting finish of 2 more threads\n",
      "2021-11-18 00:07:46,914 : INFO : worker thread finished; awaiting finish of 1 more threads\n",
      "2021-11-18 00:07:46,915 : INFO : worker thread finished; awaiting finish of 0 more threads\n",
      "2021-11-18 00:07:46,915 : INFO : EPOCH - 3 : training on 311515 raw words (304459 effective words) took 0.2s, 1727349 effective words/s\n",
      "2021-11-18 00:07:47,079 : INFO : worker thread finished; awaiting finish of 2 more threads\n",
      "2021-11-18 00:07:47,089 : INFO : worker thread finished; awaiting finish of 1 more threads\n",
      "2021-11-18 00:07:47,091 : INFO : worker thread finished; awaiting finish of 0 more threads\n",
      "2021-11-18 00:07:47,091 : INFO : EPOCH - 4 : training on 311515 raw words (304466 effective words) took 0.2s, 1743315 effective words/s\n",
      "2021-11-18 00:07:47,258 : INFO : worker thread finished; awaiting finish of 2 more threads\n",
      "2021-11-18 00:07:47,267 : INFO : worker thread finished; awaiting finish of 1 more threads\n",
      "2021-11-18 00:07:47,269 : INFO : worker thread finished; awaiting finish of 0 more threads\n",
      "2021-11-18 00:07:47,269 : INFO : EPOCH - 5 : training on 311515 raw words (304584 effective words) took 0.2s, 1728215 effective words/s\n",
      "2021-11-18 00:07:47,431 : INFO : worker thread finished; awaiting finish of 2 more threads\n",
      "2021-11-18 00:07:47,441 : INFO : worker thread finished; awaiting finish of 1 more threads\n",
      "2021-11-18 00:07:47,444 : INFO : worker thread finished; awaiting finish of 0 more threads\n",
      "2021-11-18 00:07:47,444 : INFO : EPOCH - 6 : training on 311515 raw words (304472 effective words) took 0.2s, 1755355 effective words/s\n",
      "2021-11-18 00:07:47,611 : INFO : worker thread finished; awaiting finish of 2 more threads\n",
      "2021-11-18 00:07:47,620 : INFO : worker thread finished; awaiting finish of 1 more threads\n",
      "2021-11-18 00:07:47,623 : INFO : worker thread finished; awaiting finish of 0 more threads\n",
      "2021-11-18 00:07:47,624 : INFO : EPOCH - 7 : training on 311515 raw words (304300 effective words) took 0.2s, 1711762 effective words/s\n",
      "2021-11-18 00:07:47,787 : INFO : worker thread finished; awaiting finish of 2 more threads\n",
      "2021-11-18 00:07:47,795 : INFO : worker thread finished; awaiting finish of 1 more threads\n",
      "2021-11-18 00:07:47,796 : INFO : worker thread finished; awaiting finish of 0 more threads\n",
      "2021-11-18 00:07:47,796 : INFO : EPOCH - 8 : training on 311515 raw words (304669 effective words) took 0.2s, 1782682 effective words/s\n",
      "2021-11-18 00:07:47,966 : INFO : worker thread finished; awaiting finish of 2 more threads\n",
      "2021-11-18 00:07:47,971 : INFO : worker thread finished; awaiting finish of 1 more threads\n",
      "2021-11-18 00:07:47,974 : INFO : worker thread finished; awaiting finish of 0 more threads\n",
      "2021-11-18 00:07:47,974 : INFO : EPOCH - 9 : training on 311515 raw words (304651 effective words) took 0.2s, 1728285 effective words/s\n",
      "2021-11-18 00:07:48,142 : INFO : worker thread finished; awaiting finish of 2 more threads\n",
      "2021-11-18 00:07:48,147 : INFO : worker thread finished; awaiting finish of 1 more threads\n",
      "2021-11-18 00:07:48,148 : INFO : worker thread finished; awaiting finish of 0 more threads\n",
      "2021-11-18 00:07:48,149 : INFO : EPOCH - 10 : training on 311515 raw words (304491 effective words) took 0.2s, 1757047 effective words/s\n",
      "2021-11-18 00:07:48,321 : INFO : worker thread finished; awaiting finish of 2 more threads\n",
      "2021-11-18 00:07:48,323 : INFO : worker thread finished; awaiting finish of 1 more threads\n",
      "2021-11-18 00:07:48,324 : INFO : worker thread finished; awaiting finish of 0 more threads\n",
      "2021-11-18 00:07:48,325 : INFO : EPOCH - 11 : training on 311515 raw words (304656 effective words) took 0.2s, 1752050 effective words/s\n",
      "2021-11-18 00:07:48,490 : INFO : worker thread finished; awaiting finish of 2 more threads\n",
      "2021-11-18 00:07:48,500 : INFO : worker thread finished; awaiting finish of 1 more threads\n",
      "2021-11-18 00:07:48,502 : INFO : worker thread finished; awaiting finish of 0 more threads\n",
      "2021-11-18 00:07:48,502 : INFO : EPOCH - 12 : training on 311515 raw words (304457 effective words) took 0.2s, 1727715 effective words/s\n",
      "2021-11-18 00:07:48,669 : INFO : worker thread finished; awaiting finish of 2 more threads\n",
      "2021-11-18 00:07:48,679 : INFO : worker thread finished; awaiting finish of 1 more threads\n",
      "2021-11-18 00:07:48,681 : INFO : worker thread finished; awaiting finish of 0 more threads\n",
      "2021-11-18 00:07:48,682 : INFO : EPOCH - 13 : training on 311515 raw words (304566 effective words) took 0.2s, 1712273 effective words/s\n",
      "2021-11-18 00:07:48,853 : INFO : worker thread finished; awaiting finish of 2 more threads\n",
      "2021-11-18 00:07:48,854 : INFO : worker thread finished; awaiting finish of 1 more threads\n",
      "2021-11-18 00:07:48,855 : INFO : worker thread finished; awaiting finish of 0 more threads\n",
      "2021-11-18 00:07:48,856 : INFO : EPOCH - 14 : training on 311515 raw words (304435 effective words) took 0.2s, 1764247 effective words/s\n",
      "2021-11-18 00:07:49,021 : INFO : worker thread finished; awaiting finish of 2 more threads\n",
      "2021-11-18 00:07:49,031 : INFO : worker thread finished; awaiting finish of 1 more threads\n",
      "2021-11-18 00:07:49,034 : INFO : worker thread finished; awaiting finish of 0 more threads\n",
      "2021-11-18 00:07:49,035 : INFO : EPOCH - 15 : training on 311515 raw words (304496 effective words) took 0.2s, 1716716 effective words/s\n",
      "2021-11-18 00:07:49,196 : INFO : worker thread finished; awaiting finish of 2 more threads\n",
      "2021-11-18 00:07:49,205 : INFO : worker thread finished; awaiting finish of 1 more threads\n",
      "2021-11-18 00:07:49,207 : INFO : worker thread finished; awaiting finish of 0 more threads\n",
      "2021-11-18 00:07:49,208 : INFO : EPOCH - 16 : training on 311515 raw words (304603 effective words) took 0.2s, 1775396 effective words/s\n",
      "2021-11-18 00:07:49,375 : INFO : worker thread finished; awaiting finish of 2 more threads\n",
      "2021-11-18 00:07:49,383 : INFO : worker thread finished; awaiting finish of 1 more threads\n",
      "2021-11-18 00:07:49,385 : INFO : worker thread finished; awaiting finish of 0 more threads\n",
      "2021-11-18 00:07:49,386 : INFO : EPOCH - 17 : training on 311515 raw words (304601 effective words) took 0.2s, 1724196 effective words/s\n",
      "2021-11-18 00:07:49,556 : INFO : worker thread finished; awaiting finish of 2 more threads\n",
      "2021-11-18 00:07:49,566 : INFO : worker thread finished; awaiting finish of 1 more threads\n",
      "2021-11-18 00:07:49,567 : INFO : worker thread finished; awaiting finish of 0 more threads\n",
      "2021-11-18 00:07:49,568 : INFO : EPOCH - 18 : training on 311515 raw words (304551 effective words) took 0.2s, 1688807 effective words/s\n",
      "2021-11-18 00:07:49,727 : INFO : worker thread finished; awaiting finish of 2 more threads\n",
      "2021-11-18 00:07:49,734 : INFO : worker thread finished; awaiting finish of 1 more threads\n",
      "2021-11-18 00:07:49,737 : INFO : worker thread finished; awaiting finish of 0 more threads\n",
      "2021-11-18 00:07:49,737 : INFO : EPOCH - 19 : training on 311515 raw words (304378 effective words) took 0.2s, 1810730 effective words/s\n",
      "2021-11-18 00:07:49,903 : INFO : worker thread finished; awaiting finish of 2 more threads\n"
     ]
    },
    {
     "name": "stderr",
     "output_type": "stream",
     "text": [
      "2021-11-18 00:07:49,912 : INFO : worker thread finished; awaiting finish of 1 more threads\n",
      "2021-11-18 00:07:49,913 : INFO : worker thread finished; awaiting finish of 0 more threads\n",
      "2021-11-18 00:07:49,913 : INFO : EPOCH - 20 : training on 311515 raw words (304551 effective words) took 0.2s, 1745683 effective words/s\n",
      "2021-11-18 00:07:50,083 : INFO : worker thread finished; awaiting finish of 2 more threads\n",
      "2021-11-18 00:07:50,086 : INFO : worker thread finished; awaiting finish of 1 more threads\n",
      "2021-11-18 00:07:50,086 : INFO : worker thread finished; awaiting finish of 0 more threads\n",
      "2021-11-18 00:07:50,087 : INFO : EPOCH - 21 : training on 311515 raw words (304560 effective words) took 0.2s, 1770915 effective words/s\n",
      "2021-11-18 00:07:50,257 : INFO : worker thread finished; awaiting finish of 2 more threads\n",
      "2021-11-18 00:07:50,262 : INFO : worker thread finished; awaiting finish of 1 more threads\n",
      "2021-11-18 00:07:50,265 : INFO : worker thread finished; awaiting finish of 0 more threads\n",
      "2021-11-18 00:07:50,266 : INFO : EPOCH - 22 : training on 311515 raw words (304489 effective words) took 0.2s, 1717729 effective words/s\n",
      "2021-11-18 00:07:50,431 : INFO : worker thread finished; awaiting finish of 2 more threads\n",
      "2021-11-18 00:07:50,441 : INFO : worker thread finished; awaiting finish of 1 more threads\n",
      "2021-11-18 00:07:50,443 : INFO : worker thread finished; awaiting finish of 0 more threads\n",
      "2021-11-18 00:07:50,443 : INFO : EPOCH - 23 : training on 311515 raw words (304587 effective words) took 0.2s, 1731265 effective words/s\n",
      "2021-11-18 00:07:50,612 : INFO : worker thread finished; awaiting finish of 2 more threads\n",
      "2021-11-18 00:07:50,620 : INFO : worker thread finished; awaiting finish of 1 more threads\n",
      "2021-11-18 00:07:50,622 : INFO : worker thread finished; awaiting finish of 0 more threads\n",
      "2021-11-18 00:07:50,622 : INFO : EPOCH - 24 : training on 311515 raw words (304533 effective words) took 0.2s, 1715898 effective words/s\n",
      "2021-11-18 00:07:50,793 : INFO : worker thread finished; awaiting finish of 2 more threads\n",
      "2021-11-18 00:07:50,795 : INFO : worker thread finished; awaiting finish of 1 more threads\n",
      "2021-11-18 00:07:50,797 : INFO : worker thread finished; awaiting finish of 0 more threads\n",
      "2021-11-18 00:07:50,797 : INFO : EPOCH - 25 : training on 311515 raw words (304400 effective words) took 0.2s, 1752399 effective words/s\n",
      "2021-11-18 00:07:50,969 : INFO : worker thread finished; awaiting finish of 2 more threads\n",
      "2021-11-18 00:07:50,976 : INFO : worker thread finished; awaiting finish of 1 more threads\n",
      "2021-11-18 00:07:50,980 : INFO : worker thread finished; awaiting finish of 0 more threads\n",
      "2021-11-18 00:07:50,981 : INFO : EPOCH - 26 : training on 311515 raw words (304665 effective words) took 0.2s, 1674949 effective words/s\n",
      "2021-11-18 00:07:51,156 : INFO : worker thread finished; awaiting finish of 2 more threads\n",
      "2021-11-18 00:07:51,162 : INFO : worker thread finished; awaiting finish of 1 more threads\n",
      "2021-11-18 00:07:51,163 : INFO : worker thread finished; awaiting finish of 0 more threads\n",
      "2021-11-18 00:07:51,164 : INFO : EPOCH - 27 : training on 311515 raw words (304324 effective words) took 0.2s, 1676112 effective words/s\n",
      "2021-11-18 00:07:51,334 : INFO : worker thread finished; awaiting finish of 2 more threads\n",
      "2021-11-18 00:07:51,344 : INFO : worker thread finished; awaiting finish of 1 more threads\n",
      "2021-11-18 00:07:51,346 : INFO : worker thread finished; awaiting finish of 0 more threads\n",
      "2021-11-18 00:07:51,347 : INFO : EPOCH - 28 : training on 311515 raw words (304321 effective words) took 0.2s, 1680255 effective words/s\n",
      "2021-11-18 00:07:51,514 : INFO : worker thread finished; awaiting finish of 2 more threads\n",
      "2021-11-18 00:07:51,523 : INFO : worker thread finished; awaiting finish of 1 more threads\n",
      "2021-11-18 00:07:51,525 : INFO : worker thread finished; awaiting finish of 0 more threads\n",
      "2021-11-18 00:07:51,525 : INFO : EPOCH - 29 : training on 311515 raw words (304407 effective words) took 0.2s, 1719675 effective words/s\n",
      "2021-11-18 00:07:51,698 : INFO : worker thread finished; awaiting finish of 2 more threads\n",
      "2021-11-18 00:07:51,700 : INFO : worker thread finished; awaiting finish of 1 more threads\n",
      "2021-11-18 00:07:51,706 : INFO : worker thread finished; awaiting finish of 0 more threads\n",
      "2021-11-18 00:07:51,707 : INFO : EPOCH - 30 : training on 311515 raw words (304633 effective words) took 0.2s, 1691871 effective words/s\n",
      "2021-11-18 00:07:51,878 : INFO : worker thread finished; awaiting finish of 2 more threads\n",
      "2021-11-18 00:07:51,883 : INFO : worker thread finished; awaiting finish of 1 more threads\n",
      "2021-11-18 00:07:51,886 : INFO : worker thread finished; awaiting finish of 0 more threads\n",
      "2021-11-18 00:07:51,886 : INFO : EPOCH - 31 : training on 311515 raw words (304399 effective words) took 0.2s, 1712768 effective words/s\n",
      "2021-11-18 00:07:52,053 : INFO : worker thread finished; awaiting finish of 2 more threads\n",
      "2021-11-18 00:07:52,060 : INFO : worker thread finished; awaiting finish of 1 more threads\n",
      "2021-11-18 00:07:52,064 : INFO : worker thread finished; awaiting finish of 0 more threads\n",
      "2021-11-18 00:07:52,064 : INFO : EPOCH - 32 : training on 311515 raw words (304444 effective words) took 0.2s, 1723129 effective words/s\n",
      "2021-11-18 00:07:52,237 : INFO : worker thread finished; awaiting finish of 2 more threads\n",
      "2021-11-18 00:07:52,241 : INFO : worker thread finished; awaiting finish of 1 more threads\n",
      "2021-11-18 00:07:52,243 : INFO : worker thread finished; awaiting finish of 0 more threads\n",
      "2021-11-18 00:07:52,244 : INFO : EPOCH - 33 : training on 311515 raw words (304639 effective words) took 0.2s, 1708087 effective words/s\n",
      "2021-11-18 00:07:52,410 : INFO : worker thread finished; awaiting finish of 2 more threads\n",
      "2021-11-18 00:07:52,418 : INFO : worker thread finished; awaiting finish of 1 more threads\n",
      "2021-11-18 00:07:52,419 : INFO : worker thread finished; awaiting finish of 0 more threads\n",
      "2021-11-18 00:07:52,419 : INFO : EPOCH - 34 : training on 311515 raw words (304522 effective words) took 0.2s, 1753405 effective words/s\n",
      "2021-11-18 00:07:52,579 : INFO : worker thread finished; awaiting finish of 2 more threads\n",
      "2021-11-18 00:07:52,589 : INFO : worker thread finished; awaiting finish of 1 more threads\n",
      "2021-11-18 00:07:52,592 : INFO : worker thread finished; awaiting finish of 0 more threads\n",
      "2021-11-18 00:07:52,592 : INFO : EPOCH - 35 : training on 311515 raw words (304528 effective words) took 0.2s, 1770727 effective words/s\n",
      "2021-11-18 00:07:52,752 : INFO : worker thread finished; awaiting finish of 2 more threads\n",
      "2021-11-18 00:07:52,758 : INFO : worker thread finished; awaiting finish of 1 more threads\n",
      "2021-11-18 00:07:52,762 : INFO : worker thread finished; awaiting finish of 0 more threads\n",
      "2021-11-18 00:07:52,762 : INFO : EPOCH - 36 : training on 311515 raw words (304521 effective words) took 0.2s, 1807627 effective words/s\n",
      "2021-11-18 00:07:52,922 : INFO : worker thread finished; awaiting finish of 2 more threads\n",
      "2021-11-18 00:07:52,931 : INFO : worker thread finished; awaiting finish of 1 more threads\n",
      "2021-11-18 00:07:52,932 : INFO : worker thread finished; awaiting finish of 0 more threads\n",
      "2021-11-18 00:07:52,932 : INFO : EPOCH - 37 : training on 311515 raw words (304432 effective words) took 0.2s, 1809634 effective words/s\n",
      "2021-11-18 00:07:53,094 : INFO : worker thread finished; awaiting finish of 2 more threads\n",
      "2021-11-18 00:07:53,102 : INFO : worker thread finished; awaiting finish of 1 more threads\n",
      "2021-11-18 00:07:53,104 : INFO : worker thread finished; awaiting finish of 0 more threads\n",
      "2021-11-18 00:07:53,105 : INFO : EPOCH - 38 : training on 311515 raw words (304589 effective words) took 0.2s, 1777507 effective words/s\n",
      "2021-11-18 00:07:53,269 : INFO : worker thread finished; awaiting finish of 2 more threads\n",
      "2021-11-18 00:07:53,272 : INFO : worker thread finished; awaiting finish of 1 more threads\n",
      "2021-11-18 00:07:53,275 : INFO : worker thread finished; awaiting finish of 0 more threads\n",
      "2021-11-18 00:07:53,276 : INFO : EPOCH - 39 : training on 311515 raw words (304435 effective words) took 0.2s, 1793058 effective words/s\n",
      "2021-11-18 00:07:53,440 : INFO : worker thread finished; awaiting finish of 2 more threads\n"
     ]
    },
    {
     "name": "stderr",
     "output_type": "stream",
     "text": [
      "2021-11-18 00:07:53,446 : INFO : worker thread finished; awaiting finish of 1 more threads\n",
      "2021-11-18 00:07:53,450 : INFO : worker thread finished; awaiting finish of 0 more threads\n",
      "2021-11-18 00:07:53,451 : INFO : EPOCH - 40 : training on 311515 raw words (304520 effective words) took 0.2s, 1752838 effective words/s\n",
      "2021-11-18 00:07:53,451 : INFO : Doc2Vec lifecycle event {'msg': 'training on 12460600 raw words (12180213 effective words) took 7.1s, 1723012 effective words/s', 'datetime': '2021-11-18T00:07:53.451802', 'gensim': '4.1.2', 'python': '3.9.7 (default, Sep 16 2021, 08:50:36) \\n[Clang 10.0.0 ]', 'platform': 'macOS-10.14.6-x86_64-i386-64bit', 'event': 'train'}\n"
     ]
    }
   ],
   "source": [
    "model.train(df['doc'], total_examples=model.corpus_count, epochs=model.epochs)"
   ]
  },
  {
   "cell_type": "code",
   "execution_count": 14,
   "id": "7d11581e",
   "metadata": {
    "ExecuteTime": {
     "end_time": "2021-11-18T08:07:54.436020Z",
     "start_time": "2021-11-18T08:07:54.433645Z"
    }
   },
   "outputs": [],
   "source": [
    "# Search for similar flavor vecotrs"
   ]
  },
  {
   "cell_type": "code",
   "execution_count": 15,
   "id": "9e2e7bfc",
   "metadata": {
    "ExecuteTime": {
     "end_time": "2021-11-18T08:07:54.891756Z",
     "start_time": "2021-11-18T08:07:54.887731Z"
    }
   },
   "outputs": [],
   "source": [
    "def random_suggestion():\n",
    "    row = df.sample(n=1)\n",
    "    flavor_vec = model.infer_vector(row.iloc[0]['doc'].words)\n",
    "    similars = model.dv.most_similar(flavor_vec)\n",
    "    s_df = pd.DataFrame(similars, columns=['id','similarity']).astype({'id': 'string'})\n",
    "    return pd.concat([row[['id','food']], s_df.merge(df, on='id', how='left')[['id','similarity','food']] ])"
   ]
  },
  {
   "cell_type": "code",
   "execution_count": 42,
   "id": "2866141b",
   "metadata": {
    "ExecuteTime": {
     "end_time": "2021-11-18T08:27:52.623296Z",
     "start_time": "2021-11-18T08:27:52.581989Z"
    }
   },
   "outputs": [
    {
     "data": {
      "text/html": [
       "<div>\n",
       "<style scoped>\n",
       "    .dataframe tbody tr th:only-of-type {\n",
       "        vertical-align: middle;\n",
       "    }\n",
       "\n",
       "    .dataframe tbody tr th {\n",
       "        vertical-align: top;\n",
       "    }\n",
       "\n",
       "    .dataframe thead th {\n",
       "        text-align: right;\n",
       "    }\n",
       "</style>\n",
       "<table border=\"1\" class=\"dataframe\">\n",
       "  <thead>\n",
       "    <tr style=\"text-align: right;\">\n",
       "      <th></th>\n",
       "      <th>id</th>\n",
       "      <th>food</th>\n",
       "      <th>similarity</th>\n",
       "    </tr>\n",
       "  </thead>\n",
       "  <tbody>\n",
       "    <tr>\n",
       "      <th>861</th>\n",
       "      <td>dfb5d6574f</td>\n",
       "      <td>Peanut butter fudge thumbprints</td>\n",
       "      <td>NaN</td>\n",
       "    </tr>\n",
       "    <tr>\n",
       "      <th>0</th>\n",
       "      <td>dfb5d6574f</td>\n",
       "      <td>Peanut butter fudge thumbprints</td>\n",
       "      <td>0.973447</td>\n",
       "    </tr>\n",
       "    <tr>\n",
       "      <th>1</th>\n",
       "      <td>bae1622957</td>\n",
       "      <td>Emme's Chocolate Buttercream Frosting</td>\n",
       "      <td>0.973374</td>\n",
       "    </tr>\n",
       "    <tr>\n",
       "      <th>2</th>\n",
       "      <td>73363055e6</td>\n",
       "      <td>Easy Salted Caramel Sauce</td>\n",
       "      <td>0.955286</td>\n",
       "    </tr>\n",
       "    <tr>\n",
       "      <th>3</th>\n",
       "      <td>0eeced3f58</td>\n",
       "      <td>Mcapplenut</td>\n",
       "      <td>0.953223</td>\n",
       "    </tr>\n",
       "    <tr>\n",
       "      <th>4</th>\n",
       "      <td>930c82d489</td>\n",
       "      <td>Brown Sugar Fudge</td>\n",
       "      <td>0.947256</td>\n",
       "    </tr>\n",
       "    <tr>\n",
       "      <th>5</th>\n",
       "      <td>690cc86512</td>\n",
       "      <td>Easy Hot Fudge Sauce</td>\n",
       "      <td>0.945641</td>\n",
       "    </tr>\n",
       "    <tr>\n",
       "      <th>6</th>\n",
       "      <td>4a4225d5ec</td>\n",
       "      <td>winnie the Pooh treats</td>\n",
       "      <td>0.944773</td>\n",
       "    </tr>\n",
       "    <tr>\n",
       "      <th>7</th>\n",
       "      <td>cd33d508f3</td>\n",
       "      <td>Reese's Protein Shake</td>\n",
       "      <td>0.914614</td>\n",
       "    </tr>\n",
       "    <tr>\n",
       "      <th>8</th>\n",
       "      <td>bbddba4510</td>\n",
       "      <td>Salsa Dressing</td>\n",
       "      <td>0.868824</td>\n",
       "    </tr>\n",
       "    <tr>\n",
       "      <th>9</th>\n",
       "      <td>3b47afca2a</td>\n",
       "      <td>Homemade Yogurt</td>\n",
       "      <td>0.864292</td>\n",
       "    </tr>\n",
       "  </tbody>\n",
       "</table>\n",
       "</div>"
      ],
      "text/plain": [
       "             id                                   food  similarity\n",
       "861  dfb5d6574f        Peanut butter fudge thumbprints         NaN\n",
       "0    dfb5d6574f        Peanut butter fudge thumbprints    0.973447\n",
       "1    bae1622957  Emme's Chocolate Buttercream Frosting    0.973374\n",
       "2    73363055e6              Easy Salted Caramel Sauce    0.955286\n",
       "3    0eeced3f58                             Mcapplenut    0.953223\n",
       "4    930c82d489                      Brown Sugar Fudge    0.947256\n",
       "5    690cc86512                   Easy Hot Fudge Sauce    0.945641\n",
       "6    4a4225d5ec                 winnie the Pooh treats    0.944773\n",
       "7    cd33d508f3                  Reese's Protein Shake    0.914614\n",
       "8    bbddba4510                         Salsa Dressing    0.868824\n",
       "9    3b47afca2a                        Homemade Yogurt    0.864292"
      ]
     },
     "execution_count": 42,
     "metadata": {},
     "output_type": "execute_result"
    }
   ],
   "source": [
    "random_suggestion()"
   ]
  },
  {
   "cell_type": "code",
   "execution_count": 43,
   "id": "e78ff45e",
   "metadata": {
    "ExecuteTime": {
     "end_time": "2021-11-18T14:05:47.712122Z",
     "start_time": "2021-11-18T14:05:47.710113Z"
    }
   },
   "outputs": [],
   "source": [
    "# Dimenstional Reduction"
   ]
  },
  {
   "cell_type": "code",
   "execution_count": 44,
   "id": "02e5b6d3",
   "metadata": {
    "ExecuteTime": {
     "end_time": "2021-11-18T14:05:48.365055Z",
     "start_time": "2021-11-18T14:05:48.362642Z"
    }
   },
   "outputs": [],
   "source": [
    "import umap.umap_ as umap"
   ]
  },
  {
   "cell_type": "code",
   "execution_count": 50,
   "id": "0ec860ff",
   "metadata": {
    "ExecuteTime": {
     "end_time": "2021-11-18T14:08:08.441042Z",
     "start_time": "2021-11-18T14:08:05.832060Z"
    }
   },
   "outputs": [
    {
     "data": {
      "text/plain": [
       "array([[ 6.318808  , -0.0966209 ],\n",
       "       [ 7.3597827 ,  5.3883724 ],\n",
       "       [ 8.018733  ,  8.444674  ],\n",
       "       ...,\n",
       "       [ 8.560518  ,  4.032907  ],\n",
       "       [ 7.8031325 , -0.10574808],\n",
       "       [ 7.454522  , 10.029656  ]], dtype=float32)"
      ]
     },
     "execution_count": 50,
     "metadata": {},
     "output_type": "execute_result"
    }
   ],
   "source": [
    "reducer = umap.UMAP()\n",
    "projection = reducer.fit_transform(model.dv.vectors) # model.dv.index_to_key \n",
    "projection"
   ]
  },
  {
   "cell_type": "code",
   "execution_count": 46,
   "id": "ff8fbd59",
   "metadata": {
    "ExecuteTime": {
     "end_time": "2021-11-18T14:06:38.988824Z",
     "start_time": "2021-11-18T14:06:38.986618Z"
    }
   },
   "outputs": [],
   "source": [
    "# Visualize Flavor Space"
   ]
  },
  {
   "cell_type": "code",
   "execution_count": 146,
   "id": "52987b49",
   "metadata": {
    "ExecuteTime": {
     "end_time": "2021-11-19T02:52:33.119545Z",
     "start_time": "2021-11-19T02:52:33.109933Z"
    }
   },
   "outputs": [
    {
     "data": {
      "text/html": [
       "\n",
       "    <div class=\"bk-root\">\n",
       "        <a href=\"https://bokeh.org\" target=\"_blank\" class=\"bk-logo bk-logo-small bk-logo-notebook\"></a>\n",
       "        <span id=\"5370\">Loading BokehJS ...</span>\n",
       "    </div>"
      ]
     },
     "metadata": {},
     "output_type": "display_data"
    },
    {
     "data": {
      "application/javascript": [
       "\n",
       "(function(root) {\n",
       "  function now() {\n",
       "    return new Date();\n",
       "  }\n",
       "\n",
       "  const force = true;\n",
       "\n",
       "  if (typeof root._bokeh_onload_callbacks === \"undefined\" || force === true) {\n",
       "    root._bokeh_onload_callbacks = [];\n",
       "    root._bokeh_is_loading = undefined;\n",
       "  }\n",
       "\n",
       "  const JS_MIME_TYPE = 'application/javascript';\n",
       "  const HTML_MIME_TYPE = 'text/html';\n",
       "  const EXEC_MIME_TYPE = 'application/vnd.bokehjs_exec.v0+json';\n",
       "  const CLASS_NAME = 'output_bokeh rendered_html';\n",
       "\n",
       "  /**\n",
       "   * Render data to the DOM node\n",
       "   */\n",
       "  function render(props, node) {\n",
       "    const script = document.createElement(\"script\");\n",
       "    node.appendChild(script);\n",
       "  }\n",
       "\n",
       "  /**\n",
       "   * Handle when an output is cleared or removed\n",
       "   */\n",
       "  function handleClearOutput(event, handle) {\n",
       "    const cell = handle.cell;\n",
       "\n",
       "    const id = cell.output_area._bokeh_element_id;\n",
       "    const server_id = cell.output_area._bokeh_server_id;\n",
       "    // Clean up Bokeh references\n",
       "    if (id != null && id in Bokeh.index) {\n",
       "      Bokeh.index[id].model.document.clear();\n",
       "      delete Bokeh.index[id];\n",
       "    }\n",
       "\n",
       "    if (server_id !== undefined) {\n",
       "      // Clean up Bokeh references\n",
       "      const cmd_clean = \"from bokeh.io.state import curstate; print(curstate().uuid_to_server['\" + server_id + \"'].get_sessions()[0].document.roots[0]._id)\";\n",
       "      cell.notebook.kernel.execute(cmd_clean, {\n",
       "        iopub: {\n",
       "          output: function(msg) {\n",
       "            const id = msg.content.text.trim();\n",
       "            if (id in Bokeh.index) {\n",
       "              Bokeh.index[id].model.document.clear();\n",
       "              delete Bokeh.index[id];\n",
       "            }\n",
       "          }\n",
       "        }\n",
       "      });\n",
       "      // Destroy server and session\n",
       "      const cmd_destroy = \"import bokeh.io.notebook as ion; ion.destroy_server('\" + server_id + \"')\";\n",
       "      cell.notebook.kernel.execute(cmd_destroy);\n",
       "    }\n",
       "  }\n",
       "\n",
       "  /**\n",
       "   * Handle when a new output is added\n",
       "   */\n",
       "  function handleAddOutput(event, handle) {\n",
       "    const output_area = handle.output_area;\n",
       "    const output = handle.output;\n",
       "\n",
       "    // limit handleAddOutput to display_data with EXEC_MIME_TYPE content only\n",
       "    if ((output.output_type != \"display_data\") || (!Object.prototype.hasOwnProperty.call(output.data, EXEC_MIME_TYPE))) {\n",
       "      return\n",
       "    }\n",
       "\n",
       "    const toinsert = output_area.element.find(\".\" + CLASS_NAME.split(' ')[0]);\n",
       "\n",
       "    if (output.metadata[EXEC_MIME_TYPE][\"id\"] !== undefined) {\n",
       "      toinsert[toinsert.length - 1].firstChild.textContent = output.data[JS_MIME_TYPE];\n",
       "      // store reference to embed id on output_area\n",
       "      output_area._bokeh_element_id = output.metadata[EXEC_MIME_TYPE][\"id\"];\n",
       "    }\n",
       "    if (output.metadata[EXEC_MIME_TYPE][\"server_id\"] !== undefined) {\n",
       "      const bk_div = document.createElement(\"div\");\n",
       "      bk_div.innerHTML = output.data[HTML_MIME_TYPE];\n",
       "      const script_attrs = bk_div.children[0].attributes;\n",
       "      for (let i = 0; i < script_attrs.length; i++) {\n",
       "        toinsert[toinsert.length - 1].firstChild.setAttribute(script_attrs[i].name, script_attrs[i].value);\n",
       "        toinsert[toinsert.length - 1].firstChild.textContent = bk_div.children[0].textContent\n",
       "      }\n",
       "      // store reference to server id on output_area\n",
       "      output_area._bokeh_server_id = output.metadata[EXEC_MIME_TYPE][\"server_id\"];\n",
       "    }\n",
       "  }\n",
       "\n",
       "  function register_renderer(events, OutputArea) {\n",
       "\n",
       "    function append_mime(data, metadata, element) {\n",
       "      // create a DOM node to render to\n",
       "      const toinsert = this.create_output_subarea(\n",
       "        metadata,\n",
       "        CLASS_NAME,\n",
       "        EXEC_MIME_TYPE\n",
       "      );\n",
       "      this.keyboard_manager.register_events(toinsert);\n",
       "      // Render to node\n",
       "      const props = {data: data, metadata: metadata[EXEC_MIME_TYPE]};\n",
       "      render(props, toinsert[toinsert.length - 1]);\n",
       "      element.append(toinsert);\n",
       "      return toinsert\n",
       "    }\n",
       "\n",
       "    /* Handle when an output is cleared or removed */\n",
       "    events.on('clear_output.CodeCell', handleClearOutput);\n",
       "    events.on('delete.Cell', handleClearOutput);\n",
       "\n",
       "    /* Handle when a new output is added */\n",
       "    events.on('output_added.OutputArea', handleAddOutput);\n",
       "\n",
       "    /**\n",
       "     * Register the mime type and append_mime function with output_area\n",
       "     */\n",
       "    OutputArea.prototype.register_mime_type(EXEC_MIME_TYPE, append_mime, {\n",
       "      /* Is output safe? */\n",
       "      safe: true,\n",
       "      /* Index of renderer in `output_area.display_order` */\n",
       "      index: 0\n",
       "    });\n",
       "  }\n",
       "\n",
       "  // register the mime type if in Jupyter Notebook environment and previously unregistered\n",
       "  if (root.Jupyter !== undefined) {\n",
       "    const events = require('base/js/events');\n",
       "    const OutputArea = require('notebook/js/outputarea').OutputArea;\n",
       "\n",
       "    if (OutputArea.prototype.mime_types().indexOf(EXEC_MIME_TYPE) == -1) {\n",
       "      register_renderer(events, OutputArea);\n",
       "    }\n",
       "  }\n",
       "\n",
       "  \n",
       "  if (typeof (root._bokeh_timeout) === \"undefined\" || force === true) {\n",
       "    root._bokeh_timeout = Date.now() + 5000;\n",
       "    root._bokeh_failed_load = false;\n",
       "  }\n",
       "\n",
       "  const NB_LOAD_WARNING = {'data': {'text/html':\n",
       "     \"<div style='background-color: #fdd'>\\n\"+\n",
       "     \"<p>\\n\"+\n",
       "     \"BokehJS does not appear to have successfully loaded. If loading BokehJS from CDN, this \\n\"+\n",
       "     \"may be due to a slow or bad network connection. Possible fixes:\\n\"+\n",
       "     \"</p>\\n\"+\n",
       "     \"<ul>\\n\"+\n",
       "     \"<li>re-rerun `output_notebook()` to attempt to load from CDN again, or</li>\\n\"+\n",
       "     \"<li>use INLINE resources instead, as so:</li>\\n\"+\n",
       "     \"</ul>\\n\"+\n",
       "     \"<code>\\n\"+\n",
       "     \"from bokeh.resources import INLINE\\n\"+\n",
       "     \"output_notebook(resources=INLINE)\\n\"+\n",
       "     \"</code>\\n\"+\n",
       "     \"</div>\"}};\n",
       "\n",
       "  function display_loaded() {\n",
       "    const el = document.getElementById(\"5370\");\n",
       "    if (el != null) {\n",
       "      el.textContent = \"BokehJS is loading...\";\n",
       "    }\n",
       "    if (root.Bokeh !== undefined) {\n",
       "      if (el != null) {\n",
       "        el.textContent = \"BokehJS \" + root.Bokeh.version + \" successfully loaded.\";\n",
       "      }\n",
       "    } else if (Date.now() < root._bokeh_timeout) {\n",
       "      setTimeout(display_loaded, 100)\n",
       "    }\n",
       "  }\n",
       "\n",
       "\n",
       "  function run_callbacks() {\n",
       "    try {\n",
       "      root._bokeh_onload_callbacks.forEach(function(callback) {\n",
       "        if (callback != null)\n",
       "          callback();\n",
       "      });\n",
       "    } finally {\n",
       "      delete root._bokeh_onload_callbacks\n",
       "    }\n",
       "    console.debug(\"Bokeh: all callbacks have finished\");\n",
       "  }\n",
       "\n",
       "  function load_libs(css_urls, js_urls, callback) {\n",
       "    if (css_urls == null) css_urls = [];\n",
       "    if (js_urls == null) js_urls = [];\n",
       "\n",
       "    root._bokeh_onload_callbacks.push(callback);\n",
       "    if (root._bokeh_is_loading > 0) {\n",
       "      console.debug(\"Bokeh: BokehJS is being loaded, scheduling callback at\", now());\n",
       "      return null;\n",
       "    }\n",
       "    if (js_urls == null || js_urls.length === 0) {\n",
       "      run_callbacks();\n",
       "      return null;\n",
       "    }\n",
       "    console.debug(\"Bokeh: BokehJS not loaded, scheduling load and callback at\", now());\n",
       "    root._bokeh_is_loading = css_urls.length + js_urls.length;\n",
       "\n",
       "    function on_load() {\n",
       "      root._bokeh_is_loading--;\n",
       "      if (root._bokeh_is_loading === 0) {\n",
       "        console.debug(\"Bokeh: all BokehJS libraries/stylesheets loaded\");\n",
       "        run_callbacks()\n",
       "      }\n",
       "    }\n",
       "\n",
       "    function on_error(url) {\n",
       "      console.error(\"failed to load \" + url);\n",
       "    }\n",
       "\n",
       "    for (let i = 0; i < css_urls.length; i++) {\n",
       "      const url = css_urls[i];\n",
       "      const element = document.createElement(\"link\");\n",
       "      element.onload = on_load;\n",
       "      element.onerror = on_error.bind(null, url);\n",
       "      element.rel = \"stylesheet\";\n",
       "      element.type = \"text/css\";\n",
       "      element.href = url;\n",
       "      console.debug(\"Bokeh: injecting link tag for BokehJS stylesheet: \", url);\n",
       "      document.body.appendChild(element);\n",
       "    }\n",
       "\n",
       "    for (let i = 0; i < js_urls.length; i++) {\n",
       "      const url = js_urls[i];\n",
       "      const element = document.createElement('script');\n",
       "      element.onload = on_load;\n",
       "      element.onerror = on_error.bind(null, url);\n",
       "      element.async = false;\n",
       "      element.src = url;\n",
       "      console.debug(\"Bokeh: injecting script tag for BokehJS library: \", url);\n",
       "      document.head.appendChild(element);\n",
       "    }\n",
       "  };\n",
       "\n",
       "  function inject_raw_css(css) {\n",
       "    const element = document.createElement(\"style\");\n",
       "    element.appendChild(document.createTextNode(css));\n",
       "    document.body.appendChild(element);\n",
       "  }\n",
       "\n",
       "  \n",
       "  const js_urls = [\"https://cdn.bokeh.org/bokeh/release/bokeh-2.4.1.min.js\", \"https://cdn.bokeh.org/bokeh/release/bokeh-gl-2.4.1.min.js\", \"https://cdn.bokeh.org/bokeh/release/bokeh-widgets-2.4.1.min.js\", \"https://cdn.bokeh.org/bokeh/release/bokeh-tables-2.4.1.min.js\", \"https://cdn.bokeh.org/bokeh/release/bokeh-mathjax-2.4.1.min.js\"];\n",
       "  const css_urls = [];\n",
       "  \n",
       "\n",
       "  const inline_js = [\n",
       "    function(Bokeh) {\n",
       "      Bokeh.set_log_level(\"info\");\n",
       "    },\n",
       "    function(Bokeh) {\n",
       "    \n",
       "    \n",
       "    }\n",
       "  ];\n",
       "\n",
       "  function run_inline_js() {\n",
       "    \n",
       "    if (root.Bokeh !== undefined || force === true) {\n",
       "      \n",
       "    for (let i = 0; i < inline_js.length; i++) {\n",
       "      inline_js[i].call(root, root.Bokeh);\n",
       "    }\n",
       "    if (force === true) {\n",
       "        display_loaded();\n",
       "      }} else if (Date.now() < root._bokeh_timeout) {\n",
       "      setTimeout(run_inline_js, 100);\n",
       "    } else if (!root._bokeh_failed_load) {\n",
       "      console.log(\"Bokeh: BokehJS failed to load within specified timeout.\");\n",
       "      root._bokeh_failed_load = true;\n",
       "    } else if (force !== true) {\n",
       "      const cell = $(document.getElementById(\"5370\")).parents('.cell').data().cell;\n",
       "      cell.output_area.append_execute_result(NB_LOAD_WARNING)\n",
       "    }\n",
       "\n",
       "  }\n",
       "\n",
       "  if (root._bokeh_is_loading === 0) {\n",
       "    console.debug(\"Bokeh: BokehJS loaded, going straight to plotting\");\n",
       "    run_inline_js();\n",
       "  } else {\n",
       "    load_libs(css_urls, js_urls, function() {\n",
       "      console.debug(\"Bokeh: BokehJS plotting callback run at\", now());\n",
       "      run_inline_js();\n",
       "    });\n",
       "  }\n",
       "}(window));"
      ],
      "application/vnd.bokehjs_load.v0+json": "\n(function(root) {\n  function now() {\n    return new Date();\n  }\n\n  const force = true;\n\n  if (typeof root._bokeh_onload_callbacks === \"undefined\" || force === true) {\n    root._bokeh_onload_callbacks = [];\n    root._bokeh_is_loading = undefined;\n  }\n\n  \n\n  \n  if (typeof (root._bokeh_timeout) === \"undefined\" || force === true) {\n    root._bokeh_timeout = Date.now() + 5000;\n    root._bokeh_failed_load = false;\n  }\n\n  const NB_LOAD_WARNING = {'data': {'text/html':\n     \"<div style='background-color: #fdd'>\\n\"+\n     \"<p>\\n\"+\n     \"BokehJS does not appear to have successfully loaded. If loading BokehJS from CDN, this \\n\"+\n     \"may be due to a slow or bad network connection. Possible fixes:\\n\"+\n     \"</p>\\n\"+\n     \"<ul>\\n\"+\n     \"<li>re-rerun `output_notebook()` to attempt to load from CDN again, or</li>\\n\"+\n     \"<li>use INLINE resources instead, as so:</li>\\n\"+\n     \"</ul>\\n\"+\n     \"<code>\\n\"+\n     \"from bokeh.resources import INLINE\\n\"+\n     \"output_notebook(resources=INLINE)\\n\"+\n     \"</code>\\n\"+\n     \"</div>\"}};\n\n  function display_loaded() {\n    const el = document.getElementById(\"5370\");\n    if (el != null) {\n      el.textContent = \"BokehJS is loading...\";\n    }\n    if (root.Bokeh !== undefined) {\n      if (el != null) {\n        el.textContent = \"BokehJS \" + root.Bokeh.version + \" successfully loaded.\";\n      }\n    } else if (Date.now() < root._bokeh_timeout) {\n      setTimeout(display_loaded, 100)\n    }\n  }\n\n\n  function run_callbacks() {\n    try {\n      root._bokeh_onload_callbacks.forEach(function(callback) {\n        if (callback != null)\n          callback();\n      });\n    } finally {\n      delete root._bokeh_onload_callbacks\n    }\n    console.debug(\"Bokeh: all callbacks have finished\");\n  }\n\n  function load_libs(css_urls, js_urls, callback) {\n    if (css_urls == null) css_urls = [];\n    if (js_urls == null) js_urls = [];\n\n    root._bokeh_onload_callbacks.push(callback);\n    if (root._bokeh_is_loading > 0) {\n      console.debug(\"Bokeh: BokehJS is being loaded, scheduling callback at\", now());\n      return null;\n    }\n    if (js_urls == null || js_urls.length === 0) {\n      run_callbacks();\n      return null;\n    }\n    console.debug(\"Bokeh: BokehJS not loaded, scheduling load and callback at\", now());\n    root._bokeh_is_loading = css_urls.length + js_urls.length;\n\n    function on_load() {\n      root._bokeh_is_loading--;\n      if (root._bokeh_is_loading === 0) {\n        console.debug(\"Bokeh: all BokehJS libraries/stylesheets loaded\");\n        run_callbacks()\n      }\n    }\n\n    function on_error(url) {\n      console.error(\"failed to load \" + url);\n    }\n\n    for (let i = 0; i < css_urls.length; i++) {\n      const url = css_urls[i];\n      const element = document.createElement(\"link\");\n      element.onload = on_load;\n      element.onerror = on_error.bind(null, url);\n      element.rel = \"stylesheet\";\n      element.type = \"text/css\";\n      element.href = url;\n      console.debug(\"Bokeh: injecting link tag for BokehJS stylesheet: \", url);\n      document.body.appendChild(element);\n    }\n\n    for (let i = 0; i < js_urls.length; i++) {\n      const url = js_urls[i];\n      const element = document.createElement('script');\n      element.onload = on_load;\n      element.onerror = on_error.bind(null, url);\n      element.async = false;\n      element.src = url;\n      console.debug(\"Bokeh: injecting script tag for BokehJS library: \", url);\n      document.head.appendChild(element);\n    }\n  };\n\n  function inject_raw_css(css) {\n    const element = document.createElement(\"style\");\n    element.appendChild(document.createTextNode(css));\n    document.body.appendChild(element);\n  }\n\n  \n  const js_urls = [\"https://cdn.bokeh.org/bokeh/release/bokeh-2.4.1.min.js\", \"https://cdn.bokeh.org/bokeh/release/bokeh-gl-2.4.1.min.js\", \"https://cdn.bokeh.org/bokeh/release/bokeh-widgets-2.4.1.min.js\", \"https://cdn.bokeh.org/bokeh/release/bokeh-tables-2.4.1.min.js\", \"https://cdn.bokeh.org/bokeh/release/bokeh-mathjax-2.4.1.min.js\"];\n  const css_urls = [];\n  \n\n  const inline_js = [\n    function(Bokeh) {\n      Bokeh.set_log_level(\"info\");\n    },\n    function(Bokeh) {\n    \n    \n    }\n  ];\n\n  function run_inline_js() {\n    \n    if (root.Bokeh !== undefined || force === true) {\n      \n    for (let i = 0; i < inline_js.length; i++) {\n      inline_js[i].call(root, root.Bokeh);\n    }\n    if (force === true) {\n        display_loaded();\n      }} else if (Date.now() < root._bokeh_timeout) {\n      setTimeout(run_inline_js, 100);\n    } else if (!root._bokeh_failed_load) {\n      console.log(\"Bokeh: BokehJS failed to load within specified timeout.\");\n      root._bokeh_failed_load = true;\n    } else if (force !== true) {\n      const cell = $(document.getElementById(\"5370\")).parents('.cell').data().cell;\n      cell.output_area.append_execute_result(NB_LOAD_WARNING)\n    }\n\n  }\n\n  if (root._bokeh_is_loading === 0) {\n    console.debug(\"Bokeh: BokehJS loaded, going straight to plotting\");\n    run_inline_js();\n  } else {\n    load_libs(css_urls, js_urls, function() {\n      console.debug(\"Bokeh: BokehJS plotting callback run at\", now());\n      run_inline_js();\n    });\n  }\n}(window));"
     },
     "metadata": {},
     "output_type": "display_data"
    }
   ],
   "source": [
    "import seaborn as sns\n",
    "import matplotlib.pyplot as plt\n",
    "\n",
    "from bokeh.layouts import column\n",
    "from bokeh.plotting import figure, show, output_notebook\n",
    "from bokeh.models import HoverTool, ColumnDataSource, CategoricalColorMapper, Callback, DataTable, TableColumn\n",
    "from bokeh.palettes import Spectral10\n",
    "\n",
    "sns.set(style='white', context='notebook', rc={'figure.figsize':(14,10)})\n",
    "output_notebook()"
   ]
  },
  {
   "cell_type": "code",
   "execution_count": 144,
   "id": "5aaf54b4",
   "metadata": {
    "ExecuteTime": {
     "end_time": "2021-11-19T02:51:54.204135Z",
     "start_time": "2021-11-19T02:51:54.029152Z"
    }
   },
   "outputs": [
    {
     "data": {
      "text/plain": [
       "<matplotlib.collections.PathCollection at 0x7fdd364dea00>"
      ]
     },
     "execution_count": 144,
     "metadata": {},
     "output_type": "execute_result"
    },
    {
     "data": {
      "image/png": "[encoded data removed]",
      "text/plain": [
       "<Figure size 1008x720 with 1 Axes>"
      ]
     },
     "metadata": {},
     "output_type": "display_data"
    }
   ],
   "source": [
    "plt.scatter(projection[:,0], projection[:,1])"
   ]
  },
  {
   "cell_type": "code",
   "execution_count": 145,
   "id": "fcb17083",
   "metadata": {
    "ExecuteTime": {
     "end_time": "2021-11-19T02:51:54.965424Z",
     "start_time": "2021-11-19T02:51:54.960697Z"
    }
   },
   "outputs": [],
   "source": [
    "projection_df = pd.DataFrame(projection, columns=('x', 'y'))\n",
    "projection_df['id'] = model.dv.index_to_key\n",
    "projection_df['food'] = df['food']\n",
    "selected_indexes = []"
   ]
  },
  {
   "cell_type": "code",
   "execution_count": 154,
   "id": "3db3bc26",
   "metadata": {
    "ExecuteTime": {
     "end_time": "2021-11-19T03:01:08.107969Z",
     "start_time": "2021-11-19T03:01:07.961283Z"
    }
   },
   "outputs": [
    {
     "data": {
      "text/html": [
       "\n",
       "\n",
       "\n",
       "\n",
       "\n",
       "\n",
       "  <div class=\"bk-root\" id=\"e027b6f1-0d5e-4510-ba78-d82c529520cc\" data-root-id=\"6455\"></div>\n"
      ]
     },
     "metadata": {},
     "output_type": "display_data"
    },
    {
     "data": {
      "application/javascript": [
       "(function(root) {\n",
       "  function embed_document(root) {\n",
       "    \n",
       "  const docs_json = {\"0929c33a-40e3-447e-b4a7-ea882b021539\":{\"defs\":[],\"roots\":{\"references\":[{\"attributes\":{\"children\":[{\"id\":\"6409\"},{\"id\":\"6450\"}]},\"id\":\"6455\",\"type\":\"Column\"},{\"attributes\":{},\"id\":\"6421\",\"type\":\"BasicTicker\"},{\"attributes\":{},\"id\":\"6698\",\"type\":\"StringFormatter\"},{\"attributes\":{},\"id\":\"6418\",\"type\":\"LinearScale\"},{\"attributes\":{\"coordinates\":null,\"formatter\":{\"id\":\"6693\"},\"group\":null,\"major_label_policy\":{\"id\":\"6694\"},\"ticker\":{\"id\":\"6425\"}},\"id\":\"6424\",\"type\":\"LinearAxis\"},{\"attributes\":{\"axis\":{\"id\":\"6420\"},\"coordinates\":null,\"group\":null,\"ticker\":null},\"id\":\"6423\",\"type\":\"Grid\"},{\"attributes\":{\"source\":{\"id\":\"6440\"}},\"id\":\"6446\",\"type\":\"CDSView\"},{\"attributes\":{\"coordinates\":null,\"group\":null,\"text\":\"UMAP projection of the Flavor Space\"},\"id\":\"6410\",\"type\":\"Title\"},{\"attributes\":{\"source\":{\"id\":\"6447\"}},\"id\":\"6452\",\"type\":\"CDSView\"},{\"attributes\":{\"fill_alpha\":{\"value\":0.2},\"fill_color\":{\"value\":\"#1f77b4\"},\"hatch_alpha\":{\"value\":0.2},\"line_alpha\":{\"value\":0.2},\"line_color\":{\"value\":\"#1f77b4\"},\"size\":{\"value\":6},\"x\":{\"field\":\"x\"},\"y\":{\"field\":\"y\"}},\"id\":\"6444\",\"type\":\"Circle\"},{\"attributes\":{},\"id\":\"6699\",\"type\":\"StringEditor\"},{\"attributes\":{\"editor\":{\"id\":\"6699\"},\"field\":\"id\",\"formatter\":{\"id\":\"6698\"}},\"id\":\"6448\",\"type\":\"TableColumn\"},{\"attributes\":{},\"id\":\"6700\",\"type\":\"StringFormatter\"},{\"attributes\":{},\"id\":\"6414\",\"type\":\"DataRange1d\"},{\"attributes\":{},\"id\":\"6416\",\"type\":\"LinearScale\"},{\"attributes\":{\"editor\":{\"id\":\"6701\"},\"field\":\"food\",\"formatter\":{\"id\":\"6700\"}},\"id\":\"6449\",\"type\":\"TableColumn\"},{\"attributes\":{},\"id\":\"6428\",\"type\":\"PanTool\"},{\"attributes\":{\"args\":{\"s1\":{\"id\":\"6440\"},\"s2\":{\"id\":\"6447\"}},\"code\":\"\\n                var selected_indexes = cb_obj.indices;\\n                s2.data['id'] = [];\\n                s2.data['food'] = [];\\n                for (let i=0;i<selected_indexes.length;i++){\\n                    s2.data['id'].push(s1.data['id'][selected_indexes[i]])\\n                    s2.data['food'].push(s1.data['food'][selected_indexes[i]])\\n                }                \\n                var kernel = IPython.notebook.kernel;\\n                IPython.notebook.kernel.execute(\\\"selected_indexes = \\\" + selected_indexes);\\n                s2.change.emit();\\n                \"},\"id\":\"6454\",\"type\":\"CustomJS\"},{\"attributes\":{\"below\":[{\"id\":\"6420\"}],\"center\":[{\"id\":\"6423\"},{\"id\":\"6427\"}],\"height\":800,\"left\":[{\"id\":\"6424\"}],\"renderers\":[{\"id\":\"6445\"}],\"title\":{\"id\":\"6410\"},\"toolbar\":{\"id\":\"6433\"},\"width\":800,\"x_range\":{\"id\":\"6412\"},\"x_scale\":{\"id\":\"6416\"},\"y_range\":{\"id\":\"6414\"},\"y_scale\":{\"id\":\"6418\"}},\"id\":\"6409\",\"subtype\":\"Figure\",\"type\":\"Plot\"},{\"attributes\":{},\"id\":\"6425\",\"type\":\"BasicTicker\"},{\"attributes\":{},\"id\":\"6693\",\"type\":\"BasicTickFormatter\"},{\"attributes\":{},\"id\":\"6412\",\"type\":\"DataRange1d\"},{\"attributes\":{\"coordinates\":null,\"formatter\":{\"id\":\"6696\"},\"group\":null,\"major_label_policy\":{\"id\":\"6697\"},\"ticker\":{\"id\":\"6421\"}},\"id\":\"6420\",\"type\":\"LinearAxis\"},{\"attributes\":{\"fill_alpha\":{\"value\":0.6},\"fill_color\":{\"value\":\"#1f77b4\"},\"line_alpha\":{\"value\":0.6},\"line_color\":{\"value\":\"#1f77b4\"},\"size\":{\"value\":6},\"x\":{\"field\":\"x\"},\"y\":{\"field\":\"y\"}},\"id\":\"6442\",\"type\":\"Circle\"},{\"attributes\":{\"data\":{\"food\":[],\"id\":[]},\"selected\":{\"id\":\"6703\"},\"selection_policy\":{\"id\":\"6702\"}},\"id\":\"6447\",\"type\":\"ColumnDataSource\"},{\"attributes\":{},\"id\":\"6703\",\"type\":\"Selection\"},{\"attributes\":{\"data\":{\"food\":[\"Pecan Pralines\",\"Greatest Granola\",\"Cream of Fresh Cauliflower Soup\",\"Sausage and Rice Bake\",\"Spicy Raspberry Balsamic Dressing\",\"Roasted Strawberries with Black Pepper\",\"Easy Cheese and Onion Bread\",\"Orange Marshmallow Fruit Dip\",\"Cherry Tomatoes (Stuffed) Recipe\",\"BBQ Short Ribs\",\"Mango Butter\",\"Roasted Pumpkin Seeds and Pumpkin\",\"Cooked Peanut Butter Icing (Frosting)\",\"Rosy Pineapple Ice\",\"Frozen Strawberry Banana Margaritas\",\"Everyday Seasoning\",\"Oven-Baked Fish Sticks\",\"Japanese Salad Dressing\",\"Orange Rum Sauce\",\"Stovetop Berry Crumble\",\"Chocolate Gravy\",\"Olive Oil Butter Table Spread\",\"Creamy Orange-Ginger Dressing\",\"Lemonade-Cayenne Frozen Dessert\",\"Raw Cashew Cream Cheese\",\"Sweet Pickled Banana Peppers\",\"Sweet Potato Fries\",\"Mashed Spiced Carrots\",\"Aromatic Chicken Stir-Fry\",\"Creamy Lime Coolers\",\"Glace' Fruit, and Fruit Syrup\",\"Instant Garlic Mashed Potatoes\",\"Italian Seasoning\",\"Outback Blue Cheese Salad Dressing - Copycat\",\"Beulah's Apple Butter Recipe\",\"Sweet and Spicy Pecans\",\"Cauliflower Soup\",\"Easy Cream Cheese Frosting\",\"Nana Hassard's Original Scalloped Potatoes\",\"Vegetable Dip\",\"Hamburger Buns (For the Bread Machine)\",\"15-minute Lemon Parmesan Brown Rice\",\"POLISH SAUSAGE IN TOMATO SAUCE (Kielbasa w Sosie Pomidorowym)\",\"Tomato and Cucumber Salad\",\"Mcapplenut\",\"Oven-Roasted Root Vegetables\",\"Potato Chive Bread (bread Machine)\",\"Hazelnut Cheese Bits\",\"Easy Blackberry 'n Rum Jam (Without Pectin)\",\"Five-Spice Rub\",\"Whiskey Weiners\",\"Hearty Golden Chowder\",\"Aggression Cookies\",\"Roasted Pepper and Maple Barbecue Sauce\",\"Black-and-White Malts\",\"Honey Mustard Dressing\",\"Salt Roasted Potatoes\",\"Flaky Pie Crust\",\"Black Pepper Shrimp (Paula Deen)\",\"Biscuits And Gravy Recipe\",\"Homemade Flour Tortillas\",\"Holiday Caramel Mix\",\"Macadamia Nut Crust\",\"Strawberry and Avocado Salad with Strawberry Balsamic Dressing\",\"Soup to Go\",\"Popcorn Nibble Mix\",\"Coeurs a la Creme with Strawberries\",\"Guizhou Lianai Doufu\",\"Chicken and Noodles with Pumpkin Sauce\",\"Pastry With No Trans Fat\",\"Ciabatta a Old Italian Bread\",\"Buckwheat Bread Recipe\",\"Potato Casserole\",\"Chili-Flavored Hamburgers\",\"Home Style White (For the Bread Machine)\",\"Cucumber Soup\",\"Health Loaf\",\"Slow-Cooked Sweet Mustard Roast (Beef or Pork)\",\"10-Minute Buffalo Shrimp With Blue Cheese Dip\",\"Pretzel bread buns\",\"Ginger Limeade\",\"Butter Biscuits\",\"Fudgy Popcorn\",\"Tomato Juice Cocktail Recipe\",\"White Whole Wheat Bread (Food Processor)\",\"Kossman Strawberry Rice Cream\",\"ALL-AMERICAN HOT DISH\",\"Peanut Butter Oatmeal\",\"Makeover Cheesecake Bars\",\"Homemade Cashew Butter\",\"4-Inch Chocolate Peanut Butter Cheesecake\",\"Berry Almond Crumble Oatmeal Recipe\",\"Spiced Salt\",\"Super Quick & Easy Icing, Glaze or Drizzle (For Baked Goods)\",\"Chili Glazed Tofu over Asparagus and Rice\",\"Luby's Cafeteria Baked Spareribs With Luau Sauce\",\"Homemade Marshmallows II\",\"Homemade Pancake Mix\",\"Pumpernickel Bread I\",\"Praline Topping\",\"Balsamic Drizzle\",\"Basic Vegan Chocolate Cupcakes\",\"Whole Wheat Raisin Bread\",\"Hot Cranberry Drink\",\"Satsuma Orange and Dried-Cranberry Chutney\",\"Spicy Roasted Pumpkin Seeds\",\"Butterscotch\",\"Tofu Pesto Mayonnaise\",\"Homemade Cocktail Sauce\",\"Spice It Yourself Bbq Sauce\",\"Double Cheese Onion Bread (ABM)\",\"Red Pepper Spice\",\"Praline Topping for Cheesecake or Apple Pie\",\"Buttermilk Bacon Fried Chicken Tenders\",\"Pomegranate Salad\",\"Coconut Dessert Sauce\",\"Croutons\",\"Christmas Mix\",\"Alexander Cocktail No. 1 Recipe\",\"Cucumber-Mango Salad\",\"Pooh's Honey Sauce 1\",\"Ginger Ale Ginger Soda Ginger Pop\",\"Amazing Burger Sauce\",\"Fennel Spice Rub\",\"Butter Finger Bars\",\"Hot Bean Thread Noodle\",\"Vietnamese-Style Mayonnaise\",\"Homemade Whip Cream\",\"Thin Crust Pizza Dough\",\"Maple Mustard Marinade\",\"Sweet-Hot BBQ Tater Fries\",\"Whole Wheat Beer Bread Recipe - Vegan\",\"World's Best Whole Wheat Biscuits\",\"Comforting Peach Pie\",\"Fruity PebblesTM the Drink\",\"Sourdough Starter\",\"Farmers cheese\",\"Herbed Breadsticks\",\"Nankou-bai Honey Jam\",\"Baked Tortilla Chips\",\"Homemade Creme Fraiche\",\"Mistletoe Martini\",\"Cranberry Glaze\",\"Onion Confit\",\"Strawberry Lemon Coconut Water Fizz\",\"Tasty Blueberry Milkshake\",\"Firecracker Shrimp\",\"Michael's Fried Zucchini\",\"Joyce's Granola\",\"Outrageously good chicken potpie\",\"Rivka's Dulce De Leche Heavenly Ice Cream\",\"Louisiana Sauce - Louisiana Epicure's Sauce\",\"Good Gracious--A Gallon of Greek Dressing\",\"Bread Machine Irish Soda Bread\",\"Easy Cream Drop Biscuits\",\"Cocoa Peanut Logs\",\"Chocolate Hazelnut Spread (Mock Nutella from Gale Gand)\",\"Puppy Chow\",\"Authentic and Easy Bread in 30 Minutes\",\"Asparagus\",\"Chocolate Peanut Butter Energy Bites\",\"Caramelized Onions\",\"Blueberry Ricotta Ice Cream Recipe\",\"Granola\",\"Mini Oatmeal Chocolate Chip Cookies\",\"Broiled Coconut Topper Recipe\",\"Salted Caramels\",\"Homestyle Corn Relish\",\"Chocolate Caramels With Sea Salt\",\"Oven Browned Potatoes\",\"Flavored Simple Syrups\",\"Hash Brown Potatoes Recipe\",\"Peanut Butter Whipped Cream\",\"Cream Cheese Icing\",\"Flounder With Mushrooms and Wine\",\"Cinnamon Shortbread Bars\",\"Ryza Peach Mango Tango Smoothie\",\"Whole Wheat Hamburger Buns\",\"Crispy Brown Sugar Cookies\",\"Savory Curry Dip\",\"Grilled Spicy New Potatoes\",\"Homemade Honey Oat Crackers\",\"Apricot Candy Popcorn Recipe\",\"Baked Potatoes With Chili (Ch Co Recipe\",\"Deer Camp Hot Mustard Dip, (For Bologna)\",\"Pizza Dough With Freshly Ground Whole Wheat Flour\",\"Homemade Chicken and Dumplings\",\"Chocolate Walnut Banana Muffins - Vegan\",\"Homemade Grenadine\",\"A Very Popular BBQ Sauce\",\"Besan Laddu\",\"Funnel Cake Mix\",\"White Sauce\",\"Fruit Salad or Dessert\",\"Super Easy Cheese Crackers\",\"Blue Cheese Sauce\",\"Golden Baked Chicken\",\"Peanut Butter N' Honey Crunchies for Pups\",\"Poppy Seed & Parmesan Shortbread\",\"Pumpkin Gelato\",\"Sweetheart Salad\",\"Dees Horseradish Instant Potatoes\",\"No Cook Cranberry Relish\",\"Peanut Butter Broiled Topping Recipe\",\"Momma G's Veganized Veggie Dip\",\"Blueberry Lemondrop Recipe\",\"Easiest Chicken Wing Recipe\",\"Homemade Pita Bread with Greek Spice Mix\",\"Cholesterol Free, Low Fat Cookies W/ Icing\",\"High Protein Diet Bread\",\"Daddys Biscuits\",\"Zucchini Coriander Soup\",\"Bananas Foster Crunch Mix\",\"Traditional Irish Brown Bread\",\"No Roll Pie Crust\",\"Barbecue Pan Chicken\",\"Ruby\",\"Veggie Dip\",\"Scottish Morning Rolls\",\"Peanut Butter Oatmeal Cookies - Sugar Free\",\"Hot Chili Salsa Recipe\",\"Bar B Q Pumpkin Seeds Recipe\",\"Low Carb Cheeseburger Soup\",\"Homemade Yogurt\",\"Patrick's Meat Rub (Beef)\",\"Caramels I\",\"Mango-peach Smoothies\",\"Honeydew and Pineapple Pops\",\"Strawberry Butter\",\"Tips for Making Holey Artisan White Bread\",\"Elegant Strawberries (No Cook, No Work!)\",\"Bayou Sam's Counter Seasoning\",\"Strawberry Compote\",\"Roast Garlic Balsamic Vinaigrette\",\"Yogurt Berry Parfait With Steel-Cut Oats\",\"Ham Spread\",\"Microwave Nutty-Caramel Corn\",\"Wings-Spicy Sauce\",\"Easy Whipped Chocolate Icing\",\"Turkey and Cheddar Burgers\",\"Mediterranean Marinade\",\"Peach Jam\",\"Sun-Dried Cherry and Cranberry Salsa\",\"Parmesan Whitefish\",\"Orange Cream Cheese Spread\",\"Caramel Sauce\",\"Grand Peres (Quebec Style Maple Syrup Dumplings)\",\"Apple Cinnamon Rice\",\"Black Bull Cajun Seasoning\",\"Marinated Sun-Dried Tomatoes\",\"Oatmeal Squares\",\"Fresh Orange Anise Bread\",\"Easy Microwave Fudge Frosting\",\"3 Ingredient Maple Soy Glaze\",\"Traditional Hobo Bread\",\"Coconut-Almond Crispy Treats\",\"Zucchini Parmesan Casserole\",\"Golden Graham Candy\",\"Cranberry Relish\",\"Rum Sauce\",\"Lisa's Hot Crab Dip\",\"Harris Ranch Marinade\",\"Poppyseed Salad Dressing\",\"KRAFT Honey Dijon Roasted Potatoes\",\"Trail Mix\",\"Chicken Quesadillas for Toddlers\",\"Big Blast Oatmeal Cookies\",\"Fat Free (Virtually) Biscuts (easy)\",\"Chocolate Shortbread\",\"Maple, Almond and Cranberry Granola\",\"Easy BBQ Ribs\",\"Lemon Berry Refresher Smoothie\",\"Homemade Condensed Milk\",\"Fast and Easy Paprika Potatoes\",\"Easy! Chocolate Macarons\",\"Ripe Olive Potato Salad\",\"winnie the Pooh treats\",\"Oil-free Almond Flour Muffins\",\"Amaretto Root Beer Recipe\",\"Rasgula (Indian Milk Balls)\",\"Coleslaw Dressing\",\"Delicious Whole Wheat Tortillas\",\"Curzan Seasoning (St Croix)\",\"Quick Gluten Free Scones\",\"Russian Tea Cakes / Mexican Wedding Cakes (Cookies)\",\"Homemade Chunky Red Bed Paste for Ohagi and Mochi\",\"Human Puppy Chow\",\"Australian Damper\",\"Instant Chocolate Cream Cake\",\"Zucchini Streusel\",\"Jack O'tini\",\"Bread Machine Pain De Mie Recipe\",\"Basil Lime Mayonnaise Recipe\",\"Diphaphata (Stove Top Muffins)\",\"Chocolate Peanut Butter Truffles\",\"Betty Crocker Caramels\",\"Georgene's Very High Protein Sugar-Free Pancakes\",\"Easy CARAMEL Sorbet\",\"Milk Steamer\",\"Aussie Pumpkin Scones\",\"Chocolate Maple Walnut Praline\",\"Celebratory Red and White Namasu (Marinated Daikon and Carrot Salad) for New Year's\",\"BBQ Sauce\",\"Broiled Chicken Recipe\",\"Mashed Cauliflower (Mashed Potatoes Replacement)\",\"Hg's Berries & Cream Oatmeal Pudding! - Ww Points = 3\",\"Taco Seasoning\",\"Easy Sushi Vinegar for Storing\",\"Bread Machine Spelt Bread\",\"Yo Ho Ho Rum Raisin Sorbet\",\"Chocolate Sorbet\",\"Creole Bakes\",\"Dr. Oz. Energizing Breakfast: Canned Pumpkin Oatmeal\",\"Wholemeal Almond Biscuits\",\"Pineapple Slaw\",\"Raspberry Malibu Zinger (Cocktail)\",\"Deluxe Peas\",\"Balsamic-Dijon Vinaigrette\",\"Mom's Creamy Cheesy Berry Salad Dressing\",\"Almond Marmalade Spread\",\"Chocolate Almond Cups\",\"Baked Brie Recipe\",\"Homemade Caramel\",\"Fruity Porridge (Microwave)\",\"Geppettos Garlic Parmesan Rolls\",\"Crock Pot Orange Chicken\",\"Roasted Red Potatoes with Bacon & Cheese\",\"Herbed Vinaigrette\",\"Ralph & Kacoo's Tartar Sauce\",\"Peanut Butter Bears\",\"Canton Arcade Market Coney Sauce\",\"Homemade Easy Bread\",\"Cajun Spice Mix\",\"Baker's Friend (Homemade Pan Release)\",\"Oven-Baked French Fish Fillets\",\"Amelia's Earliest American Cookie\",\"Coconut Pecan Frosting Mix Substitute\",\"Company Pork Roast\",\"Mostly Oats Granola\",\"Easy Gfcf Noodles\",\"Cracked Pepper Salad Dressing\",\"Tuiles or Mandelflarn\",\"Nose Candy\",\"Apricot Honey Syrup\",\"Dried Apricot Jam\",\"Barbecue Sauce for BBQ\",\"Sweet Potato Pudding\",\"Peanut Butter\",\"Spiced Pecans\",\"Sweet Potato Puree with Ginger and Cider\",\"Homemade Pumpkin Spice Syrup\",\"Breadmaker Mix And Recipes Recipe\",\"Candy Corn Bark For Halloween\",\"Country Milk Gravy\",\"Zesty Herbed Carrots\",\"Easy Sweetmeat\",\"Brussels Sprouts and Carrot Salad\",\"Creme Fraiche\",\"Banana and Peanut Butter Smoothie\",\"Orange-Tofu Cream\",\"Cranberry Sauce\",\"Wilton's Buttercream Frosting\",\"Easy Lemonade\",\"Quick and Easy Gluten Free Flat Bread Wraps\",\"Basil Oil\",\"Fresh Peach Cobbler (Paula Deen)\",\"Bovril Beef Gravy\",\"Holiday Brie\",\"Black Bean Soup (Delicious!!) Recipe\",\"Pumpkin Granola\",\"Herb's Herbed Chicken\",\"Jersey's Fruit and Nuts Granola\",\"Dulce de Leche\",\"Llewellyn Fig Jam\",\"Honey Roasted Potatoes\",\"Drop Biscuits\",\"Season's Pecan Praline Peaches\",\"Grandpa Sprague's Grilled Chicken\",\"Egg, Dairy & Sugar Free Biscuits - Biscuits (egg, dairy & sugar free)\",\"Donna's Version of Franks Buffalo Wing Dip\",\"Steam/Sauteed Green Beans with Butter and Tarragon\",\"Honey Whole Wheat Bread\",\"Buffalo Roast Chicken\",\"Brown Sugar Bacon\",\"Polvorones - Mexican Cookies\",\"Sizzlin' Chicken Skewers\",\"Dry Rub for Meats and Poultry\",\"Hot GRAPE-NUTS Cereal\",\"Easy Hot Fudge Sauce\",\"Wheat Roll\",\"Lemonade Fried Chicken\",\"Melon-Papaya Batido\",\"Apple Salsa\",\"SPOON SIZE Reduced Fat Munch Mix\",\"Creamy Coleslaw\",\"Tangy Cranberry BBQ Sauce\",\"Sizzlin' Chicken Skewers\",\"Apple Cider Vinaigrette\",\"Jamaican Bulla Cake\",\"Peach Rum Preserves T-R-L\",\"Roasted Broccoli with Raisin Vinaigrette\",\"Chicken-N-Biscuits for Pups\",\"Cranberry Syrup for Cocktails\",\"Spiced Pecans and Pepitas -Martha Stewart\",\"White Rice\",\"Sour Cream Pastry Dough\",\"American Kitchen Classic Blue Cheese Dressing\",\"Scrumptious Rum Butter Sauce\",\"Pecan Biscuits with Orange-Honey Glaze\",\"My Favourite Sauce\",\"My Version of Cara's Version of Evelyn Rose's Rice Pudding\",\"Santa Barbara Tri Tip Marinade\",\"Russian Tea Balls\",\"Peanut Butter Fudge Recipe\",\"Cranberry Granita\",\"Dill Smoked-Salmon Hash\",\"Spinach Gratin\",\"Yummy Maple Syrup Muffins\",\"Chocolate Pistachio Cherries\",\"Cheesy Mustard Dip\",\"Green Grape & Blueberry Pie\",\"Mustard Spread\",\"Pomegranate Spritzer\",\"Famous Fat Free Creamy Dill Dip\",\"Pineapple Cream Cheese Spread\",\"Sourdough Bread Feeder Recipe\",\"Sweet Dreams\",\"Easy Salted Caramel Sauce\",\"Tender Asparagus Spears With Garlic Mustard\",\"Pottage Du Fromage\",\"Jerusalem Bagels\",\"Rummilicious\",\"Mother's Sticky Roasted Chicken Recipe\",\"Honey Lime Vinaigrette\",\"Cooking Light Easy Tzatziki Sauce\",\"Wild Berry Compote\",\"Egg-Free Raspberry Muffins\",\"Crab Salad\",\"Peanut-Butter Syrup\",\"Ruby Cranberry Vanilla Sauce\",\"Jam Squares\",\"Simple Crepes\",\"Clotted Cream\",\"MAGGIES COUGH REMEDY\",\"Great Grandma's Nut Butter Balls\",\"Zesty Italian Dip\",\"Nancy's Marinade\",\"Spicy Balsamic Steak Marinade\",\"Sunny Summer Chicken Salad\",\"Easy Strawberry Dessert\",\"Darlene's Apple Crisp\",\"Smoked Pulled Pork\",\"White Chocolate Marshmallow Shake\",\"Breakfast Quinoa Bowl\",\"Pineapple Butter with Cardamom and Vanilla\",\"Tangy Blue Cheese Dip\",\"Italian Potatoes\",\"Amazing Brown Rice Salad\",\"Jezebel Sauce Appetizer\",\"Cheesy Biscuits\",\"Ginger Glazed Carrots\",\"Pate Brisee (Pastry Dough)\",\"100% Whole Wheat Raisin Bread Recipe\",\"Tiny Sugary Deviled Eggs\",\"Beef Jerky #1 (My Favorite) Recipe\",\"Whole Wheat Crumpets\",\"Old-Fashioned Chocolate Fudge Frosting\",\"Tangy Artichoke Dip\",\"Barley Bread\",\"'Get Up & Go' Bars\",\"Maple and Rum Glazed Chicken\",\"Rosemary Buttermilk Muffins\",\"Mock Devonshire Cream Substitute for Strawberries\",\"Ghirardellis Hot Fudge Sauce\",\"Papaya and Mango Jam\",\"[Farmhouse Recipe] Cobb Salad Dressing\",\"Korean Spinach\",\"Donna's Barbecue Spare Ribs Recipe\",\"Vermont Maple Creams\",\"Banana-Oatmeal Cake (Screwed-Up Mother's Day Cake)\",\"Fresh Pineapple Pie\",\"Tiger Bread\",\"Mushrooms Florentine\",\"Veggie Dill Dip - Low Carb\",\"Frozen Lemonade\",\"Eleven Madison Park Granola\",\"French Hoagie Rolls\",\"Dubliner Cheese Dip\",\"Fluffy Peanut Butter Frosting\",\"Calming Car Spray\",\"Toasted Bread Crumbs\",\"Dave's Killer Whole Wheat Bread\",\"Overnight Apricot and Bran Rolls (Using Nut Roll Tins)\",\"Marbled Cashew Bark (Super Easy!)\",\"Betty's Green Tomato Chutney\",\"Maple Squash Puree\",\"Honey Lemon Herb Sauce\",\"Maple Watermelon and Pineapple Popsicles\",\"Whole Wheat Brown Sugar Soda Bread\",\"Oregano Chicken\",\"Coconut Krispies Ice Cream Bars\",\"Asparagus Soup\",\"Crock Pot Breakfast Casserole\",\"Muslim Naan\",\"L's Tangy Natural Nime Chow Peanut Sauce\",\"Honey Sesame Snaps\",\"Bull's Eye BBQ Sauce\",\"Pumpkin Pie Seeds\",\"Citrus Tahini\",\"MOE Slaw Recipe\",\"Black Sesame Lace Cookies\",\"Teriyaki Sauce\",\"Grilled Pork Tenderloin with Dijon Mustard\",\"Chocolate Fudge Pudding Cake\",\"Korean BBQ Chicken\",\"Papier-Mache Paste (Not to Eat)\",\"Homemade Sticky Buns\",\"Tomato And Pepper Relish Recipe\",\"Wonderful Leftover Mac and Cheese\",\"Rumbly-Tummy Buster Mix\",\"Mock Burger King Zesty Sauce\",\"Banana Jam\",\"Honey White Wheat Bread\",\"Harvard Beets\",\"Chocolate-Dipped Coconut Shortbread\",\"Warm Double Strawberry Sauce\",\"Honey Mustard Dipping Sauce\",\"Butter Puff Biscuit Dough\",\"Poor Man's Frosting\",\"Chicken Hash With Butternut Squash\",\"Aunt Marguerite's Apple Crisp\",\"Edamame With Asian Vinaigrette\",\"Tangerine-Glazed Carrot Cake\",\"Jalapeno Cornbread\",\"Emeril's Spice Blend Recipes\",\"Rice Pilaf\",\"Peppermint Milk Bath\",\"Maple Crunch With Soy\",\"Patti's Yummy Cheese Nuggets\",\"Plain Buns\",\"Dave's Cajun Kielbasa\",\"Delish Sweet Potato \\\"fries\\\" Low Fat\",\"Brown Butter Beer Bread\",\"Cinnamon Honey Spread\",\"Home Made Chocolate Syrup\",\"Eggless Whole Wheat Chocolate Chip Cookies\",\"Blueberry Sauce\",\"Make Ahead\\\" Oatmeal Pancake Mix\",\"Roasted Potatoes with Dill\",\"Surfin' Safari Fruit Smoothie\",\"Caramel Sauce\",\"Pot and Cot Roast\",\"Brown Sugar Fudge\",\"Pralines\",\"Chive Butter\",\"Mango Gelato\",\"Devonshire Cream\",\"Say Good-By to Doggy Breath\",\"Lavender Water\",\"Chicken Almond Sandwiches Recipe\",\"Mango, Strawberry and Blueberry Smoothie\",\"Scottish Scones\",\"Batida De Coco (Brazil)\",\"Chocolate Shell Sauce\",\"Blackening Seasoning (Gc) Recipe\",\"Saltine Toffee Cookies\",\"Whippy Whip Cream\",\"Basic Low Carb Pie Crust Recipe\",\"Garlic Beer Bread\",\"Scallion Rice\",\"Scottish Whipped Shortbread\",\"All Butter English Flapjacks\",\"Dijon Green Bean Salad\",\"Creamy Cucumber Dressing\",\"Summer Surprise Dessert\",\"Chocolate Pudding Sundaes\",\"Rosemary Popcorn\",\"Acorns Cookies\",\"Vegan Chocolate Peanut Butter Torte With Ganache\",\"Bramblewood Blackberry Pie\",\"Orange Apricot Jam Muffins\",\"Basic Sweet and Sour Sauce\",\"Rice Krispies Treats (using marshmallow cream)\",\"Corn Pops Snack Mix\",\"Peppy's Pita Bread\",\"The Frenchy Cocktail\",\"Pitch-black Bagels\",\"Toasted Walnuts\",\"Wasabi Mashed Potatoes\",\"Chili Sauce for hot dogs and such Recipe jerry i h\",\"Famous Maryland Chocolate Crab Pizza\",\"Pink Hound (Cocktail)\",\"Whole Wheat Bread\",\"Easy & Instant Cucumber Pickles\",\"Bacon-Cheddar Biscuits\",\"Barley and Oat Bread\",\"Green Beans and Feta with Dill\",\"The Lost Art of Lefse Making (Step-By-Step)\",\"(Clean) Pizza Dough\",\"Balsamic-Lemon Vinaigrette\",\"Samoan Hot Chocolate\",\"Sweet Potato Biscuits\",\"Peach Melba Jam\",\"Sweetened Whipped Cream\",\"Toffee Butter Crunch\",\"khoya\",\"Mock Babe Ruth Bars\",\"Vanilla Ice Cream VIII\",\"Gorgonzola Dip\",\"Homemade Oatmeal Yeast Rolls\",\"Simmered Purple Runner Beans in a Pressure Cooker\",\"Buckwheat Crepes with Whipped Coconut Cream\",\"Fortune Cookies II\",\"Chocolate Chip Ice Cream Pie\",\"Texas Tenders\",\"Holiday Eggnog Fudge\",\"Tangy French Dressing\",\"Ashura\",\"JR's quick and easy steak marinade\",\"Fresh Pesto Mayonnaise\",\"Sesame Chicken Recipe\",\"Brussels Sprouts with Walnuts\",\"Lazy Garlic Parmesan Risotto\",\"Ranch Dressing\",\"Apple-of-My-Eye Crisp\",\"Apple Cider Vinegar Tea\",\"Pistachio Brittle\",\"Celery Salad\",\"Peanut Butter Candy Bars\",\"Chile Hot Chocolate Recipe\",\"Cinnamon Apple Crisps\",\"Beet Relish-Canning Recipe\",\"Crunchy Trail Mix\",\"Sardinian Parchment Bread\",\"Ww Cinnamon Rolls\",\"Winter Greens and Potato Casserole\",\"Horseradish Cream Sauce\",\"Cranberry Sour Cream Salad\",\"Basic Pie Pastry\",\"Wild Rice in the Pressure Cooker\",\"Muesli Bars (Gluten, Dairy and Egg-Free)\",\"Orange Dipping Sauce for Coconut Shrimp\",\"Changjorim (Korean Salted Beef)\",\"Subru Uncle's Green Moong to Go With Sindhi Curry\",\"Grape-Tini\",\"Herbed Potato Salad\",\"Vanilla Milkshake\",\"Slow Smoked Pork Ribs\",\"Mama's Snack Pastry\",\"Vidalia Onion Dip\",\"Muesli Bars II\",\"Instant Potato Lefse-No Milk/Cream\",\"Best Ever Pancake Syrup Recipe\",\"Turtle Bars\",\"Orange Sherbet Float\",\"Rice Milk\",\"Creole Pecan Party Rounds\",\"Chicken Corn Chowder Recipe\",\"Butter Pecan Turtle Bars Recipe\",\"Triple-Apple Raisin Bread\",\"Lala's BBQ\",\"Mock Scallops\",\"Apple Crumble Recipe\",\"Self Rising Cornmeal\",\"Quick Oven-Baked Beef Stew\",\"Dry Roasted Almonds\",\"Shortbread Cookies\",\"Thai Sweet Chili Sauce\",\"Candied Kumquats in Syrup\",\"Colada Cookies\",\"Easy Chicken Stir-Fry\",\"Toasted Sesame Seeds\",\"Slow Cooker Apple Butter\",\"Fried Chicken\",\"Thai Peanut Dressing from Cpk's Thai Crunch Salad\",\"Rhode Island Apple Slump\",\"Chicken, Grape and Curry Salad\",\"1920 Rice Pudding\",\"Candied Walnuts\",\"Fiber One Chocolate Haystacks\",\"Chocolate Cherry Muffins (Everything-Free, Low-Cal and Vegan!)\",\"Spicy Whipped Feta With Roasted Red Peppers\",\"Deluxe Creamed Onions\",\"Curried Soda Bread\",\"Caramel Cream\",\"Raspberry Revolution Smoothie (Nordstrom)\",\"Cottage Cheese Berry Muffins\",\"Applesauce Cake (Ob'l Dunkes Kucha)\",\"Homemade Polenta\",\"Sugar-Free PB&J Smoothies\",\"Beets in Vinegar Sauce\",\"Butterscotch Oat Squares Recipe\",\"Crockpot Spareribs\",\"Soy Sauce Baguette (Kneaded with a Spatula)\",\"Cheese Buttermilk Drop Biscuits\",\"Raspberry Lime Smoothie\",\"Ww Spicy Pretzels\",\"Fresh Raspberry Preserves\",\"Grilled Brown Sugar & Maple Glazed Canadian Bacon\",\"Blueberry & Spice Sauce\",\"Basic Sweet Bread Dough (Light and Fluffy Version)\",\"Nuts & Bolts\",\"Brussels Sprouts with Balsamic and Cranberries\",\"Curried Chicken Salad with Nectarines\",\"Fruit Tzimmes\",\"Sparkling Cranberries\",\"Chocolate Covered Cherry Fudge\",\"Mango Poppy Seed Muffins\",\"Shred Me up Slaw\",\"Easy Rolls\",\"Pineapple Crisp\",\"Green Beans With Flaked Almonds\",\"Chocolate Orange Crunch Truffles (Smucker's)\",\"Wicklewood's Butterscotch Quinoa\",\"Orange Shallot Sauce\",\"Pineapple Bars\",\"Banana Butter Frosting\",\"Basil Garlic Popcorn\",\"Kuromitsu [Recipe No. 6 for Japanese Expats]\",\"Asian Green Beans\",\"Seasoned Vinegar\",\"Moroccan Sweet Carrot and Honey Dip\",\"Pomegranate Dessert\",\"Pecan Pralines (Old Fashioned)\",\"Emme's Chocolate Buttercream Frosting\",\"Classic Coleslaw\",\"Quark (German Cheese)\",\"Sweet and Sour Sauce\",\"Pork or Chicken Dry Rub\",\"Homemade Granola\",\"Salsa Dressing\",\"Oatmeal Fruit Squares (Gluten Free)\",\"Tomato Peach Chutney\",\"Tomato-Black Bean and Barley Soup\",\"Chocolate Raspberry Cobbler Cake\",\"Homemade Horseradish Sauce\",\"Salmon Teriyaki Glaze\",\"Pomegranate Ice Cubes\",\"Mc Donald's Honey Mustard Sauce\",\"Chewy Irresistible Caramel Popcorn\",\"Roasted Sweet Potato Wedges Recipe\",\"Blackberry Puree\",\"Old Time Popcorn Balls\",\"Better-for-You Grilled Chicken Caesar Salad\",\"Mango Madness\",\"Oatmeal Drink\",\"Peanut Butter Chocolate Bars\",\"Ww 2 Points - Lime Cilantro Dressing\",\"Fresh Asparagus Pie\",\"Cranberry Vinegar\",\"Just Peachy Oven-Bbq Chicken\",\"Citrus Shrimp Salsa\",\"Fruit 'n' Nut Rice Pudding\",\"Sesame Asparagus\",\"Mammys Gingerbread\",\"Bill's Blueberry Cobbler\",\"Butter Nut Caramels\",\"Amish Bread\",\"White Hot Chocolate\",\"Broiled Flounder Fillets Recipe\",\"Chickpea, Pesto & Red Onion Salad\",\"Crock Pot Pork Roast\",\"Cinnamon Butter Spread\",\"Swiss Buttercream\",\"Hurricane Smoothie\",\"Easy Gluten-Free Chocolate Chunk Cookies\",\"Homemade hot fudge sauce\",\"Berry Smoothie\",\"Steel-Cut Oatmeal\",\"K-Jon's Buckeyes Candy!\",\"Manzana Crocante ( Apple Crisp)\",\"Vortbrod (Beer Bread)\",\"Cachapas\",\"Pumpkin Rolls\",\"Cheery Cherry Punch\",\"Multigrain Honey Oat Bread\",\"Instant Chocolate Oatmeal With Cinnamon\",\"David's Simi Spicy Tartar Sauce\",\"Apple Cinnamon Raisin Muffins\",\"Christmas Ornaments\",\"Crunchy Potato Wedges\",\"Parsley Potatoes\",\"Whipped Cream\",\"Empanada Dough\",\"Fresh Nama Chocolate\",\"Rainbow Bean Soup in a Jar\",\"New Orleans Creole Seasoning\",\"Potato Casserole\",\"Vegan Brownies\",\"Reese's Protein Shake\",\"Roasted Whole Edamame\",\"Breakfast Berry and Orange Smoothie\",\"Devils Food Cake Mix in a Jar\",\"Green Beans With Roasted Garlic and Parmesan\",\"Rosie's Raisin Rhapsody\",\"Rum and Raisin Christmas Popcorn Balls\",\"Curry-Mustard Steaming Liquid\",\"Grandma's Apple Butter\",\"Homemade Sweetened Condensed Milk Recipe\",\"Pumpkin Spice Dip - Sugar Free\",\"No Rise Pizza Dough\",\"Peanut Butter Granola Bites\",\"Lemon Pepper Parmesan Dip\",\"Paprika Spice Blend\",\"Roasted Brussels Sprouts with Agave and Spicy Mustard\",\"Leah's Chocolate Butter Cream Frosting\",\"Choco Overload Cookies\",\"Sherry's Scrumptious Shrimp Sauce for Pasta\",\"\\\"Winter is Coming\\\" Ribs\",\"Fantastic Vanilla Pudding\",\"Best - Ever Pie Crust\",\"Tangy Balsamic BBQ Sauce\",\"Decadent Dairy-Free Chocolate Truffles\",\"Autumns Caramel Apple Crisp\",\"Strawberry Hot Chocolate yummy :ohyeaah\",\"3-Ingredient Egg-Free Easy Cookies\",\"ANDRES MINT CHOCOLATE CAKE\",\"Icing for Brownies\",\"Golden Pull-Apart Butter Buns\",\"Old Fashioned ShooFly Cake\",\"Mashed Potatoes with Spinach\",\"Authentic Italian Bread\",\"Barbecued Almonds\",\"Pork Medallions with Cherry Sauce\",\"Sun-Dried Tomato-Herb Bread\",\"Croquants\",\"Pixy Dressing\",\"Beet Relish\",\"Super Easy Crock Pot Kielbasa\",\"Creamy Ricotta Cheese (Homemade)\",\"Easy Bread Machine Pizza Dough\",\"Dk's Lone Star Dry Rub\",\"Delicious in a Flash/You Have It All on Hand Salad Dressing\",\"Raspberry Bounce\",\"Basic Polenta\",\"Parmesan Peppercorn Salad Dressing (Dlife)\",\"Crispy Toffee Caramel Popcorn\",\"Spicy Baked Shrimp\",\"Egg-Free Double Chocolate Chip Cookies\",\"Honey Baked Pecan Crusted Chicken\",\"Smoked Salmon Pizza\",\"Low-Fat Ranch Dressing and Dip Mix\",\"Sweet-and-Sour Red Cabbage and Fennel\",\"Homemade Pectin\",\"Cornmeal Honey Blueberry Muffins\",\"California Fruit and Nut Chocolate Bars\",\"Black Cow Ii Recipe\",\"Peanut Butter Drops\",\"Champorado (Filipino Chocolate Rice Pudding) Recipe\",\"Country Style Waldorf Salad for 2\",\"Missouri Cucumbers\",\"Pork Tenderloin with Lemon Mustard Sauce - WW 5 Points\",\"Paula Deen's Lemon Shrimp Cocktail Sauce\",\"Summertime Cobbler with Orange Biscuit Crust\",\"Armadillo Eggs\",\"Pumpkin Marmalade\",\"Almond Buttercrunch Candy Recipe\",\"Sweet & Sour Sauce\",\"Eggless Chocolate Cake II\",\"Biscotti Cinnamon Apple\",\"Instant Strawberry Ice Cream\",\"Peanut butter fudge thumbprints\",\"Dairy-Free Vanilla Strawberries and Cream Smoothie\",\"Cranberry Chutney\",\"Dosai\",\"Santa's Whiskers I\",\"Unleavened Communion Bread\",\"Citrus Cream\",\"Emeril's Essence\",\"White Soda Bread\",\"Pizza Hut Breadstick Seasoning\",\"Honey Roasted Sweet Potatoes\",\"Caramelized-Onion, Rosemary, and Pine Nut Topping\",\"Flaming Orgy\",\"Whipped Chocolate Cream Cake Frosting\",\"Soft Oatmeal Raisin Cookies Recipe\",\"\\\"GREEN TOMATO JAM\\\"\",\"Creamed Herring Dip\",\"Peachy Pineapply Smoothie\",\"White Witch (Cocktail)\",\"Gin Rickey\",\"Zucchini Bars\",\"Classic Belgian Waffles\",\"Basic Plain Bagels\",\"BBQ Shrimp\",\"Tofu Mushroom Soup With Ground Pork\",\"Browned Butter Caraway Noodles\",\"Cheese Cookies\",\"Basil Butter\",\"Fairground Caramelized Nuts\",\"Mock Tahini\",\"Blueberry Ice Cream\",\"Peanut Brittle Ice Cream\",\"Vickys Cinnamon Fruit Bites, Gluten, Dairy, Egg & Soy-Free\",\"Summer Salsa\",\"Soymilk Whipped Cream\",\"Swedish Tea Cookies\",\"Fresh Fruit Dip\",\"Basic Pizza Dough Recipe\",\"Fettuccine with Mushrooms, Tarragon, and Goat-Cheese Sauce\",\"Family Friendly Ww Barbecue Sauce\",\"Brown Rice Pilaf\",\"Hot and Spicy Cocktail Nuts\",\"Kittencal's White Sauce/Roux\",\"American Green Salad With Cheddar Cheese & Panko Topping\",\"Blueberry Fool\",\"Mandi's Homemade Biscuits\",\"Munch 'n Crunch Party Mix\",\"Easy Shortcakes\",\"Best Bean Salad\",\"Hot Buttered Rum\",\"Cottage Cheese Cookies\",\"Mustard - Stadium Style Brown\",\"Crazy Cake Mix in a Jar\",\"Taco Seasoning\",\"Simple Nut Mix\",\"Rainy Portland (Warm Rum Drink)\",\"New Mexican Hot Chocolate\",\"Apple Brandy Highball Recipe\",\"Chocolate Caramel Martini\",\"Aunt Sherrill's Poppy Seed Dressing\",\"Bulger Wheat And Dill Bread Recipe\",\"Oatmeal Tres Leches Bars\",\"Dark Chocolate Frosting - Chocolate Sour Cream Frosting\",\"Indonesian Dip\",\"Focaccia Dough\",\"Mandys Apple crumble\",\"Alexander Recipe\",\"Maple Cream Cheese Spread\",\"Jam Thumbprint cookies\",\"Spicy Unfried 'Fries'\",\"Creme Fraiche\",\"Fresh Peach Cobbler\",\"Dry Rub for Pork\",\"Strawberry-Peach Crisp\",\"Smooth Peanut Butter Fudge\",\"Chocolate Blueberry Soy Shake\",\"Granny's Old Style Peanut Butter Chip Dip Recipe\",\"Honey Roasted Mixed Nuts Recipe\",\"Easy Fruit Dip\",\"Sauce for Fish Tacos\",\"Fat Free Ranch Dressing\",\"Pan-Roasted Chestnuts Recipe\",\"Roast Pork Shoulder\",\"Lahvosh/Lavosh Armenian Cracker Bread\",\"Maple and Orange-Glazed Carrots\",\"Chewy Pecan Cookies in a Jar Mix\",\"Mrs. Bentley's Plain Old-Fashioned Lemonade\",\"Spicy Pumpkin Pie Seeds\",\"Almond Joy Recipe\",\"Granddads Peanut Brittle\",\"Fat Free Pie Crust\",\"Mixed Summer Berry Parfait\",\"Apple Crisp Crunchy Granola Bars\",\"Whole Wheat Flatbread\",\"BBQ Sauce\",\"Caramel Apple Bars\",\"Barbecue Rub\",\"Brussel Sprouts Pasta Recipe\",\"Island Smoothie\",\"Amanda's Awesome Stir-Fry Sauce\",\"Sunday Plastic Wrap Roasted Pork for Pulled Pork or Carnitas\",\"Turkey-Tomato Stew with Onions and Raisins\",\"Dijon Bacon Dip for Pretzels\",\"Chocolate and Milk\",\"KFC Flavor Baked Chicken\",\"Crockpot Rotisserie Chicken\",\"Meat Marinade\",\"Steakhouse Garlic Butter Potato, Pan Grill\",\"Mashed Potatoes With Sour Cream and Chives\",\"Sugar Free Pineapple Cream Pie\",\"Arugula Salad with Raspberry Vinaigrette\",\"Easy & Healthy Mango Crisp (Naturally Sweetened)\",\"Stovetop Leftover Rice Pudding ATK\",\"Black Bean Patties Recipe\",\"Authentic Navajo Indian Fry Bread (Taco Bread)\",\"Simple Blueberry Muffins\",\"Two-ingredient Italian Tomato Sauce\",\"Easy Corn Relish\",\"Fat Free Oatmeal Muffins\",\"Decadent Dark Chocolate Swirled Caramel Corn\",\"Apricot Florentines Recipe\",\"Dark Chocolate Hazelnut Granola\",\"Salmon Fillets With Apple Butter\",\"5-Minute Shrimp and Pea Salad\",\"Sweet and sour sauce\",\"Rice Cooker Gingerbread Cake\",\"French Vegetable Soup\",\"Ginger Peppernuts\",\"Banana Mango Smoothie\",\"Watermelon Strawberry Lemonade\",\"Strawberry Smoothie\",\"Steakhouse Rub\",\"Mango Sorbet\",\"Sugar Glaze\",\"Pumpkin Pie Oatmeal\",\"Pizza Dough Focaccia (Abm)\",\"Cardinal Punch\",\"Five Minute Berry Ice Cream\",\"Zesty Mashed Potatoes\"],\"id\":[\"005e671ac4\",\"00703db954\",\"007e544c80\",\"00a0ea8691\",\"00deb3f9f4\",\"00fb62a5c5\",\"01680dde21\",\"01e8a5eafa\",\"021fc34777\",\"02ac814cc8\",\"02d5e2be4e\",\"033658b401\",\"03382523bb\",\"03406b8942\",\"034d98f3e0\",\"036a25db55\",\"03ee872666\",\"040cb7ddda\",\"04306b403e\",\"043f709b9d\",\"04475b1bab\",\"04d4c034fa\",\"059d17069e\",\"05f3f4e20a\",\"06e36f2524\",\"0745c9e449\",\"0752df932c\",\"0772646fd3\",\"07de50ac6d\",\"07e49ed6a2\",\"07fbebdda4\",\"08195c81ce\",\"08b96fd6f5\",\"08ba798f1f\",\"08cb17d883\",\"0ac9ce007e\",\"0bf8d0c2ff\",\"0c01590d51\",\"0cc85332be\",\"0cd96702f0\",\"0d0a86dde1\",\"0d7599e326\",\"0d86ee0877\",\"0e7305b93c\",\"0eeced3f58\",\"0f02207ad9\",\"0f089265ca\",\"0f12cdcc4a\",\"0f3309ad7a\",\"0f5bf5a2a3\",\"0f95fa815f\",\"0ff3eb454c\",\"100863f2da\",\"104ee047a2\",\"10d73b7136\",\"10fe498226\",\"1111fdaf04\",\"11125b5417\",\"1117468998\",\"117b2eb398\",\"11abd7fa07\",\"11c2dd35e1\",\"12370d1e27\",\"129d49dd98\",\"12dda0688a\",\"12fd9ca514\",\"13032372da\",\"1335c78b48\",\"133d2e4c29\",\"136644941a\",\"13a60ea7aa\",\"143d53aa68\",\"1443c69124\",\"1447d56cd3\",\"147d296ccd\",\"147feb450d\",\"148fbcfcc5\",\"14faf36aa5\",\"14fea31067\",\"1524091542\",\"15a615d2c8\",\"15b1d9a729\",\"1612d0ebbf\",\"161cd71113\",\"162d2b96e1\",\"166e64154e\",\"176f372b13\",\"17fd58a1a5\",\"1802a4be16\",\"181988fdfd\",\"182eda73b3\",\"187d982cd4\",\"18865ee568\",\"189039dac5\",\"18922df2b1\",\"18c3fb1ea0\",\"18c42431ee\",\"18d246ebe4\",\"195a6a5e9f\",\"198b726a99\",\"19e9a4d0f2\",\"1a479a7789\",\"1a6273fc5b\",\"1a8d32738f\",\"1abfdc7a78\",\"1ad6ff2679\",\"1aec0f339b\",\"1b2240f816\",\"1b5b8a1d6a\",\"1b656401d2\",\"1ba0811b83\",\"1c107713a7\",\"1c15ce7c57\",\"1c17564379\",\"1c27b61be5\",\"1c38e235f9\",\"1c55a2a843\",\"1d20b948f1\",\"1d8c0c3d80\",\"1e63543f33\",\"1e69651aae\",\"1e7be1a017\",\"1e8d2f25b0\",\"1e8e737ddb\",\"1f8173a725\",\"201b349e1e\",\"202fd6b96d\",\"20524e7341\",\"206bd072e8\",\"20a385bdc6\",\"20ece4944a\",\"2159fbe2ed\",\"216fd57b8d\",\"218e8a1538\",\"219e64029c\",\"222e938be1\",\"22361c7dab\",\"22d96a371d\",\"23215c4b26\",\"233170c98b\",\"23359e6e7f\",\"233e4f2673\",\"238bf749a1\",\"23a1b98b98\",\"23a3ddf5c6\",\"23c3fe67e4\",\"23eaf9e66c\",\"244b238c4a\",\"2458713df0\",\"24876cef34\",\"249ed42435\",\"24e51b63d0\",\"2535da858c\",\"25f3ff3cba\",\"26090df48f\",\"261eb0cd59\",\"267e34e694\",\"267e79601b\",\"26b3516680\",\"2724ab0368\",\"2735c36f30\",\"2873f14b69\",\"288d9f0db9\",\"28bd15c0bf\",\"28d1c09b6a\",\"2920b79bc7\",\"29f93fa088\",\"2a448e694f\",\"2a4d10153d\",\"2ad8104090\",\"2b62524940\",\"2b9362e0a6\",\"2c18dc9a35\",\"2c4d9e8935\",\"2c5016b86f\",\"2ce83070f1\",\"2cfd413664\",\"2d13b125f4\",\"2d1cfc4893\",\"2d54809389\",\"2dcdbc07de\",\"2df17fd1f4\",\"2e86c2cf71\",\"2edadbdc58\",\"2eebeb8c46\",\"2f26cbcb82\",\"2fbf9114ed\",\"2fcc4acadf\",\"3000e2c216\",\"300f012079\",\"3072046d50\",\"307317b2a7\",\"30754b2e63\",\"308799cf83\",\"30fb85c2cf\",\"322079af06\",\"32a28ee2e3\",\"32a4db23c2\",\"32f6dda3a4\",\"335eae967e\",\"33acf2c6ee\",\"33b756423d\",\"33d1163df0\",\"33d67b2e60\",\"33db6f598a\",\"33e4cfb8ff\",\"3425dc147c\",\"34ef2f04fb\",\"352239c704\",\"3568e87942\",\"360cfd2d64\",\"36412e4b0b\",\"36b549af1d\",\"3709fafc8a\",\"37164e716b\",\"37db6cbb1c\",\"380a5e4be4\",\"3888e9adcd\",\"3895246c7f\",\"395c32bb35\",\"39ed07995e\",\"3a87de836b\",\"3b44021bb6\",\"3b47afca2a\",\"3b4b6584f7\",\"3b58deaaf0\",\"3bbadd7a79\",\"3bdbee3d42\",\"3be635288c\",\"3bedf16a4e\",\"3c410969dd\",\"3c55f46ddf\",\"3cd0fefbd5\",\"3d80513070\",\"3d84337cc6\",\"3e1638dadb\",\"3e3a012d3a\",\"3e61ed83be\",\"3ebc76cb32\",\"3ebfc5bd2d\",\"3edf368e1a\",\"3f2b099704\",\"3fd34d4c63\",\"3ff305afe5\",\"40e58a9a70\",\"426fe6d854\",\"438f39c003\",\"443d03a376\",\"443f7bce08\",\"444aae4c15\",\"44b14943b5\",\"44cbedd6e4\",\"44d2fd5b4a\",\"44d40f703f\",\"4504cb20bb\",\"4539329b21\",\"4565030938\",\"45e17f1dc3\",\"4601a99c1e\",\"462dae4789\",\"46390bcd3b\",\"467876dc88\",\"46dbd27b9a\",\"46f9baf0ef\",\"472863139e\",\"476f6b28cb\",\"4778461b54\",\"47e7bae245\",\"47e8651117\",\"4810356b82\",\"4854f8ceb3\",\"4871829d1b\",\"4879d857c7\",\"49027554c6\",\"4978cd5acc\",\"49836acf21\",\"4a4225d5ec\",\"4a832e2e05\",\"4a89198fcd\",\"4aa18ca949\",\"4af5a82706\",\"4b24a0fb1c\",\"4b41f02bd5\",\"4b4bfd258b\",\"4b5ec99fc7\",\"4b86d26609\",\"4c011f530d\",\"4c389efc82\",\"4c783f8640\",\"4d028f7916\",\"4d20841c85\",\"4d356c4fc6\",\"4de7bdfb68\",\"4e9d7d0909\",\"4ebe87ee2c\",\"4f740a7d46\",\"4fa00d9afe\",\"4ff3725547\",\"50184ae466\",\"502f2c2a74\",\"5085c4025d\",\"50ac97767e\",\"50b2a93a80\",\"50c84aaa5a\",\"5170a8a368\",\"51b346d604\",\"520f819de0\",\"523c190532\",\"52bc812216\",\"52cafc7433\",\"532d2ad8ff\",\"5334288942\",\"535d0a38bc\",\"53886a621d\",\"53da287bc4\",\"546134edcd\",\"549090e8de\",\"5538c71de9\",\"553ac77fd9\",\"55a3f0bf7c\",\"562c95e941\",\"56b5ef3b8c\",\"575ecee778\",\"57f2ed45a7\",\"5871d2d425\",\"58c488f1e9\",\"58d95d168c\",\"5934c0ce7f\",\"5949832edd\",\"59b0285669\",\"59bc7c7f4a\",\"59e286df0f\",\"5a051a8e30\",\"5a31e9c7b6\",\"5a65c025b1\",\"5a7ac73073\",\"5a9cade725\",\"5adaf0369a\",\"5b001e91d9\",\"5b0a9f5d83\",\"5b0c7e9244\",\"5b1a11689a\",\"5b63976296\",\"5b84666287\",\"5b96a0c833\",\"5ba730c633\",\"5c23e34818\",\"5c952911b9\",\"5c9a53dcba\",\"5d92d012db\",\"5d9842bbfa\",\"5e4f1f003f\",\"5f0d6c7476\",\"5f1bc62a83\",\"5fa43f9fa3\",\"5fb95c5510\",\"5fe8f5239d\",\"5ff59f6a71\",\"60da9557c8\",\"6129187125\",\"6182c88ca1\",\"627c30bc59\",\"62a4443041\",\"62d86d4625\",\"631cdfc8f3\",\"633956bb9b\",\"6362bf0cad\",\"639a3f1e1b\",\"6441b53e55\",\"645c44d4fb\",\"646413e13f\",\"64c260192f\",\"64fdc2987e\",\"6585b649ae\",\"659727d280\",\"664b6ff221\",\"667efae1eb\",\"669e7cfcad\",\"66a62f778e\",\"66d3a3d784\",\"6710436f1f\",\"67da4c2211\",\"6809eed4c7\",\"680fd9828e\",\"686654898f\",\"68d15e1d00\",\"68d58f9e6a\",\"68df06f250\",\"690cc86512\",\"6a553c17ef\",\"6a9148e073\",\"6ad4d5c25e\",\"6af95944a9\",\"6b19e4df4d\",\"6b3862ef74\",\"6b4caa880d\",\"6c26cceaf5\",\"6c466f5fba\",\"6c4ba857ad\",\"6cc2910415\",\"6d6eb5a128\",\"6d8a9c1445\",\"6e0142fc8b\",\"6e05c000fb\",\"6e76147f1c\",\"6ec7baa874\",\"6ecd7c4841\",\"6f4562b406\",\"6f48dac2ed\",\"6f7fefd54d\",\"6fbdb6251d\",\"701c83cc5a\",\"70292a443f\",\"7062ed71c2\",\"7065d514d0\",\"7095455761\",\"7095a7a034\",\"70bf436e22\",\"70c1d544d5\",\"70deb500c3\",\"70f34515af\",\"718b0e44f0\",\"71a2e0d509\",\"71e0bea236\",\"722ffffedb\",\"72f339cbff\",\"72f5cb51f3\",\"73363055e6\",\"733ba39635\",\"73a82cde8d\",\"73cb588af3\",\"73cf3abf37\",\"74202b5c0a\",\"744d2a4728\",\"74a3b34ab4\",\"7523edabc3\",\"7524a93a9a\",\"757b849b12\",\"764b43ba51\",\"768e226880\",\"7700d21303\",\"7778e105ff\",\"77d90cc45c\",\"77e08bcb6c\",\"77fcc62deb\",\"780f4bfea9\",\"78a3b6741e\",\"78b8ebdf27\",\"78bd32baea\",\"7970bf4b97\",\"79c9ecf1d1\",\"7a1e0f1c3f\",\"7a5ae6e065\",\"7a84fe1bbf\",\"7ab96c8afd\",\"7ad7a34a3d\",\"7af6a1c4ac\",\"7bbf57ff48\",\"7bc12477d8\",\"7bd034b657\",\"7c240ec100\",\"7c37f34516\",\"7c45b75984\",\"7c494a7b23\",\"7c5c4d5319\",\"7c9433b769\",\"7ced8f8fc7\",\"7cfdd9730d\",\"7d245a076e\",\"7d599a6faa\",\"7d8b389920\",\"7ddd034bd6\",\"7e6311a7c0\",\"7e93b06afa\",\"7f1a94adf7\",\"7f1f07f651\",\"7f6bc1e5b8\",\"7f8a8d5f60\",\"81113f5559\",\"8137f5ae16\",\"8191e16767\",\"819a061808\",\"819bd1aac2\",\"825df44060\",\"828ab91e62\",\"82dbc5a80d\",\"82dd420e39\",\"833cbed39e\",\"83b1f57108\",\"8427edb8a1\",\"84c476f36a\",\"84cd2f6540\",\"84de4d1bec\",\"84f1f35a38\",\"86054a3b7b\",\"865e1d8dd2\",\"869993dca2\",\"86f886d030\",\"8746c268ab\",\"8755251f20\",\"877c2d5cc3\",\"883f9fd283\",\"8849a8cee8\",\"88f977e1c9\",\"895b532be2\",\"8a033f2269\",\"8a112718d2\",\"8a520f0546\",\"8a5af5cc55\",\"8a6482aa20\",\"8ab25b5c7f\",\"8ad8cbbea0\",\"8af09a70cd\",\"8b1710858b\",\"8b4a345dce\",\"8bd21c9d51\",\"8bfb5003cd\",\"8c32e0f236\",\"8c3af17a1b\",\"8c47069454\",\"8c51e21cf6\",\"8c5584ce8f\",\"8c55e4c57f\",\"8c73440afd\",\"8cc83c4b87\",\"8ce970d6f1\",\"8d09cafec3\",\"8d36aee5d5\",\"8d4c31efb6\",\"8e189cddd0\",\"8e37f81bce\",\"8e39b55438\",\"8e40615540\",\"8e584821fd\",\"8ee95f4a01\",\"8efebb1a47\",\"8f2422c7af\",\"8f307a2eca\",\"8f873f5a14\",\"8fab86dc50\",\"9031bf41bc\",\"9060c782a6\",\"909085bbf5\",\"90a188f5bd\",\"90d5c7cbe4\",\"91655d4410\",\"9167dc4ac1\",\"918b1398a5\",\"92823ba302\",\"92823d6f0e\",\"92ae15121a\",\"93041e1013\",\"930c82d489\",\"930f864320\",\"931c804053\",\"931cc47071\",\"9358baaaf9\",\"93b5b91511\",\"93ba3e5e57\",\"93c54e11f3\",\"93cc25c46c\",\"9405465e57\",\"941e7ea19d\",\"9452a032a9\",\"94e11590da\",\"94f4bb0ae2\",\"956ff7ae4e\",\"95ae271678\",\"95d111ac3b\",\"95d4dd92e3\",\"95f22ca87b\",\"961ac032c0\",\"966f902e0b\",\"96dbc621ee\",\"96e26a0191\",\"9703674880\",\"9729476d78\",\"97d553cf67\",\"97ece004e2\",\"97fb0b2905\",\"97feadff93\",\"9830f4553e\",\"984325463f\",\"98459788f3\",\"986cc4cdc8\",\"98d850bf92\",\"9904c98e8b\",\"993dd9b37a\",\"9959485959\",\"99d40ea551\",\"99ee4127d9\",\"99f8ab7122\",\"9a4c835c2f\",\"9a7f0ba4cc\",\"9aa1299949\",\"9ab8129b3d\",\"9ad0e440f2\",\"9adadca0ce\",\"9b0fa21f89\",\"9b217647ea\",\"9b4f0ef434\",\"9b6bb5c149\",\"9bfeb408bb\",\"9c501ab3cd\",\"9c5b9854da\",\"9c65a56e07\",\"9cb2f5dadd\",\"9cbf65d691\",\"9cc5d29bd6\",\"9ceeaf89b4\",\"9db3a93cda\",\"9e2261f0ba\",\"9e2d66932a\",\"9e48c9d7ce\",\"9e7b114f70\",\"9e919e36e7\",\"9e92b3a0e2\",\"9ea1112bbc\",\"9eb3b4b84d\",\"9ef4eece35\",\"9f1e5bcff9\",\"a0374c2ae6\",\"a04237fc65\",\"a06619344d\",\"a09e4e4539\",\"a1069e7df6\",\"a14945ae6b\",\"a1b5fe7957\",\"a1ffa86c80\",\"a2049ad8fc\",\"a224f1cc08\",\"a24e71a376\",\"a27511beb0\",\"a2960cdc8c\",\"a2a8acc920\",\"a312427766\",\"a315abd22d\",\"a3360bf90d\",\"a380814882\",\"a383738ff8\",\"a421302d78\",\"a46600d36a\",\"a4b15306a5\",\"a59cfed2c9\",\"a60bed4c58\",\"a64817dc98\",\"a6bb7203d7\",\"a6f737d69b\",\"a781b36881\",\"a7c549c04e\",\"a7e74df90f\",\"a87e74c1a1\",\"a894fdce2b\",\"a8c1ed9631\",\"a91ca1a6c0\",\"a920617c0d\",\"a958ef113f\",\"a980157e07\",\"a9b49de207\",\"a9b887cccf\",\"a9ba307903\",\"aa300e018a\",\"aa5c1a02aa\",\"aacb183437\",\"aaea31c5f9\",\"ab06ddd4f2\",\"ab6a412b41\",\"ab7ef60dd4\",\"abc8a1c5ba\",\"abd5cd3c17\",\"ac0746559d\",\"ac0eee2db7\",\"ac9743db7b\",\"acb070ee17\",\"adc2e67ccb\",\"ae5214e821\",\"ae5a402c78\",\"ae9f4193fa\",\"aeed70e482\",\"aeef5aadbd\",\"af26247216\",\"afc46e63ae\",\"afcd32ecdb\",\"b025286d60\",\"b052a555c9\",\"b099336710\",\"b0aa9ae99e\",\"b13cd0668b\",\"b218dea068\",\"b21cc0c1f3\",\"b275c2bba6\",\"b2936d053a\",\"b2bb49fc30\",\"b2db856b89\",\"b33eb675b7\",\"b37580d442\",\"b3b7c44d21\",\"b3bfa2c7d0\",\"b3c9c10b3d\",\"b43c08efd4\",\"b44021d3f1\",\"b47f3e6b02\",\"b535be4583\",\"b5bcdf30c4\",\"b5f8231477\",\"b60ca87a73\",\"b60decd8a9\",\"b634f21033\",\"b635dd20bb\",\"b661380c4a\",\"b67d5442ad\",\"b6cd39e528\",\"b76594a07f\",\"b7aa872837\",\"b84e53fd5f\",\"b8a4b627fc\",\"b92b88eb07\",\"b93fc6ab74\",\"b9480794b5\",\"b9b89434c6\",\"b9f564237f\",\"ba12192efa\",\"ba3dc451c0\",\"bac05272a0\",\"bae1622957\",\"bae244dbc0\",\"bb46877688\",\"bb643b3f0e\",\"bb85770070\",\"bbd89cb624\",\"bbddba4510\",\"bc202b4124\",\"bca19103fc\",\"bcd23a7ff9\",\"bce6e21365\",\"be7c3e6f05\",\"be829ef22e\",\"be977e1bc8\",\"bf10676575\",\"bf378cbc33\",\"bf64db98db\",\"bf6e830e74\",\"bf7c8f1e06\",\"bff7cc94f5\",\"c0596b7aeb\",\"c08e270cb3\",\"c0b86bd544\",\"c0cf1c49ed\",\"c14195e7be\",\"c1838525af\",\"c1a527144a\",\"c1f8803f21\",\"c20a8789f5\",\"c217e81648\",\"c21d7cdf39\",\"c26128d8c2\",\"c34358ee3d\",\"c3bef62f87\",\"c42ea3d431\",\"c441954642\",\"c4e1ad006c\",\"c4edb957c2\",\"c5bab16319\",\"c61e5495bd\",\"c641cf762d\",\"c66ad3b597\",\"c69408e9ca\",\"c70e4a1ff6\",\"c7cf496081\",\"c8204b61a0\",\"c866397492\",\"c86c28bc7f\",\"c9022f09af\",\"c904bf35a8\",\"c92cb2e84f\",\"c9482934c6\",\"c95c428e97\",\"c9c7a6813c\",\"c9f73c2b7c\",\"c9fe65e744\",\"ca18450ce8\",\"ca5472e11c\",\"cabf05c7f1\",\"cb0b70bdd1\",\"cc7315d55f\",\"cc811be5c9\",\"ccc805d0ea\",\"ccd9e42384\",\"cd28e02661\",\"cd33d508f3\",\"cdc44679b8\",\"cdf570e89f\",\"ce6b2fe535\",\"cec828aaf0\",\"cf076a3cd7\",\"cf0c5c746c\",\"cf8452348d\",\"cfbac7d66f\",\"d023dfee2f\",\"d06a3433e8\",\"d084b5928f\",\"d16773ca56\",\"d18a3a1458\",\"d1c1b300ea\",\"d254594c83\",\"d2a021c4a8\",\"d2a92d3d53\",\"d31e21b11c\",\"d366859fb9\",\"d3a0e2c9ab\",\"d3a7e53559\",\"d3b72ca98a\",\"d3d28812b9\",\"d402fa9360\",\"d48ee3ad5d\",\"d57eb480c4\",\"d5902cb842\",\"d5ce38ef42\",\"d63c1c2f17\",\"d6e3d03759\",\"d72f51ff28\",\"d77a137059\",\"d78f0f0904\",\"d79da4da9d\",\"d7c6d60f0a\",\"d7c89c208e\",\"d811c151ff\",\"d81ca244ef\",\"d853f8e517\",\"d8ea00252c\",\"d8f2cb09d7\",\"d901f4a5a4\",\"d92c48d323\",\"d950545e43\",\"da3b0d90cb\",\"da82d92de0\",\"da89f41b60\",\"dacd9048ab\",\"dad7fee506\",\"db244df741\",\"db2939cd37\",\"db3473f978\",\"db8aa735c4\",\"dbda89a5af\",\"dbdb84400a\",\"dbe12a4ad5\",\"dc7e9fae79\",\"dc980553f8\",\"dcd732f69e\",\"dce5271a52\",\"dd172b5dc2\",\"dd201bae61\",\"dd9b5d9ee0\",\"ddb699e902\",\"ddfbb55c30\",\"de32c3b688\",\"de5038c20d\",\"ded2758ec0\",\"df0661c319\",\"df43e15824\",\"dfaed09380\",\"dfb5d6574f\",\"dfedd6a556\",\"e0046db0e4\",\"e016251208\",\"e06312d1b3\",\"e0786875f2\",\"e0dc6528b4\",\"e1a1ecb9c1\",\"e224845bd6\",\"e2420c4ff4\",\"e260554535\",\"e33c2c85fd\",\"e35bc46e21\",\"e35f043dce\",\"e3a5dad16b\",\"e3c03c2fed\",\"e42848ab3a\",\"e43c2efc4e\",\"e4834b7591\",\"e4de6e5cec\",\"e4e6251e5c\",\"e50276370a\",\"e545b86a3d\",\"e5a869b651\",\"e602ba8d82\",\"e62a86caa5\",\"e656fb7ff3\",\"e69461eec3\",\"e73a61ccbe\",\"e76dad2d9a\",\"e76f712485\",\"e7efcd5c22\",\"e803ed7eb5\",\"e8059b0d90\",\"e80c1b850a\",\"e86755240e\",\"e8683a190b\",\"e89f98927a\",\"e92b5efacf\",\"ea0f5aa4fa\",\"ea4dcdf09e\",\"ea5346502e\",\"ea5ae42ba8\",\"eaa6c9c0f2\",\"ead7d2f005\",\"eaf41e1229\",\"eb2b5f6887\",\"eb367d4210\",\"eb481fc726\",\"eb80560bd1\",\"eb8340e009\",\"ebf8429595\",\"ec6aae5cfa\",\"eca05a8017\",\"ecdd9cce5b\",\"ece39da87d\",\"ed10e85f9f\",\"edca190692\",\"ee1fc096af\",\"ee57a65745\",\"ee70620c25\",\"eee5a1a574\",\"ef25c42df3\",\"ef435b0d6b\",\"f018bae581\",\"f02f6aeb37\",\"f05f13f29d\",\"f076c87429\",\"f0910a52ef\",\"f0956234d6\",\"f0e8ca9199\",\"f12dd8c607\",\"f139114260\",\"f181b2a03a\",\"f190117323\",\"f1a82799c4\",\"f1b60e553d\",\"f1c17997a7\",\"f24176f079\",\"f2a18b4443\",\"f2bb18819d\",\"f2bdd4fb30\",\"f2ea268610\",\"f330ea6eec\",\"f3518c8229\",\"f452d2e7f6\",\"f465d286ea\",\"f4786a4847\",\"f4dd72ff5e\",\"f5278969c7\",\"f528f7621b\",\"f53d380c80\",\"f54b905c4b\",\"f566c66f6f\",\"f58f0fbf1d\",\"f6671f5312\",\"f6a9e004a2\",\"f6de00fd9c\",\"f71bd14056\",\"f737cd6e7d\",\"f74dab3edf\",\"f74f6afc2c\",\"f757a1271f\",\"f7eaa1064a\",\"f7ede3d83a\",\"f803f8b20e\",\"f838eb4265\",\"f85fcd1ac6\",\"f878d0401b\",\"f8ea0ec1e5\",\"f8ee0f5982\",\"f9852cbb30\",\"f9d09e9c1d\",\"f9f2c5ceba\",\"f9f7cb8430\",\"fa32714ac9\",\"fa78a58cb7\",\"fb0525bd48\",\"fb2a6d23e6\",\"fb2d3e0d3a\",\"fb51dbcb2f\",\"fb604de767\",\"fc4e11df2e\",\"fc89f83000\",\"fd511859fe\",\"fd75b0b140\",\"fda26a7596\",\"fdc9502f76\",\"fdf2cfe026\",\"fe3ae983b8\",\"fe4bdeed08\",\"fe68be5a3d\",\"fec981503e\",\"ff1ea8a4fa\",\"ff3633834a\",\"ff89c7f54c\",\"ffb3c891c2\",\"ffde39a0da\",\"fff2c7c05d\"],\"index\":[0,1,2,3,4,5,6,7,8,9,10,11,12,13,14,15,16,17,18,19,20,21,22,23,24,25,26,27,28,29,30,31,32,33,34,35,36,37,38,39,40,41,42,43,44,45,46,47,48,49,50,51,52,53,54,55,56,57,58,59,60,61,62,63,64,65,66,67,68,69,70,71,72,73,74,75,76,77,78,79,80,81,82,83,84,85,86,87,88,89,90,91,92,93,94,95,96,97,98,99,100,101,102,103,104,105,106,107,108,109,110,111,112,113,114,115,116,117,118,119,120,121,122,123,124,125,126,127,128,129,130,131,132,133,134,135,136,137,138,139,140,141,142,143,144,145,146,147,148,149,150,151,152,153,154,155,156,157,158,159,160,161,162,163,164,165,166,167,168,169,170,171,172,173,174,175,176,177,178,179,180,181,182,183,184,185,186,187,188,189,190,191,192,193,194,195,196,197,198,199,200,201,202,203,204,205,206,207,208,209,210,211,212,213,214,215,216,217,218,219,220,221,222,223,224,225,226,227,228,229,230,231,232,233,234,235,236,237,238,239,240,241,242,243,244,245,246,247,248,249,250,251,252,253,254,255,256,257,258,259,260,261,262,263,264,265,266,267,268,269,270,271,272,273,274,275,276,277,278,279,280,281,282,283,284,285,286,287,288,289,290,291,292,293,294,295,296,297,298,299,300,301,302,303,304,305,306,307,308,309,310,311,312,313,314,315,316,317,318,319,320,321,322,323,324,325,326,327,328,329,330,331,332,333,334,335,336,337,338,339,340,341,342,343,344,345,346,347,348,349,350,351,352,353,354,355,356,357,358,359,360,361,362,363,364,365,366,367,368,369,370,371,372,373,374,375,376,377,378,379,380,381,382,383,384,385,386,387,388,389,390,391,392,393,394,395,396,397,398,399,400,401,402,403,404,405,406,407,408,409,410,411,412,413,414,415,416,417,418,419,420,421,422,423,424,425,426,427,428,429,430,431,432,433,434,435,436,437,438,439,440,441,442,443,444,445,446,447,448,449,450,451,452,453,454,455,456,457,458,459,460,461,462,463,464,465,466,467,468,469,470,471,472,473,474,475,476,477,478,479,480,481,482,483,484,485,486,487,488,489,490,491,492,493,494,495,496,497,498,499,500,501,502,503,504,505,506,507,508,509,510,511,512,513,514,515,516,517,518,519,520,521,522,523,524,525,526,527,528,529,530,531,532,533,534,535,536,537,538,539,540,541,542,543,544,545,546,547,548,549,550,551,552,553,554,555,556,557,558,559,560,561,562,563,564,565,566,567,568,569,570,571,572,573,574,575,576,577,578,579,580,581,582,583,584,585,586,587,588,589,590,591,592,593,594,595,596,597,598,599,600,601,602,603,604,605,606,607,608,609,610,611,612,613,614,615,616,617,618,619,620,621,622,623,624,625,626,627,628,629,630,631,632,633,634,635,636,637,638,639,640,641,642,643,644,645,646,647,648,649,650,651,652,653,654,655,656,657,658,659,660,661,662,663,664,665,666,667,668,669,670,671,672,673,674,675,676,677,678,679,680,681,682,683,684,685,686,687,688,689,690,691,692,693,694,695,696,697,698,699,700,701,702,703,704,705,706,707,708,709,710,711,712,713,714,715,716,717,718,719,720,721,722,723,724,725,726,727,728,729,730,731,732,733,734,735,736,737,738,739,740,741,742,743,744,745,746,747,748,749,750,751,752,753,754,755,756,757,758,759,760,761,762,763,764,765,766,767,768,769,770,771,772,773,774,775,776,777,778,779,780,781,782,783,784,785,786,787,788,789,790,791,792,793,794,795,796,797,798,799,800,801,802,803,804,805,806,807,808,809,810,811,812,813,814,815,816,817,818,819,820,821,822,823,824,825,826,827,828,829,830,831,832,833,834,835,836,837,838,839,840,841,842,843,844,845,846,847,848,849,850,851,852,853,854,855,856,857,858,859,860,861,862,863,864,865,866,867,868,869,870,871,872,873,874,875,876,877,878,879,880,881,882,883,884,885,886,887,888,889,890,891,892,893,894,895,896,897,898,899,900,901,902,903,904,905,906,907,908,909,910,911,912,913,914,915,916,917,918,919,920,921,922,923,924,925,926,927,928,929,930,931,932,933,934,935,936,937,938,939,940,941,942,943,944,945,946,947,948,949,950,951,952,953,954,955,956,957,958,959,960,961,962,963,964,965,966,967,968,969,970,971,972,973,974,975,976,977,978,979,980,981,982,983,984,985,986,987,988,989,990,991,992,993,994,995,996,997,998,999],\"x\":{\"__ndarray__\":\"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\",\"dtype\":\"float32\",\"order\":\"little\",\"shape\":[1000]},\"y\":{\"__ndarray__\":\"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\",\"dtype\":\"float32\",\"order\":\"little\",\"shape\":[1000]}},\"selected\":{\"id\":\"6453\"},\"selection_policy\":{\"id\":\"6704\"}},\"id\":\"6440\",\"type\":\"ColumnDataSource\"},{\"attributes\":{\"js_property_callbacks\":{\"change:indices\":[{\"id\":\"6454\"}]}},\"id\":\"6453\",\"type\":\"Selection\"},{\"attributes\":{},\"id\":\"6694\",\"type\":\"AllLabels\"},{\"attributes\":{\"columns\":[{\"id\":\"6448\"},{\"id\":\"6449\"}],\"source\":{\"id\":\"6447\"},\"view\":{\"id\":\"6452\"}},\"id\":\"6450\",\"type\":\"DataTable\"},{\"attributes\":{},\"id\":\"6704\",\"type\":\"UnionRenderers\"},{\"attributes\":{\"axis\":{\"id\":\"6424\"},\"coordinates\":null,\"dimension\":1,\"group\":null,\"ticker\":null},\"id\":\"6427\",\"type\":\"Grid\"},{\"attributes\":{\"coordinates\":null,\"fill_alpha\":0.5,\"fill_color\":\"lightgrey\",\"group\":null,\"level\":\"overlay\",\"line_alpha\":1.0,\"line_color\":\"black\",\"line_dash\":[4,4],\"line_width\":2,\"syncable\":false,\"xs_units\":\"screen\",\"ys_units\":\"screen\"},\"id\":\"6432\",\"type\":\"PolyAnnotation\"},{\"attributes\":{\"callback\":null,\"tooltips\":\"\\n<div>\\n    <div>\\n        <span style='font-size: 16px; color: #224499'>Recipe: @id</span>\\n        <span style='font-size: 18px'>@food</span>\\n    </div>\\n</div>\\n\"},\"id\":\"6438\",\"type\":\"HoverTool\"},{\"attributes\":{},\"id\":\"6430\",\"type\":\"ResetTool\"},{\"attributes\":{},\"id\":\"6701\",\"type\":\"StringEditor\"},{\"attributes\":{\"fill_alpha\":{\"value\":0.1},\"fill_color\":{\"value\":\"#1f77b4\"},\"hatch_alpha\":{\"value\":0.1},\"line_alpha\":{\"value\":0.1},\"line_color\":{\"value\":\"#1f77b4\"},\"size\":{\"value\":6},\"x\":{\"field\":\"x\"},\"y\":{\"field\":\"y\"}},\"id\":\"6443\",\"type\":\"Circle\"},{\"attributes\":{},\"id\":\"6697\",\"type\":\"AllLabels\"},{\"attributes\":{},\"id\":\"6429\",\"type\":\"WheelZoomTool\"},{\"attributes\":{},\"id\":\"6702\",\"type\":\"UnionRenderers\"},{\"attributes\":{\"overlay\":{\"id\":\"6432\"}},\"id\":\"6431\",\"type\":\"LassoSelectTool\"},{\"attributes\":{},\"id\":\"6696\",\"type\":\"BasicTickFormatter\"},{\"attributes\":{\"tools\":[{\"id\":\"6428\"},{\"id\":\"6429\"},{\"id\":\"6430\"},{\"id\":\"6431\"},{\"id\":\"6438\"}]},\"id\":\"6433\",\"type\":\"Toolbar\"},{\"attributes\":{\"coordinates\":null,\"data_source\":{\"id\":\"6440\"},\"glyph\":{\"id\":\"6442\"},\"group\":null,\"hover_glyph\":null,\"muted_glyph\":{\"id\":\"6444\"},\"nonselection_glyph\":{\"id\":\"6443\"},\"view\":{\"id\":\"6446\"}},\"id\":\"6445\",\"type\":\"GlyphRenderer\"}],\"root_ids\":[\"6455\"]},\"title\":\"Bokeh Application\",\"version\":\"2.4.1\"}};\n",
       "  const render_items = [{\"docid\":\"0929c33a-40e3-447e-b4a7-ea882b021539\",\"root_ids\":[\"6455\"],\"roots\":{\"6455\":\"e027b6f1-0d5e-4510-ba78-d82c529520cc\"}}];\n",
       "  root.Bokeh.embed.embed_items_notebook(docs_json, render_items);\n",
       "\n",
       "  }\n",
       "  if (root.Bokeh !== undefined) {\n",
       "    embed_document(root);\n",
       "  } else {\n",
       "    let attempts = 0;\n",
       "    const timer = setInterval(function(root) {\n",
       "      if (root.Bokeh !== undefined) {\n",
       "        clearInterval(timer);\n",
       "        embed_document(root);\n",
       "      } else {\n",
       "        attempts++;\n",
       "        if (attempts > 100) {\n",
       "          clearInterval(timer);\n",
       "          console.log(\"Bokeh: ERROR: Unable to run BokehJS code because BokehJS library is missing\");\n",
       "        }\n",
       "      }\n",
       "    }, 10, root)\n",
       "  }\n",
       "})(window);"
      ],
      "application/vnd.bokehjs_exec.v0+json": ""
     },
     "metadata": {
      "application/vnd.bokehjs_exec.v0+json": {
       "id": "6455"
      }
     },
     "output_type": "display_data"
    }
   ],
   "source": [
    "p1 = figure(\n",
    "    title='UMAP projection of the Flavor Space',\n",
    "    plot_width=800,\n",
    "    plot_height=800,\n",
    "    tools=('pan, wheel_zoom, reset, lasso_select')\n",
    ")\n",
    "\n",
    "p1.add_tools(HoverTool(tooltips=\"\"\"\n",
    "<div>\n",
    "    <div>\n",
    "        <span style='font-size: 16px; color: #224499'>Recipe: @id</span>\n",
    "        <span style='font-size: 18px'>@food</span>\n",
    "    </div>\n",
    "</div>\n",
    "\"\"\"))\n",
    "\n",
    "\n",
    "s1 = ColumnDataSource(projection_df)\n",
    "p1.circle(\n",
    "    'x',\n",
    "    'y',\n",
    "    source=s1,\n",
    "#     color=dict(field='digit', transform=color_mapping),\n",
    "    line_alpha=0.6,\n",
    "    fill_alpha=0.6,\n",
    "    size=6\n",
    ")\n",
    "\n",
    "s2 = ColumnDataSource(dict(id=[],food=[]))\n",
    "p2 = DataTable(source=s2, columns=[\n",
    "    TableColumn(field='id'),\n",
    "    TableColumn(field='food')\n",
    "])\n",
    "\n",
    "s1.selected.js_on_change('indices', \n",
    "     CustomJS(args=dict(s1=s1, s2=s2), \n",
    "              code=\"\"\"\n",
    "                var selected_indexes = cb_obj.indices;\n",
    "                s2.data['id'] = [];\n",
    "                s2.data['food'] = [];\n",
    "                for (let i=0;i<selected_indexes.length;i++){\n",
    "                    s2.data['id'].push(s1.data['id'][selected_indexes[i]])\n",
    "                    s2.data['food'].push(s1.data['food'][selected_indexes[i]])\n",
    "                }                \n",
    "                var kernel = IPython.notebook.kernel;\n",
    "                IPython.notebook.kernel.execute(\"selected_indexes = \" + selected_indexes);\n",
    "                s2.change.emit();\n",
    "                \"\"\"\n",
    "             )\n",
    ")\n",
    "\n",
    "\n",
    "layout = column(p1, p2)\n",
    "show(layout)"
   ]
  },
  {
   "cell_type": "code",
   "execution_count": 153,
   "id": "a0a3fda9",
   "metadata": {
    "ExecuteTime": {
     "end_time": "2021-11-19T03:00:31.470383Z",
     "start_time": "2021-11-19T03:00:31.466978Z"
    }
   },
   "outputs": [
    {
     "data": {
      "text/plain": [
       "[]"
      ]
     },
     "execution_count": 153,
     "metadata": {},
     "output_type": "execute_result"
    }
   ],
   "source": [
    "selected_indexes"
   ]
  },
  {
   "cell_type": "code",
   "execution_count": null,
   "id": "7e812478",
   "metadata": {},
   "outputs": [],
   "source": []
  }
 ],
 "metadata": {
  "kernelspec": {
   "display_name": "Python 3 (ipykernel)",
   "language": "python",
   "name": "python3"
  },
  "language_info": {
   "codemirror_mode": {
    "name": "ipython",
    "version": 3
   },
   "file_extension": ".py",
   "mimetype": "text/x-python",
   "name": "python",
   "nbconvert_exporter": "python",
   "pygments_lexer": "ipython3",
   "version": "3.9.7"
  }
 },
 "nbformat": 4,
 "nbformat_minor": 5
}

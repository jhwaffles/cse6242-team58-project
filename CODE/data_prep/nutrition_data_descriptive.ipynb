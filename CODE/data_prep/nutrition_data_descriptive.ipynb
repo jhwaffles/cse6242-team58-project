{
 "cells": [
  {
   "cell_type": "markdown",
   "metadata": {},
   "source": [
    "# Nutrition Data"
   ]
  },
  {
   "cell_type": "code",
   "execution_count": 27,
   "metadata": {},
   "outputs": [],
   "source": [
    "import json\n",
    "import numpy as np\n",
    "import collections\n",
    "import random\n",
    "import re\n",
    "import pandas as pd\n",
    "from matplotlib import pyplot"
   ]
  },
  {
   "cell_type": "code",
   "execution_count": 3,
   "metadata": {},
   "outputs": [],
   "source": [
    "# Opening JSON file\n",
    "# returns JSON object as a dictionary\n",
    "f = open('1M_recipes_with_nutritional_info.json',)\n",
    "data = json.load(f)"
   ]
  },
  {
   "cell_type": "code",
   "execution_count": 4,
   "metadata": {},
   "outputs": [
    {
     "data": {
      "text/plain": [
       "51235"
      ]
     },
     "execution_count": 4,
     "metadata": {},
     "output_type": "execute_result"
    }
   ],
   "source": [
    "len(data)"
   ]
  },
  {
   "cell_type": "markdown",
   "metadata": {},
   "source": [
    "The 1M+ paper said they obtained 50,637 recipe with nutritional inforamtion. The length of the '1M_recipes_with_nutritional_info.json' file, however, is 51,235."
   ]
  },
  {
   "cell_type": "markdown",
   "metadata": {},
   "source": [
    "### Data Distribution"
   ]
  },
  {
   "cell_type": "code",
   "execution_count": 49,
   "metadata": {},
   "outputs": [],
   "source": [
    "def NtrDataFlat(df, key):\n",
    "    ntr_temp = df[key]\n",
    "    df_ntr = pd.DataFrame.from_dict({(i): ntr_temp[i] for i in ntr_temp.keys()}, orient='index')\n",
    "    return df.merge(df_ntr, left_index=True, right_index=True)"
   ]
  },
  {
   "cell_type": "code",
   "execution_count": 53,
   "metadata": {},
   "outputs": [],
   "source": [
    "# iterate to take nutrition data\n",
    "## nutrition = list of dictionary for nurient data\n",
    "## fsa = fsa_lights_per100g\n",
    "## df_ntr = panda table of nutrition\n",
    "\n",
    "nutrition = []\n",
    "for i in range(0,len(data)):\n",
    "    dic = {'id':None, 'nutr_values_per100g':None}\n",
    "    dic['id'] = data[i]['id']\n",
    "    dic['nutr_values_per100g'] = data[i][\"nutr_values_per100g\"]\n",
    "    nutrition.append(dic)\n",
    "\n",
    "fsa = []\n",
    "for i in range(0,len(data)):\n",
    "    dic = {'id':None, 'fsa_lights_per100g':None}\n",
    "    dic['id'] = data[i]['id']\n",
    "    dic['fsa_lights_per100g'] = data[i][\"fsa_lights_per100g\"]\n",
    "    fsa.append(dic)\n",
    "    \n",
    "df_ntr = NtrDataFlat(pd.DataFrame.from_dict(nutrition), \"nutr_values_per100g\")\n",
    "df_fsa = NtrDataFlat(pd.DataFrame.from_dict(fsa), \"fsa_lights_per100g\")"
   ]
  },
  {
   "cell_type": "code",
   "execution_count": 52,
   "metadata": {},
   "outputs": [
    {
     "data": {
      "text/html": [
       "<div>\n",
       "<style scoped>\n",
       "    .dataframe tbody tr th:only-of-type {\n",
       "        vertical-align: middle;\n",
       "    }\n",
       "\n",
       "    .dataframe tbody tr th {\n",
       "        vertical-align: top;\n",
       "    }\n",
       "\n",
       "    .dataframe thead th {\n",
       "        text-align: right;\n",
       "    }\n",
       "</style>\n",
       "<table border=\"1\" class=\"dataframe\">\n",
       "  <thead>\n",
       "    <tr style=\"text-align: right;\">\n",
       "      <th></th>\n",
       "      <th>id</th>\n",
       "      <th>nutr_values_per100g</th>\n",
       "      <th>energy</th>\n",
       "      <th>fat</th>\n",
       "      <th>protein</th>\n",
       "      <th>salt</th>\n",
       "      <th>saturates</th>\n",
       "      <th>sugars</th>\n",
       "    </tr>\n",
       "  </thead>\n",
       "  <tbody>\n",
       "    <tr>\n",
       "      <td>0</td>\n",
       "      <td>000095fc1d</td>\n",
       "      <td>{'energy': 81.12946131894766, 'fat': 2.1401392...</td>\n",
       "      <td>81.129461</td>\n",
       "      <td>2.140139</td>\n",
       "      <td>6.914437</td>\n",
       "      <td>0.055978</td>\n",
       "      <td>0.365347</td>\n",
       "      <td>5.086341</td>\n",
       "    </tr>\n",
       "    <tr>\n",
       "      <td>1</td>\n",
       "      <td>00051d5b9d</td>\n",
       "      <td>{'energy': 477.09640393594606, 'fat': 23.41248...</td>\n",
       "      <td>477.096404</td>\n",
       "      <td>23.412486</td>\n",
       "      <td>7.625492</td>\n",
       "      <td>0.548621</td>\n",
       "      <td>3.425054</td>\n",
       "      <td>14.298443</td>\n",
       "    </tr>\n",
       "  </tbody>\n",
       "</table>\n",
       "</div>"
      ],
      "text/plain": [
       "           id                                nutr_values_per100g      energy  \\\n",
       "0  000095fc1d  {'energy': 81.12946131894766, 'fat': 2.1401392...   81.129461   \n",
       "1  00051d5b9d  {'energy': 477.09640393594606, 'fat': 23.41248...  477.096404   \n",
       "\n",
       "         fat   protein      salt  saturates     sugars  \n",
       "0   2.140139  6.914437  0.055978   0.365347   5.086341  \n",
       "1  23.412486  7.625492  0.548621   3.425054  14.298443  "
      ]
     },
     "execution_count": 52,
     "metadata": {},
     "output_type": "execute_result"
    }
   ],
   "source": [
    "df_ntr.head(2)"
   ]
  },
  {
   "cell_type": "code",
   "execution_count": 51,
   "metadata": {},
   "outputs": [
    {
     "data": {
      "text/html": [
       "<div>\n",
       "<style scoped>\n",
       "    .dataframe tbody tr th:only-of-type {\n",
       "        vertical-align: middle;\n",
       "    }\n",
       "\n",
       "    .dataframe tbody tr th {\n",
       "        vertical-align: top;\n",
       "    }\n",
       "\n",
       "    .dataframe thead th {\n",
       "        text-align: right;\n",
       "    }\n",
       "</style>\n",
       "<table border=\"1\" class=\"dataframe\">\n",
       "  <thead>\n",
       "    <tr style=\"text-align: right;\">\n",
       "      <th></th>\n",
       "      <th>id</th>\n",
       "      <th>fsa_lights_per100g</th>\n",
       "      <th>fat</th>\n",
       "      <th>salt</th>\n",
       "      <th>saturates</th>\n",
       "      <th>sugars</th>\n",
       "    </tr>\n",
       "  </thead>\n",
       "  <tbody>\n",
       "    <tr>\n",
       "      <td>0</td>\n",
       "      <td>000095fc1d</td>\n",
       "      <td>{'fat': 'green', 'salt': 'green', 'saturates':...</td>\n",
       "      <td>green</td>\n",
       "      <td>green</td>\n",
       "      <td>green</td>\n",
       "      <td>orange</td>\n",
       "    </tr>\n",
       "    <tr>\n",
       "      <td>1</td>\n",
       "      <td>00051d5b9d</td>\n",
       "      <td>{'fat': 'red', 'salt': 'orange', 'saturates': ...</td>\n",
       "      <td>red</td>\n",
       "      <td>orange</td>\n",
       "      <td>orange</td>\n",
       "      <td>orange</td>\n",
       "    </tr>\n",
       "  </tbody>\n",
       "</table>\n",
       "</div>"
      ],
      "text/plain": [
       "           id                                 fsa_lights_per100g    fat  \\\n",
       "0  000095fc1d  {'fat': 'green', 'salt': 'green', 'saturates':...  green   \n",
       "1  00051d5b9d  {'fat': 'red', 'salt': 'orange', 'saturates': ...    red   \n",
       "\n",
       "     salt saturates  sugars  \n",
       "0   green     green  orange  \n",
       "1  orange    orange  orange  "
      ]
     },
     "execution_count": 51,
     "metadata": {},
     "output_type": "execute_result"
    }
   ],
   "source": [
    "df_fsa.head(2)"
   ]
  },
  {
   "cell_type": "code",
   "execution_count": 39,
   "metadata": {},
   "outputs": [
    {
     "data": {
      "image/png": "[encoded data removed]",
      "text/plain": [
       "<Figure size 432x288 with 36 Axes>"
      ]
     },
     "metadata": {
      "needs_background": "light"
     },
     "output_type": "display_data"
    }
   ],
   "source": [
    "#plot distribution -- origianl\n",
    "pd.plotting.scatter_matrix(df_ntr[['energy','fat','protein','salt','saturates','sugars']], alpha=0.2);"
   ]
  },
  {
   "cell_type": "markdown",
   "metadata": {},
   "source": []
  },
  {
   "cell_type": "markdown",
   "metadata": {},
   "source": [
    "### Error Data Check\n",
    "When checking the recipe with very extreme nutrient nutrient value, we found that some of the nutrition data doesn't seems right. For example, recipe 40b429f72d Canned Venison contains only nutrient value for salt while the actual nutrient value in the origianl website shows high protein value as well."
   ]
  },
  {
   "cell_type": "code",
   "execution_count": 86,
   "metadata": {},
   "outputs": [],
   "source": [
    "# save the nutrition_per_100g as 0 and 1 list\n",
    "## 1 = with values > 0\n",
    "\n",
    "list_id = []\n",
    "list_nutr = []\n",
    "\n",
    "for dic in nutrition:\n",
    "    for k, v in dic.items():\n",
    "        if k == 'id':\n",
    "            list_id.append(v)\n",
    "        else:\n",
    "            list_nutr.append(list(v.values()))            \n",
    "\n",
    "# turn the list to 1/0\n",
    "list_nutr = [[1 if x > 0 else 0 for x in l] for l in list_nutr] "
   ]
  },
  {
   "cell_type": "code",
   "execution_count": 87,
   "metadata": {},
   "outputs": [
    {
     "data": {
      "text/plain": [
       "Counter({6: 49941, 3: 309, 4: 207, 5: 691, 1: 52, 2: 35})"
      ]
     },
     "execution_count": 87,
     "metadata": {},
     "output_type": "execute_result"
    }
   ],
   "source": [
    "# count the number of none-null nutrition values\n",
    "nutr_sum = []\n",
    "for i in list_nutr:\n",
    "    s = sum(i)\n",
    "    nutr_sum.append(s)\n",
    "    \n",
    "# frequency\n",
    "counter = collections.Counter(nutr_sum)\n",
    "counter"
   ]
  },
  {
   "cell_type": "markdown",
   "metadata": {},
   "source": [
    "Amount the 51,235 nutrition data: 52 records with only 1 nutrient value; 35 records with only 2 nutrient value. Below is the list of recipe title which the recipe only contain single nutrition value. There are some non-recipe instruction somehow occur in the recipe website and thus pulled into the 1M+ data (such as Nif's Anti-Itching Cream).\n",
    "</br>\n",
    "\n",
    "Below is the list of recipe name with only one nutrient value available. "
   ]
  },
  {
   "cell_type": "code",
   "execution_count": 89,
   "metadata": {},
   "outputs": [
    {
     "name": "stdout",
     "output_type": "stream",
     "text": [
      "Blueberry Ice Tea Recipe\n",
      "Ice Cubes\n",
      "Nif's Anti-Itching Cream (Paste)\n",
      "Salts 'n' Soda Bath Soak\n",
      "Boiled Crawfish (Spiny Lobster Tails) Recipe\n",
      "Recipe no longer on file Recipe aricat\n",
      "Homemade Saline Nose Drops\n",
      "Neti Pot Saline Solution\n",
      "Homemade Candied Citrus Peel\n",
      "Canned Venison Recipe\n",
      "Eating Out\n",
      "Easy Homemade Mouthwash!\n",
      "Ice Cubes\n",
      "Homemade Nose Drops\n",
      "Simple Mosquito Bite Remedy\n",
      "Salt Water Flush\n",
      "How To Proof Bread Dough (Rise)\n",
      "Eating Out\n",
      "Salt Dough Ornaments Recipe\n",
      "Salted Boiling Water - What Does It Mean?\n",
      "Sea Salt\n",
      "Heartburn Remedy\n",
      "Beef Tea (British) Recipe\n",
      "Sweeten the Catch\n",
      "Bubble Gum Ice Tea Recipe\n",
      "Cashew Milk and Cashew Flour\n",
      "How to Boil Corn on the Cob\n",
      "Coconut Water Kefir\n",
      "Drip Coffee Maker Cleaner\n",
      "Leftovers\n",
      "Brining Solution for Poultry and Meat\n",
      "Salt Soup\n",
      "Beef Roasted In Salt Crust Recipe\n",
      "Sea Cure for Pimples\n",
      "Ice Cubes\n",
      "My Easy Cure to an Oncoming Cough and Cold\n",
      "Leftovers\n",
      "Soda Pop Ice\n",
      "Blueberry Ice Tea Recipe\n",
      "Tap Water\n",
      "Sore Throat Gargle\n",
      "Hibiscus Granita\n",
      "Bee or Wasp Sting Soother\n",
      "Homemade No Color Strip Cleansing Shampoo\n",
      "Easy Weed Killer\n",
      "Old Fashioned Mouthwash\n",
      "Ice for Cocktails\n",
      "Leftovers\n",
      "Beef Ravioli (Frozen) Recipe\n",
      "Boiled Water\n",
      "Apple Brandy Highball Recipe\n",
      "Eating Out\n"
     ]
    }
   ],
   "source": [
    "# get the name of recipe with only 1 nutrition value\n",
    "index_nutr_val_one = [i for i, e in enumerate(nutr_sum) if e == 1]\n",
    "\n",
    "for idx in index_nutr_val_one:\n",
    "    recp_id = list_id[idx]\n",
    "    for dic in data:\n",
    "        if dic['id'] == recp_id:\n",
    "            print(dic['title'])"
   ]
  },
  {
   "cell_type": "markdown",
   "metadata": {},
   "source": [
    "### Estimating Error Size\n",
    "\n",
    "The nutrition data in 1M+ generated by extracting the recipe ingredients and merge the nutritent contents of each indredient from USDA witht he recipe ingredients. From the source recipe, only ingredients with \"amount-unit-ingredient name\" format are extracted to the 1M data set. Therefore, for recipe without such ingredient format, those ingredient will not be extracted to the data set. \n",
    "\n",
    "Take 382 (~400) random samples from the 5,1235 recipes. Search for the number of ingredients not listed in the ingredient list but does show in the instruction."
   ]
  },
  {
   "cell_type": "code",
   "execution_count": 90,
   "metadata": {},
   "outputs": [],
   "source": [
    "random.seed(10)\n",
    "samp_data = random.sample(data,400)"
   ]
  },
  {
   "cell_type": "code",
   "execution_count": 92,
   "metadata": {},
   "outputs": [],
   "source": [
    "#export to excel\n",
    "#dic_instr = FindUnmatchWord(samp_data)\n",
    "\n",
    "dict_url = {}\n",
    "for dicts in samp_data:\n",
    "    ids = dicts['id']\n",
    "    dict_url[ids] = dicts['url']\n",
    "\n",
    "import csv\n",
    "\n",
    "with open('sample_url.csv', 'w') as f:\n",
    "    for key in dict_url.keys():\n",
    "        f.write(\"%s,%s\\n\"%(key,dict_url[key]))"
   ]
  },
  {
   "cell_type": "markdown",
   "metadata": {},
   "source": [
    "By looking more detail into the recipe, we found that all the recipe from www.food.com if having ingredient amount in a fraction (1/2, 1/3, etc. ), the number was pulled missing the \"/\". That is 1/2 will become 12. And www.food.com contributes about 55% of the total recipes."
   ]
  },
  {
   "cell_type": "markdown",
   "metadata": {},
   "source": [
    "## Healthiness Ranking\n",
    "\n",
    "### UK FSA Traffic Light Label System\n",
    "\n",
    "The 1M+ recipe data includes a FSA traffic light label for each recipe. The traffic light nutrition lebeling system was introduced in 2013 by UK Health Ministers. The voluntary multiple traffic light label (MTL) is a colour-coded system which shows at a glance whether a product is high (**red**) medium (**amber**) or low (**green**) in *fat*, *saturated fat*, *salt* and *sugars*.\n",
    "</br>\n",
    "\n",
    "The traffic light label can also be converted into a single score to indicate the overall healthy level of a sprcific food. The procedure developed by Sacks et al. assign an integer value to each color (green=1, amber=2, and red=3) then sum the score for each macro-nutrient resulting in a final range from 4 (very healthy food) to 12 (very unhealthy food)."
   ]
  },
  {
   "cell_type": "code",
   "execution_count": 115,
   "metadata": {},
   "outputs": [
    {
     "data": {
      "text/html": [
       "<div>\n",
       "<style scoped>\n",
       "    .dataframe tbody tr th:only-of-type {\n",
       "        vertical-align: middle;\n",
       "    }\n",
       "\n",
       "    .dataframe tbody tr th {\n",
       "        vertical-align: top;\n",
       "    }\n",
       "\n",
       "    .dataframe thead th {\n",
       "        text-align: right;\n",
       "    }\n",
       "</style>\n",
       "<table border=\"1\" class=\"dataframe\">\n",
       "  <thead>\n",
       "    <tr style=\"text-align: right;\">\n",
       "      <th></th>\n",
       "      <th>freq</th>\n",
       "      <th>%</th>\n",
       "    </tr>\n",
       "  </thead>\n",
       "  <tbody>\n",
       "    <tr>\n",
       "      <td>4</td>\n",
       "      <td>3254</td>\n",
       "      <td>6.351127</td>\n",
       "    </tr>\n",
       "    <tr>\n",
       "      <td>5</td>\n",
       "      <td>5938</td>\n",
       "      <td>11.589734</td>\n",
       "    </tr>\n",
       "    <tr>\n",
       "      <td>6</td>\n",
       "      <td>9206</td>\n",
       "      <td>17.968186</td>\n",
       "    </tr>\n",
       "    <tr>\n",
       "      <td>7</td>\n",
       "      <td>6950</td>\n",
       "      <td>13.564946</td>\n",
       "    </tr>\n",
       "    <tr>\n",
       "      <td>8</td>\n",
       "      <td>8288</td>\n",
       "      <td>16.176442</td>\n",
       "    </tr>\n",
       "    <tr>\n",
       "      <td>9</td>\n",
       "      <td>7939</td>\n",
       "      <td>15.495267</td>\n",
       "    </tr>\n",
       "    <tr>\n",
       "      <td>10</td>\n",
       "      <td>7409</td>\n",
       "      <td>14.460818</td>\n",
       "    </tr>\n",
       "    <tr>\n",
       "      <td>11</td>\n",
       "      <td>1946</td>\n",
       "      <td>3.798185</td>\n",
       "    </tr>\n",
       "    <tr>\n",
       "      <td>12</td>\n",
       "      <td>305</td>\n",
       "      <td>0.595296</td>\n",
       "    </tr>\n",
       "  </tbody>\n",
       "</table>\n",
       "</div>"
      ],
      "text/plain": [
       "    freq          %\n",
       "4   3254   6.351127\n",
       "5   5938  11.589734\n",
       "6   9206  17.968186\n",
       "7   6950  13.564946\n",
       "8   8288  16.176442\n",
       "9   7939  15.495267\n",
       "10  7409  14.460818\n",
       "11  1946   3.798185\n",
       "12   305   0.595296"
      ]
     },
     "execution_count": 115,
     "metadata": {},
     "output_type": "execute_result"
    }
   ],
   "source": [
    "fsa_score = []\n",
    "for dicts in fsa:\n",
    "    light = dicts['fsa_lights_per100g']\n",
    "    score = 0\n",
    "    for k, v in light.items():\n",
    "        if v == 'green':\n",
    "            val = 1\n",
    "        elif v == 'orange':\n",
    "            val = 2\n",
    "        elif v == 'red':\n",
    "            val = 3\n",
    "        score = score + val\n",
    "    fsa_score.append(score)\n",
    "\n",
    "# frequency\n",
    "df_fsa_freq = pd.DataFrame.from_dict(collections.Counter(fsa_score), orient='index', columns=['freq'])\n",
    "df_fsa_freq['%'] = df_fsa_freq['freq']*100/51235\n",
    "df_fsa_freq.sort_index()"
   ]
  },
  {
   "cell_type": "markdown",
   "metadata": {},
   "source": [
    "However, this scoring method does not provide the flexibility to differenceite different types of diet preference such as Keto diet. Thus we need some alternative."
   ]
  },
  {
   "cell_type": "markdown",
   "metadata": {},
   "source": [
    "#### USA FDA %Daily Value\n",
    "\n",
    "The nutrition labeling in the US is present as the Daily nutrition value (DV) which are the recommended amounts of nutrients to consume or not to exceed each day. The %DV is how much a nutrient in a single serving of an individual packaged food or dietary supplement contributes to your daily diet. \n",
    "</br>\n",
    "\n",
    "FDA recommed to use %DV to determine if a serving of the food is high or low in an individual nutrient. As a general guide:\n",
    "* 5% DV or less of a nutrient per serving is considered low.\n",
    "* 20% DV or more of a nutrient per serving is considered high.\n",
    "\n",
    "The %DV can be considered as a standardized value to detemine whether a nutrient per serving is considered low or high. We can use this value to generate socring for different types of dietary needs."
   ]
  },
  {
   "cell_type": "code",
   "execution_count": null,
   "metadata": {},
   "outputs": [],
   "source": [
    "#set parameters\n",
    "parameter = [0,1,1,-1,-1,-1]\n",
    "\n",
    "ntr_score = np.array(df_fat)*c1+np.array(df_protein)*c2+np.array(df_salt)*c3+np.array(df_saturates)*c4+np.array(df_sugars)*c5"
   ]
  },
  {
   "cell_type": "code",
   "execution_count": null,
   "metadata": {},
   "outputs": [],
   "source": [
    "pyplot.hist(ntr_score, bins=50)"
   ]
  },
  {
   "cell_type": "code",
   "execution_count": null,
   "metadata": {},
   "outputs": [],
   "source": [
    "max_value = min(ntr_score)\n",
    "max_index = np.where(ntr_score == max_value)\n",
    "max_index\n",
    "#np.where(ntr_score < -16)\n",
    "#nutrition[max_index[0][0]]"
   ]
  },
  {
   "cell_type": "code",
   "execution_count": null,
   "metadata": {},
   "outputs": [],
   "source": [
    "# high score recipe\n",
    "high = [ 9513, 30012, 33157, 33993, 42662, 47297]\n",
    "for i in range(0,len(high)):\n",
    "    print(data[i]['title'])"
   ]
  },
  {
   "cell_type": "code",
   "execution_count": 105,
   "metadata": {},
   "outputs": [
    {
     "data": {
      "text/plain": [
       "{'fsa_lights_per100g': {'fat': 'orange',\n",
       "  'salt': 'green',\n",
       "  'saturates': 'red',\n",
       "  'sugars': 'red'},\n",
       " 'id': '04b63bdc75',\n",
       " 'ingredients': [{'text': 'rice, white, long-grain, regular, unenriched, cooked without salt'},\n",
       "  {'text': 'pretzels, soft, unsalted'},\n",
       "  {'text': 'nuts, cashew nuts, raw'},\n",
       "  {'text': 'vanilla extract'},\n",
       "  {'text': 'spartan, real semi-sweet chocolate baking chips, upc: 011213162966'}],\n",
       " 'instructions': [{'text': 'Mix cereal, pretzel, and cashews in large bowl; set aside.'},\n",
       "  {'text': 'Grease 13x9x2 baking dish or pan.'},\n",
       "  {'text': 'Melt candy coating in 2 quart saucepan over low heat, stirring constantly.'},\n",
       "  {'text': 'Pour over cereal mixture, stirring until evenly coated.'},\n",
       "  {'text': 'Press in pan; cool slightly.'},\n",
       "  {'text': 'Drizzle with melted chocolate chips.'},\n",
       "  {'text': 'Let stand until chocolate is firm.'},\n",
       "  {'text': 'Break into clusters.'}],\n",
       " 'nutr_per_ingredient': [{'fat': 1.76,\n",
       "   'nrg': 820.0,\n",
       "   'pro': 17.0,\n",
       "   'sat': 0.488,\n",
       "   'sod': 8.0,\n",
       "   'sug': 0.32},\n",
       "  {'fat': 2.79,\n",
       "   'nrg': 310.5,\n",
       "   'pro': 7.379999999999999,\n",
       "   'sat': 0.6255,\n",
       "   'sod': 226.8,\n",
       "   'sug': 0.225},\n",
       "  {'fat': 65.775,\n",
       "   'nrg': 829.5,\n",
       "   'pro': 27.330000000000002,\n",
       "   'sat': 11.674500000000002,\n",
       "   'sod': 18.0,\n",
       "   'sug': 8.865},\n",
       "  {'fat': 0.1360776,\n",
       "   'nrg': 653.17248,\n",
       "   'pro': 0.1360776,\n",
       "   'sat': 0.0226796,\n",
       "   'sod': 20.41164,\n",
       "   'sug': 28.689694},\n",
       "  {'fat': 560.0699999999999,\n",
       "   'nrg': 9807.0,\n",
       "   'pro': 140.07,\n",
       "   'sat': 350.07000000000005,\n",
       "   'sod': 0.0,\n",
       "   'sug': 1119.93}],\n",
       " 'nutr_values_per100g': {'energy': 388.27647902523324,\n",
       "  'fat': 19.711512631627645,\n",
       "  'protein': 5.99963478758883,\n",
       "  'salt': 0.021352693325863852,\n",
       "  'saturates': 11.344289526434322,\n",
       "  'sugars': 36.202048958420605},\n",
       " 'partition': 'train',\n",
       " 'quantity': [{'text': '4'},\n",
       "  {'text': '2'},\n",
       "  {'text': '1'},\n",
       "  {'text': '8'},\n",
       "  {'text': '12'}],\n",
       " 'title': 'White Candy Fantasy Clusters',\n",
       " 'unit': [{'text': 'cup'},\n",
       "  {'text': 'cup'},\n",
       "  {'text': 'cup'},\n",
       "  {'text': 'ounce'},\n",
       "  {'text': 'cup'}],\n",
       " 'url': 'http://www.food.com/recipe/white-candy-fantasy-clusters-215692',\n",
       " 'weight_per_ingr': [632.0, 90.0, 150.0, 226.796, 2100.0]}"
      ]
     },
     "execution_count": 105,
     "metadata": {},
     "output_type": "execute_result"
    }
   ],
   "source": [
    "next(item for item in data if item[\"id\"] == \"04b63bdc75\")"
   ]
  },
  {
   "cell_type": "code",
   "execution_count": null,
   "metadata": {},
   "outputs": [],
   "source": [
    "#next(item for item in data if item[\"id\"] == \"e06fdaf2eb\")"
   ]
  },
  {
   "cell_type": "code",
   "execution_count": null,
   "metadata": {},
   "outputs": [],
   "source": []
  }
 ],
 "metadata": {
  "kernelspec": {
   "display_name": "Python 3",
   "language": "python",
   "name": "python3"
  },
  "language_info": {
   "codemirror_mode": {
    "name": "ipython",
    "version": 3
   },
   "file_extension": ".py",
   "mimetype": "text/x-python",
   "name": "python",
   "nbconvert_exporter": "python",
   "pygments_lexer": "ipython3",
   "version": "3.7.1"
  }
 },
 "nbformat": 4,
 "nbformat_minor": 2
}
